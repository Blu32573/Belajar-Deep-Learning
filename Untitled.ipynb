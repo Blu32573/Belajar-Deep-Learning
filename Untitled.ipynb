{
 "cells": [
  {
   "cell_type": "code",
   "execution_count": 1,
   "id": "5b43885a-ecbd-4a32-baff-4e8e88534b3f",
   "metadata": {},
   "outputs": [],
   "source": [
    "import os\n",
    "import shutil\n",
    "import random\n",
    "import sys\n",
    "import cv2\n",
    "from ultralytics import YOLO"
   ]
  },
  {
   "cell_type": "code",
   "execution_count": 2,
   "id": "13b091c6-047f-420f-ab45-ad1ad8684b35",
   "metadata": {},
   "outputs": [],
   "source": [
    "data_dir = \"C:/Users/Owen/Downloads/Brain_tumor_od/Tumor/images\"\n",
    "labels_dir = \"C:/Users/Owen/Downloads/Brain_tumor_od/Tumor/labels\"\n",
    "train_dir =  \"C:/Users/Owen/Downloads/Brain_tumor_od/Tumor/images/Train\"\n",
    "test_dir =  \"C:/Users/Owen/Downloads/Brain_tumor_od/Tumor/images/Test\"\n",
    "train_labels_dir = \"C:/Users/Owen/Downloads/Brain_tumor_od/Tumor/labels/Train\"\n",
    "test_labels_dir = \"C:/Users/Owen/Downloads/Brain_tumor_od/Tumor/labels/Test\""
   ]
  },
  {
   "cell_type": "code",
   "execution_count": 3,
   "id": "a69b0675-78b1-4307-8806-3f5e8d4a287a",
   "metadata": {},
   "outputs": [
    {
     "name": "stdout",
     "output_type": "stream",
     "text": [
      "Total Train Images: 68\n",
      "Total Test Images: 18\n"
     ]
    }
   ],
   "source": [
    "data_dir = \"C:/Users/Owen/Downloads/Brain_tumor_od/Tumor/images\"\n",
    "labels_dir = \"C:/Users/Owen/Downloads/Brain_tumor_od/Tumor/labels\"\n",
    "train_dir =  \"C:/Users/Owen/Downloads/Brain_tumor_od/Tumor/images/Train\"\n",
    "test_dir =  \"C:/Users/Owen/Downloads/Brain_tumor_od/Tumor/images/Test\"\n",
    "train_labels_dir = \"C:/Users/Owen/Downloads/Brain_tumor_od/Tumor/labels/Train\"\n",
    "test_labels_dir = \"C:/Users/Owen/Downloads/Brain_tumor_od/Tumor/labels/Test\"\n",
    "\n",
    "# Pastikan folder tujuan ada\n",
    "os.makedirs(train_dir, exist_ok=True)\n",
    "os.makedirs(test_dir, exist_ok=True)\n",
    "os.makedirs(train_labels_dir, exist_ok=True)\n",
    "os.makedirs(test_labels_dir, exist_ok=True)\n",
    "\n",
    "# Dapatkan semua gambar\n",
    "all_images = [f for f in os.listdir(data_dir) if f.endswith(('.jpg', '.png', '.jpeg'))]\n",
    "\n",
    "# Acak urutan gambar\n",
    "random.shuffle(all_images)\n",
    "\n",
    "# Tentukan proporsi train-test (80%-20%)\n",
    "split_index = int(0.8 * len(all_images))\n",
    "train_images = all_images[:split_index]\n",
    "test_images = all_images[split_index:]\n",
    "\n",
    "# Fungsi untuk memindahkan gambar dan label yang sesuai\n",
    "def move_files(image_list, target_img_dir, target_label_dir):\n",
    "    for img in image_list:\n",
    "        # Pindahkan gambar\n",
    "        shutil.move(os.path.join(data_dir, img), os.path.join(target_img_dir, img))\n",
    "\n",
    "        # Pindahkan label jika ada\n",
    "        label_file = os.path.splitext(img)[0] + \".txt\"  # Ubah ekstensi ke .txt\n",
    "        label_path = os.path.join(labels_dir, label_file)\n",
    "\n",
    "        if os.path.exists(label_path):  # Cek apakah file label ada\n",
    "            shutil.move(label_path, os.path.join(target_label_dir, label_file))\n",
    "\n",
    "# Pindahkan train set\n",
    "move_files(train_images, train_dir, train_labels_dir)\n",
    "\n",
    "# Pindahkan test set\n",
    "move_files(test_images, test_dir, test_labels_dir)\n",
    "\n",
    "print(f\"Total Train Images: {len(train_images)}\")\n",
    "print(f\"Total Test Images: {len(test_images)}\")"
   ]
  },
  {
   "cell_type": "code",
   "execution_count": 11,
   "id": "181d0e76-0d77-4cef-9e8b-1d594da76258",
   "metadata": {},
   "outputs": [
    {
     "name": "stdout",
     "output_type": "stream",
     "text": [
      "Images Train jumlahnya : 99\n",
      "Images Test jumlahnya : 49\n"
     ]
    }
   ],
   "source": [
    "test = \"C:/Users/Owen/Downloads/Brain_tumor_od/Tumor/images/Test\"\n",
    "train =  \"C:/Users/Owen/Downloads/Brain_tumor_od/Tumor/images/Train\"\n",
    "\n",
    "train_imagess = [f for f in os.listdir(train) if f.endswith(('.jpg', '.png', '.jpeg', '.JPG', '.PNG'))]\n",
    "test_imagess = [f for f in os.listdir(test) if f.endswith(('.jpg', '.png', '.jpeg', '.JPG', '.PNG'))]\n",
    "\n",
    "print(f\"Images Train jumlahnya : {len(train_imagess)}\")\n",
    "print(f\"Images Test jumlahnya : {len(test_imagess)}\")"
   ]
  },
  {
   "cell_type": "code",
   "execution_count": 13,
   "id": "48097d9d-899c-4d90-a2c4-6712c7b4dcc1",
   "metadata": {},
   "outputs": [
    {
     "name": "stdout",
     "output_type": "stream",
     "text": [
      "Config file created at C:/Users/Owen/Downloads/Brain_tumor_od/Tumor/Tumor.yaml\n",
      "\n",
      "File contents:\n",
      "\n"
     ]
    },
    {
     "name": "stderr",
     "output_type": "stream",
     "text": [
      "'cat' is not recognized as an internal or external command,\n",
      "operable program or batch file.\n"
     ]
    }
   ],
   "source": [
    "import yaml\n",
    "import os\n",
    "\n",
    "def create_data_yaml(path_to_classes_txt, path_to_data_yaml):\n",
    "    # Cek apakah classes.txt ada\n",
    "    if not os.path.exists(path_to_classes_txt):\n",
    "        print(f'classes.txt file not found! Please create a classes.txt labelmap and move it to {path_to_classes_txt}')\n",
    "        return\n",
    "    \n",
    "    # Baca file classes.txt untuk mendapatkan daftar nama kelas\n",
    "    with open(path_to_classes_txt, 'r') as f:\n",
    "        classes = [line.strip() for line in f.readlines() if line.strip()]\n",
    "    \n",
    "    number_of_classes = len(classes)\n",
    "\n",
    "    # Buat dictionary konfigurasi YOLO\n",
    "    data = {\n",
    "        'path': \"C:/Users/Owen/Downloads/Brain_tumor_od/Tumor\",  # Path utama dataset\n",
    "        'train': \"C:/Users/Owen/Downloads/Brain_tumor_od/Tumor/images/Train\",  # Folder gambar train\n",
    "        'val': \"C:/Users/Owen/Downloads/Brain_tumor_od/Tumor/images/Test\",  # Folder gambar test\n",
    "        'nc': number_of_classes,  # Jumlah kelas\n",
    "        'names': classes  # Nama kelas dari classes.txt\n",
    "    }\n",
    "\n",
    "    # Simpan dictionary ke dalam file YAML\n",
    "    with open(path_to_data_yaml, 'w') as f:\n",
    "        yaml.dump(data, f, sort_keys=False)\n",
    "    \n",
    "    print(f'Config file created at {path_to_data_yaml}')\n",
    "\n",
    "# Jalankan fungsi untuk membuat data.yaml\n",
    "path_to_classes_txt = \"C:/Users/Owen/Downloads/Brain_tumor_od/Tumor/classes.txt\"\n",
    "path_to_data_yaml = \"C:/Users/Owen/Downloads/Brain_tumor_od/Tumor/Tumor.yaml\"\n",
    "\n",
    "create_data_yaml(path_to_classes_txt, path_to_data_yaml)\n",
    "\n",
    "print('\\nFile contents:\\n')\n",
    "!cat \"C:/Users/Owen/Downloads/Brain_tumor_od/Tumor/Tumor.yaml\""
   ]
  },
  {
   "cell_type": "code",
   "execution_count": null,
   "id": "de709433-0975-4717-9ff2-57f91fd2ed78",
   "metadata": {},
   "outputs": [],
   "source": [
    "!yolo detect train data=C:/Users/Owen/Downloads/Brain_tumor_od/Tumor/Tumor.yaml model=yolo11s.pt epochs=25 imgsz=480"
   ]
  },
  {
   "cell_type": "code",
   "execution_count": 9,
   "id": "f739cc83-6c58-4eff-9c7f-e00d8d97b4b8",
   "metadata": {},
   "outputs": [
    {
     "name": "stdout",
     "output_type": "stream",
     "text": [
      "New https://pypi.org/project/ultralytics/8.3.90 available  Update with 'pip install -U ultralytics'\n",
      "Ultralytics 8.3.78  Python-3.12.4 torch-2.6.0+cpu CPU (AMD Ryzen 5 5500U with Radeon Graphics)\n",
      "\u001b[34m\u001b[1mengine\\trainer: \u001b[0mtask=detect, mode=train, model=yolov8s.pt, data=C:/Users/Owen/Downloads/Brain_tumor_od/Tumor/Tumor.yaml, epochs=25, time=None, patience=100, batch=16, imgsz=480, save=True, save_period=-1, cache=False, device=None, workers=8, project=None, name=train25, exist_ok=False, pretrained=True, optimizer=auto, verbose=True, seed=0, deterministic=True, single_cls=False, rect=False, cos_lr=False, close_mosaic=10, resume=False, amp=True, fraction=1.0, profile=False, freeze=None, multi_scale=False, overlap_mask=True, mask_ratio=4, dropout=0.0, val=True, split=val, save_json=False, save_hybrid=False, conf=None, iou=0.7, max_det=300, half=False, dnn=False, plots=True, source=None, vid_stride=1, stream_buffer=False, visualize=False, augment=False, agnostic_nms=False, classes=None, retina_masks=False, embed=None, show=False, save_frames=False, save_txt=False, save_conf=False, save_crop=False, show_labels=True, show_conf=True, show_boxes=True, line_width=None, format=torchscript, keras=False, optimize=False, int8=False, dynamic=False, simplify=True, opset=None, workspace=None, nms=False, lr0=0.01, lrf=0.01, momentum=0.937, weight_decay=0.0005, warmup_epochs=3.0, warmup_momentum=0.8, warmup_bias_lr=0.1, box=7.5, cls=0.5, dfl=1.5, pose=12.0, kobj=1.0, nbs=64, hsv_h=0.015, hsv_s=0.7, hsv_v=0.4, degrees=0.0, translate=0.1, scale=0.5, shear=0.0, perspective=0.0, flipud=0.0, fliplr=0.5, bgr=0.0, mosaic=1.0, mixup=0.0, copy_paste=0.0, copy_paste_mode=flip, auto_augment=randaugment, erasing=0.4, crop_fraction=1.0, cfg=None, tracker=botsort.yaml, save_dir=runs\\detect\\train25\n",
      "Overriding model.yaml nc=80 with nc=1\n",
      "\n",
      "                   from  n    params  module                                       arguments                     \n",
      "  0                  -1  1       928  ultralytics.nn.modules.conv.Conv             [3, 32, 3, 2]                 \n",
      "  1                  -1  1     18560  ultralytics.nn.modules.conv.Conv             [32, 64, 3, 2]                \n",
      "  2                  -1  1     29056  ultralytics.nn.modules.block.C2f             [64, 64, 1, True]             \n",
      "  3                  -1  1     73984  ultralytics.nn.modules.conv.Conv             [64, 128, 3, 2]               \n",
      "  4                  -1  2    197632  ultralytics.nn.modules.block.C2f             [128, 128, 2, True]           \n",
      "  5                  -1  1    295424  ultralytics.nn.modules.conv.Conv             [128, 256, 3, 2]              \n",
      "  6                  -1  2    788480  ultralytics.nn.modules.block.C2f             [256, 256, 2, True]           \n",
      "  7                  -1  1   1180672  ultralytics.nn.modules.conv.Conv             [256, 512, 3, 2]              \n",
      "  8                  -1  1   1838080  ultralytics.nn.modules.block.C2f             [512, 512, 1, True]           \n",
      "  9                  -1  1    656896  ultralytics.nn.modules.block.SPPF            [512, 512, 5]                 \n",
      " 10                  -1  1         0  torch.nn.modules.upsampling.Upsample         [None, 2, 'nearest']          \n",
      " 11             [-1, 6]  1         0  ultralytics.nn.modules.conv.Concat           [1]                           \n",
      " 12                  -1  1    591360  ultralytics.nn.modules.block.C2f             [768, 256, 1]                 \n",
      " 13                  -1  1         0  torch.nn.modules.upsampling.Upsample         [None, 2, 'nearest']          \n",
      " 14             [-1, 4]  1         0  ultralytics.nn.modules.conv.Concat           [1]                           \n",
      " 15                  -1  1    148224  ultralytics.nn.modules.block.C2f             [384, 128, 1]                 \n",
      " 16                  -1  1    147712  ultralytics.nn.modules.conv.Conv             [128, 128, 3, 2]              \n",
      " 17            [-1, 12]  1         0  ultralytics.nn.modules.conv.Concat           [1]                           \n",
      " 18                  -1  1    493056  ultralytics.nn.modules.block.C2f             [384, 256, 1]                 \n",
      " 19                  -1  1    590336  ultralytics.nn.modules.conv.Conv             [256, 256, 3, 2]              \n",
      " 20             [-1, 9]  1         0  ultralytics.nn.modules.conv.Concat           [1]                           \n",
      " 21                  -1  1   1969152  ultralytics.nn.modules.block.C2f             [768, 512, 1]                 \n",
      " 22        [15, 18, 21]  1   2116435  ultralytics.nn.modules.head.Detect           [1, [128, 256, 512]]          \n",
      "Model summary: 129 layers, 11,135,987 parameters, 11,135,971 gradients, 28.6 GFLOPs\n",
      "\n",
      "Transferred 349/355 items from pretrained weights\n",
      "\u001b[34m\u001b[1mTensorBoard: \u001b[0mStart with 'tensorboard --logdir runs\\detect\\train25', view at http://localhost:6006/\n",
      "Freezing layer 'model.22.dfl.conv.weight'\n"
     ]
    },
    {
     "name": "stderr",
     "output_type": "stream",
     "text": [
      "\u001b[34m\u001b[1mtrain: \u001b[0mScanning C:\\Users\\Owen\\Downloads\\Brain_tumor_od\\Tumor\\labels\\Train.cache... 83 images, 16 backgrounds, 0 corrupt: 100%|██████████| 99/99 [00:00<?, ?it/s]\n",
      "\u001b[34m\u001b[1mval: \u001b[0mScanning C:\\Users\\Owen\\Downloads\\Brain_tumor_od\\Tumor\\labels\\Test.cache... 33 images, 16 backgrounds, 0 corrupt: 100%|██████████| 49/49 [00:00<?, ?it/s]\n"
     ]
    },
    {
     "name": "stdout",
     "output_type": "stream",
     "text": [
      "Plotting labels to runs\\detect\\train25\\labels.jpg... \n",
      "\u001b[34m\u001b[1moptimizer:\u001b[0m 'optimizer=auto' found, ignoring 'lr0=0.01' and 'momentum=0.937' and determining best 'optimizer', 'lr0' and 'momentum' automatically... \n",
      "\u001b[34m\u001b[1moptimizer:\u001b[0m AdamW(lr=0.002, momentum=0.9) with parameter groups 57 weight(decay=0.0), 64 weight(decay=0.0005), 63 bias(decay=0.0)\n",
      "\u001b[34m\u001b[1mTensorBoard: \u001b[0mmodel graph visualization added \n",
      "Image sizes 480 train, 480 val\n",
      "Using 0 dataloader workers\n",
      "Logging results to \u001b[1mruns\\detect\\train25\u001b[0m\n",
      "Starting training for 25 epochs...\n",
      "\n",
      "      Epoch    GPU_mem   box_loss   cls_loss   dfl_loss  Instances       Size\n"
     ]
    },
    {
     "name": "stderr",
     "output_type": "stream",
     "text": [
      "       1/25         0G      2.067      4.411      1.937          6        480: 100%|██████████| 7/7 [01:12<00:00, 10.33s/it]\n",
      "                 Class     Images  Instances      Box(P          R      mAP50  mAP50-95): 100%|██████████| 2/2 [00:12<00:00,  6.29s/it]"
     ]
    },
    {
     "name": "stdout",
     "output_type": "stream",
     "text": [
      "                   all         49         38      0.194      0.316      0.175     0.0714\n"
     ]
    },
    {
     "name": "stderr",
     "output_type": "stream",
     "text": [
      "\n"
     ]
    },
    {
     "name": "stdout",
     "output_type": "stream",
     "text": [
      "\n",
      "      Epoch    GPU_mem   box_loss   cls_loss   dfl_loss  Instances       Size\n"
     ]
    },
    {
     "name": "stderr",
     "output_type": "stream",
     "text": [
      "       2/25         0G      1.862      2.722      1.744          3        480: 100%|██████████| 7/7 [01:04<00:00,  9.25s/it]\n",
      "                 Class     Images  Instances      Box(P          R      mAP50  mAP50-95): 100%|██████████| 2/2 [00:09<00:00,  4.84s/it]"
     ]
    },
    {
     "name": "stdout",
     "output_type": "stream",
     "text": [
      "                   all         49         38      0.212      0.421      0.172     0.0554\n"
     ]
    },
    {
     "name": "stderr",
     "output_type": "stream",
     "text": [
      "\n"
     ]
    },
    {
     "name": "stdout",
     "output_type": "stream",
     "text": [
      "\n",
      "      Epoch    GPU_mem   box_loss   cls_loss   dfl_loss  Instances       Size\n"
     ]
    },
    {
     "name": "stderr",
     "output_type": "stream",
     "text": [
      "       3/25         0G      1.632      2.028      1.583          6        480: 100%|██████████| 7/7 [00:59<00:00,  8.46s/it]\n",
      "                 Class     Images  Instances      Box(P          R      mAP50  mAP50-95): 100%|██████████| 2/2 [00:09<00:00,  4.89s/it]"
     ]
    },
    {
     "name": "stdout",
     "output_type": "stream",
     "text": [
      "                   all         49         38      0.486      0.421      0.388       0.17\n"
     ]
    },
    {
     "name": "stderr",
     "output_type": "stream",
     "text": [
      "\n"
     ]
    },
    {
     "name": "stdout",
     "output_type": "stream",
     "text": [
      "\n",
      "      Epoch    GPU_mem   box_loss   cls_loss   dfl_loss  Instances       Size\n"
     ]
    },
    {
     "name": "stderr",
     "output_type": "stream",
     "text": [
      "       4/25         0G      1.727      2.044      1.487          1        480: 100%|██████████| 7/7 [00:58<00:00,  8.31s/it]\n",
      "                 Class     Images  Instances      Box(P          R      mAP50  mAP50-95): 100%|██████████| 2/2 [00:10<00:00,  5.09s/it]"
     ]
    },
    {
     "name": "stdout",
     "output_type": "stream",
     "text": [
      "                   all         49         38      0.408      0.363      0.243     0.0919\n"
     ]
    },
    {
     "name": "stderr",
     "output_type": "stream",
     "text": [
      "\n"
     ]
    },
    {
     "name": "stdout",
     "output_type": "stream",
     "text": [
      "\n",
      "      Epoch    GPU_mem   box_loss   cls_loss   dfl_loss  Instances       Size\n"
     ]
    },
    {
     "name": "stderr",
     "output_type": "stream",
     "text": [
      "       5/25         0G      1.576      1.566      1.441          6        480: 100%|██████████| 7/7 [01:28<00:00, 12.60s/it]\n",
      "                 Class     Images  Instances      Box(P          R      mAP50  mAP50-95): 100%|██████████| 2/2 [00:11<00:00,  5.59s/it]"
     ]
    },
    {
     "name": "stdout",
     "output_type": "stream",
     "text": [
      "                   all         49         38      0.101      0.395     0.0709     0.0259\n"
     ]
    },
    {
     "name": "stderr",
     "output_type": "stream",
     "text": [
      "\n"
     ]
    },
    {
     "name": "stdout",
     "output_type": "stream",
     "text": [
      "\n",
      "      Epoch    GPU_mem   box_loss   cls_loss   dfl_loss  Instances       Size\n"
     ]
    },
    {
     "name": "stderr",
     "output_type": "stream",
     "text": [
      "       6/25         0G      1.769      1.669      1.533          3        480: 100%|██████████| 7/7 [01:14<00:00, 10.69s/it]\n",
      "                 Class     Images  Instances      Box(P          R      mAP50  mAP50-95): 100%|██████████| 2/2 [00:11<00:00,  5.67s/it]"
     ]
    },
    {
     "name": "stdout",
     "output_type": "stream",
     "text": [
      "                   all         49         38      0.108      0.289     0.0562     0.0195\n"
     ]
    },
    {
     "name": "stderr",
     "output_type": "stream",
     "text": [
      "\n"
     ]
    },
    {
     "name": "stdout",
     "output_type": "stream",
     "text": [
      "\n",
      "      Epoch    GPU_mem   box_loss   cls_loss   dfl_loss  Instances       Size\n"
     ]
    },
    {
     "name": "stderr",
     "output_type": "stream",
     "text": [
      "       7/25         0G      1.614      1.571      1.407          7        480: 100%|██████████| 7/7 [01:28<00:00, 12.71s/it]\n",
      "                 Class     Images  Instances      Box(P          R      mAP50  mAP50-95): 100%|██████████| 2/2 [00:14<00:00,  7.11s/it]"
     ]
    },
    {
     "name": "stdout",
     "output_type": "stream",
     "text": [
      "                   all         49         38      0.219      0.105     0.0744     0.0317\n"
     ]
    },
    {
     "name": "stderr",
     "output_type": "stream",
     "text": [
      "\n"
     ]
    },
    {
     "name": "stdout",
     "output_type": "stream",
     "text": [
      "\n",
      "      Epoch    GPU_mem   box_loss   cls_loss   dfl_loss  Instances       Size\n"
     ]
    },
    {
     "name": "stderr",
     "output_type": "stream",
     "text": [
      "       8/25         0G        1.6       1.66      1.513          3        480: 100%|██████████| 7/7 [01:18<00:00, 11.15s/it]\n",
      "                 Class     Images  Instances      Box(P          R      mAP50  mAP50-95): 100%|██████████| 2/2 [00:10<00:00,  5.34s/it]"
     ]
    },
    {
     "name": "stdout",
     "output_type": "stream",
     "text": [
      "                   all         49         38      0.283     0.0526     0.0504     0.0234\n"
     ]
    },
    {
     "name": "stderr",
     "output_type": "stream",
     "text": [
      "\n"
     ]
    },
    {
     "name": "stdout",
     "output_type": "stream",
     "text": [
      "\n",
      "      Epoch    GPU_mem   box_loss   cls_loss   dfl_loss  Instances       Size\n"
     ]
    },
    {
     "name": "stderr",
     "output_type": "stream",
     "text": [
      "       9/25         0G      1.645       1.28      1.516          6        480: 100%|██████████| 7/7 [01:18<00:00, 11.27s/it]\n",
      "                 Class     Images  Instances      Box(P          R      mAP50  mAP50-95): 100%|██████████| 2/2 [00:13<00:00,  6.79s/it]"
     ]
    },
    {
     "name": "stdout",
     "output_type": "stream",
     "text": [
      "                   all         49         38     0.0758      0.211     0.0325      0.009\n"
     ]
    },
    {
     "name": "stderr",
     "output_type": "stream",
     "text": [
      "\n"
     ]
    },
    {
     "name": "stdout",
     "output_type": "stream",
     "text": [
      "\n",
      "      Epoch    GPU_mem   box_loss   cls_loss   dfl_loss  Instances       Size\n"
     ]
    },
    {
     "name": "stderr",
     "output_type": "stream",
     "text": [
      "      10/25         0G      1.725      1.415       1.58          4        480: 100%|██████████| 7/7 [01:35<00:00, 13.67s/it]\n",
      "                 Class     Images  Instances      Box(P          R      mAP50  mAP50-95): 100%|██████████| 2/2 [00:10<00:00,  5.34s/it]"
     ]
    },
    {
     "name": "stdout",
     "output_type": "stream",
     "text": [
      "                   all         49         38     0.0188      0.211    0.00694    0.00243\n"
     ]
    },
    {
     "name": "stderr",
     "output_type": "stream",
     "text": [
      "\n"
     ]
    },
    {
     "name": "stdout",
     "output_type": "stream",
     "text": [
      "\n",
      "      Epoch    GPU_mem   box_loss   cls_loss   dfl_loss  Instances       Size\n"
     ]
    },
    {
     "name": "stderr",
     "output_type": "stream",
     "text": [
      "      11/25         0G      1.516      1.203      1.456          5        480: 100%|██████████| 7/7 [01:17<00:00, 11.11s/it]\n",
      "                 Class     Images  Instances      Box(P          R      mAP50  mAP50-95): 100%|██████████| 2/2 [00:10<00:00,  5.33s/it]"
     ]
    },
    {
     "name": "stdout",
     "output_type": "stream",
     "text": [
      "                   all         49         38       0.23      0.184      0.094     0.0421\n"
     ]
    },
    {
     "name": "stderr",
     "output_type": "stream",
     "text": [
      "\n"
     ]
    },
    {
     "name": "stdout",
     "output_type": "stream",
     "text": [
      "\n",
      "      Epoch    GPU_mem   box_loss   cls_loss   dfl_loss  Instances       Size\n"
     ]
    },
    {
     "name": "stderr",
     "output_type": "stream",
     "text": [
      "      12/25         0G      1.562      1.222      1.513          5        480: 100%|██████████| 7/7 [01:19<00:00, 11.32s/it]\n",
      "                 Class     Images  Instances      Box(P          R      mAP50  mAP50-95): 100%|██████████| 2/2 [00:10<00:00,  5.27s/it]"
     ]
    },
    {
     "name": "stdout",
     "output_type": "stream",
     "text": [
      "                   all         49         38      0.284      0.184      0.086     0.0309\n"
     ]
    },
    {
     "name": "stderr",
     "output_type": "stream",
     "text": [
      "\n"
     ]
    },
    {
     "name": "stdout",
     "output_type": "stream",
     "text": [
      "\n",
      "      Epoch    GPU_mem   box_loss   cls_loss   dfl_loss  Instances       Size\n"
     ]
    },
    {
     "name": "stderr",
     "output_type": "stream",
     "text": [
      "      13/25         0G       1.57      1.326      1.503          5        480: 100%|██████████| 7/7 [01:00<00:00,  8.69s/it]\n",
      "                 Class     Images  Instances      Box(P          R      mAP50  mAP50-95): 100%|██████████| 2/2 [00:09<00:00,  4.96s/it]"
     ]
    },
    {
     "name": "stdout",
     "output_type": "stream",
     "text": [
      "                   all         49         38      0.239      0.184     0.0889     0.0381\n"
     ]
    },
    {
     "name": "stderr",
     "output_type": "stream",
     "text": [
      "\n"
     ]
    },
    {
     "name": "stdout",
     "output_type": "stream",
     "text": [
      "\n",
      "      Epoch    GPU_mem   box_loss   cls_loss   dfl_loss  Instances       Size\n"
     ]
    },
    {
     "name": "stderr",
     "output_type": "stream",
     "text": [
      "      14/25         0G      1.543      1.165      1.551          3        480: 100%|██████████| 7/7 [01:00<00:00,  8.67s/it]\n",
      "                 Class     Images  Instances      Box(P          R      mAP50  mAP50-95): 100%|██████████| 2/2 [00:10<00:00,  5.06s/it]"
     ]
    },
    {
     "name": "stdout",
     "output_type": "stream",
     "text": [
      "                   all         49         38      0.447      0.316       0.19     0.0877\n"
     ]
    },
    {
     "name": "stderr",
     "output_type": "stream",
     "text": [
      "\n"
     ]
    },
    {
     "name": "stdout",
     "output_type": "stream",
     "text": [
      "\n",
      "      Epoch    GPU_mem   box_loss   cls_loss   dfl_loss  Instances       Size\n"
     ]
    },
    {
     "name": "stderr",
     "output_type": "stream",
     "text": [
      "      15/25         0G        1.5       1.13      1.453          6        480: 100%|██████████| 7/7 [01:06<00:00,  9.49s/it]\n",
      "                 Class     Images  Instances      Box(P          R      mAP50  mAP50-95): 100%|██████████| 2/2 [00:10<00:00,  5.37s/it]"
     ]
    },
    {
     "name": "stdout",
     "output_type": "stream",
     "text": [
      "                   all         49         38      0.417      0.342      0.238      0.107\n"
     ]
    },
    {
     "name": "stderr",
     "output_type": "stream",
     "text": [
      "\n"
     ]
    },
    {
     "name": "stdout",
     "output_type": "stream",
     "text": [
      "Closing dataloader mosaic\n",
      "\n",
      "      Epoch    GPU_mem   box_loss   cls_loss   dfl_loss  Instances       Size\n"
     ]
    },
    {
     "name": "stderr",
     "output_type": "stream",
     "text": [
      "      16/25         0G      1.348      1.118      1.469          3        480: 100%|██████████| 7/7 [01:09<00:00,  9.96s/it]\n",
      "                 Class     Images  Instances      Box(P          R      mAP50  mAP50-95): 100%|██████████| 2/2 [00:09<00:00,  4.88s/it]"
     ]
    },
    {
     "name": "stdout",
     "output_type": "stream",
     "text": [
      "                   all         49         38      0.439      0.493      0.384      0.187\n"
     ]
    },
    {
     "name": "stderr",
     "output_type": "stream",
     "text": [
      "\n"
     ]
    },
    {
     "name": "stdout",
     "output_type": "stream",
     "text": [
      "\n",
      "      Epoch    GPU_mem   box_loss   cls_loss   dfl_loss  Instances       Size\n"
     ]
    },
    {
     "name": "stderr",
     "output_type": "stream",
     "text": [
      "      17/25         0G      1.375     0.9914      1.477          3        480: 100%|██████████| 7/7 [01:00<00:00,  8.65s/it]\n",
      "                 Class     Images  Instances      Box(P          R      mAP50  mAP50-95): 100%|██████████| 2/2 [00:10<00:00,  5.00s/it]"
     ]
    },
    {
     "name": "stdout",
     "output_type": "stream",
     "text": [
      "                   all         49         38      0.349      0.447      0.337      0.162\n"
     ]
    },
    {
     "name": "stderr",
     "output_type": "stream",
     "text": [
      "\n"
     ]
    },
    {
     "name": "stdout",
     "output_type": "stream",
     "text": [
      "\n",
      "      Epoch    GPU_mem   box_loss   cls_loss   dfl_loss  Instances       Size\n"
     ]
    },
    {
     "name": "stderr",
     "output_type": "stream",
     "text": [
      "      18/25         0G      1.327      1.002      1.428          2        480: 100%|██████████| 7/7 [00:57<00:00,  8.26s/it]\n",
      "                 Class     Images  Instances      Box(P          R      mAP50  mAP50-95): 100%|██████████| 2/2 [00:09<00:00,  4.85s/it]"
     ]
    },
    {
     "name": "stdout",
     "output_type": "stream",
     "text": [
      "                   all         49         38       0.29      0.395        0.2     0.0839\n"
     ]
    },
    {
     "name": "stderr",
     "output_type": "stream",
     "text": [
      "\n"
     ]
    },
    {
     "name": "stdout",
     "output_type": "stream",
     "text": [
      "\n",
      "      Epoch    GPU_mem   box_loss   cls_loss   dfl_loss  Instances       Size\n"
     ]
    },
    {
     "name": "stderr",
     "output_type": "stream",
     "text": [
      "      19/25         0G      1.281     0.8477      1.363          3        480: 100%|██████████| 7/7 [06:11<00:00, 53.08s/it] \n",
      "                 Class     Images  Instances      Box(P          R      mAP50  mAP50-95): 100%|██████████| 2/2 [00:11<00:00,  5.63s/it]"
     ]
    },
    {
     "name": "stdout",
     "output_type": "stream",
     "text": [
      "                   all         49         38      0.475      0.368      0.287      0.129\n"
     ]
    },
    {
     "name": "stderr",
     "output_type": "stream",
     "text": [
      "\n"
     ]
    },
    {
     "name": "stdout",
     "output_type": "stream",
     "text": [
      "\n",
      "      Epoch    GPU_mem   box_loss   cls_loss   dfl_loss  Instances       Size\n"
     ]
    },
    {
     "name": "stderr",
     "output_type": "stream",
     "text": [
      "      20/25         0G      1.274     0.8447      1.354          2        480: 100%|██████████| 7/7 [01:23<00:00, 11.93s/it]\n",
      "                 Class     Images  Instances      Box(P          R      mAP50  mAP50-95): 100%|██████████| 2/2 [00:11<00:00,  5.89s/it]"
     ]
    },
    {
     "name": "stdout",
     "output_type": "stream",
     "text": [
      "                   all         49         38      0.506        0.5      0.335      0.151\n"
     ]
    },
    {
     "name": "stderr",
     "output_type": "stream",
     "text": [
      "\n"
     ]
    },
    {
     "name": "stdout",
     "output_type": "stream",
     "text": [
      "\n",
      "      Epoch    GPU_mem   box_loss   cls_loss   dfl_loss  Instances       Size\n"
     ]
    },
    {
     "name": "stderr",
     "output_type": "stream",
     "text": [
      "      21/25         0G      1.208     0.7187      1.342          3        480: 100%|██████████| 7/7 [01:18<00:00, 11.21s/it]\n",
      "                 Class     Images  Instances      Box(P          R      mAP50  mAP50-95): 100%|██████████| 2/2 [00:13<00:00,  6.79s/it]"
     ]
    },
    {
     "name": "stdout",
     "output_type": "stream",
     "text": [
      "                   all         49         38      0.424      0.524      0.332      0.147\n"
     ]
    },
    {
     "name": "stderr",
     "output_type": "stream",
     "text": [
      "\n"
     ]
    },
    {
     "name": "stdout",
     "output_type": "stream",
     "text": [
      "\n",
      "      Epoch    GPU_mem   box_loss   cls_loss   dfl_loss  Instances       Size\n"
     ]
    },
    {
     "name": "stderr",
     "output_type": "stream",
     "text": [
      "      22/25         0G      1.239     0.7613      1.303          3        480: 100%|██████████| 7/7 [01:26<00:00, 12.32s/it]\n",
      "                 Class     Images  Instances      Box(P          R      mAP50  mAP50-95): 100%|██████████| 2/2 [00:10<00:00,  5.10s/it]"
     ]
    },
    {
     "name": "stdout",
     "output_type": "stream",
     "text": [
      "                   all         49         38      0.362      0.553      0.309      0.131\n"
     ]
    },
    {
     "name": "stderr",
     "output_type": "stream",
     "text": [
      "\n"
     ]
    },
    {
     "name": "stdout",
     "output_type": "stream",
     "text": [
      "\n",
      "      Epoch    GPU_mem   box_loss   cls_loss   dfl_loss  Instances       Size\n"
     ]
    },
    {
     "name": "stderr",
     "output_type": "stream",
     "text": [
      "      23/25         0G       1.13     0.7412      1.283          2        480: 100%|██████████| 7/7 [01:05<00:00,  9.29s/it]\n",
      "                 Class     Images  Instances      Box(P          R      mAP50  mAP50-95): 100%|██████████| 2/2 [00:11<00:00,  5.61s/it]"
     ]
    },
    {
     "name": "stdout",
     "output_type": "stream",
     "text": [
      "                   all         49         38      0.484      0.474       0.36      0.161\n"
     ]
    },
    {
     "name": "stderr",
     "output_type": "stream",
     "text": [
      "\n"
     ]
    },
    {
     "name": "stdout",
     "output_type": "stream",
     "text": [
      "\n",
      "      Epoch    GPU_mem   box_loss   cls_loss   dfl_loss  Instances       Size\n"
     ]
    },
    {
     "name": "stderr",
     "output_type": "stream",
     "text": [
      "      24/25         0G      1.194     0.6847       1.29          4        480: 100%|██████████| 7/7 [01:10<00:00, 10.04s/it]\n",
      "                 Class     Images  Instances      Box(P          R      mAP50  mAP50-95): 100%|██████████| 2/2 [00:11<00:00,  5.94s/it]"
     ]
    },
    {
     "name": "stdout",
     "output_type": "stream",
     "text": [
      "                   all         49         38      0.503      0.553      0.403      0.184\n"
     ]
    },
    {
     "name": "stderr",
     "output_type": "stream",
     "text": [
      "\n"
     ]
    },
    {
     "name": "stdout",
     "output_type": "stream",
     "text": [
      "\n",
      "      Epoch    GPU_mem   box_loss   cls_loss   dfl_loss  Instances       Size\n"
     ]
    },
    {
     "name": "stderr",
     "output_type": "stream",
     "text": [
      "      25/25         0G      1.114     0.6652      1.234          3        480: 100%|██████████| 7/7 [01:10<00:00, 10.08s/it]\n",
      "                 Class     Images  Instances      Box(P          R      mAP50  mAP50-95): 100%|██████████| 2/2 [00:10<00:00,  5.34s/it]"
     ]
    },
    {
     "name": "stdout",
     "output_type": "stream",
     "text": [
      "                   all         49         38      0.461      0.658      0.407      0.186\n"
     ]
    },
    {
     "name": "stderr",
     "output_type": "stream",
     "text": [
      "\n"
     ]
    },
    {
     "name": "stdout",
     "output_type": "stream",
     "text": [
      "\n",
      "25 epochs completed in 0.685 hours.\n",
      "Optimizer stripped from runs\\detect\\train25\\weights\\last.pt, 22.5MB\n",
      "Optimizer stripped from runs\\detect\\train25\\weights\\best.pt, 22.5MB\n",
      "\n",
      "Validating runs\\detect\\train25\\weights\\best.pt...\n",
      "Ultralytics 8.3.78  Python-3.12.4 torch-2.6.0+cpu CPU (AMD Ryzen 5 5500U with Radeon Graphics)\n",
      "Model summary (fused): 72 layers, 11,125,971 parameters, 0 gradients, 28.4 GFLOPs\n"
     ]
    },
    {
     "name": "stderr",
     "output_type": "stream",
     "text": [
      "                 Class     Images  Instances      Box(P          R      mAP50  mAP50-95): 100%|██████████| 2/2 [00:09<00:00,  4.52s/it]\n"
     ]
    },
    {
     "name": "stdout",
     "output_type": "stream",
     "text": [
      "                   all         49         38      0.463      0.636      0.407      0.186\n",
      "Speed: 2.7ms preprocess, 174.2ms inference, 0.0ms loss, 0.4ms postprocess per image\n",
      "Results saved to \u001b[1mruns\\detect\\train25\u001b[0m\n"
     ]
    }
   ],
   "source": [
    "model = YOLO('yolov8s.pt')  # model pre-trained\n",
    "\n",
    "# Melatih model\n",
    "results = model.train(\n",
    "    data = \"C:/Users/Owen/Downloads/Brain_tumor_od/Tumor/Tumor.yaml\",\n",
    "    epochs=25,\n",
    "    imgsz=480\n",
    ")"
   ]
  },
  {
   "cell_type": "code",
   "execution_count": null,
   "id": "4f12fca0-8217-48ec-ad5e-4377c72abb46",
   "metadata": {},
   "outputs": [],
   "source": [
    "!yolo detect predict model= C:/Users/Owen/runs/detect/train25/weights/best.pt source= \"C:/Users/Owen/Downloads/Brain_tumor_od/Tumor/images/Test\" save=True"
   ]
  },
  {
   "cell_type": "code",
   "execution_count": 38,
   "id": "a97865ee-5880-4685-a7a2-22cfc7f2fa25",
   "metadata": {},
   "outputs": [
    {
     "name": "stdout",
     "output_type": "stream",
     "text": [
      "\n",
      "image 1/49 C:\\Users\\Owen\\Downloads\\Brain_tumor_od\\Tumor\\images\\Test\\09afbf48-Y195.JPG: 640x608 1 Tumor Brain, 500.8ms\n",
      "image 2/49 C:\\Users\\Owen\\Downloads\\Brain_tumor_od\\Tumor\\images\\Test\\0aae95f3-Y252.jpg: 640x512 1 Tumor Brain, 238.8ms\n",
      "image 3/49 C:\\Users\\Owen\\Downloads\\Brain_tumor_od\\Tumor\\images\\Test\\0c7b392a-Y242.JPG: 640x544 (no detections), 207.6ms\n",
      "image 4/49 C:\\Users\\Owen\\Downloads\\Brain_tumor_od\\Tumor\\images\\Test\\0f8fbede-Y111.JPG: 640x544 (no detections), 97.7ms\n",
      "image 5/49 C:\\Users\\Owen\\Downloads\\Brain_tumor_od\\Tumor\\images\\Test\\14b35816-Y167.JPG: 640x512 (no detections), 97.3ms\n",
      "image 6/49 C:\\Users\\Owen\\Downloads\\Brain_tumor_od\\Tumor\\images\\Test\\1d6bf47a-Y58.JPG: 640x608 2 Tumor Brains, 117.6ms\n",
      "image 7/49 C:\\Users\\Owen\\Downloads\\Brain_tumor_od\\Tumor\\images\\Test\\2348299e-Y249.JPG: 640x512 (no detections), 98.6ms\n",
      "image 8/49 C:\\Users\\Owen\\Downloads\\Brain_tumor_od\\Tumor\\images\\Test\\299f7166-Y86.JPG: 640x512 1 Tumor Brain, 93.2ms\n",
      "image 9/49 C:\\Users\\Owen\\Downloads\\Brain_tumor_od\\Tumor\\images\\Test\\2a6b1aad-Y54.jpg: 640x608 1 Tumor Brain, 123.3ms\n",
      "image 10/49 C:\\Users\\Owen\\Downloads\\Brain_tumor_od\\Tumor\\images\\Test\\2b340333-Y148.JPG: 640x544 2 Tumor Brains, 95.9ms\n",
      "image 11/49 C:\\Users\\Owen\\Downloads\\Brain_tumor_od\\Tumor\\images\\Test\\30ca7f9d-Y92.png: 640x512 1 Tumor Brain, 93.4ms\n",
      "image 12/49 C:\\Users\\Owen\\Downloads\\Brain_tumor_od\\Tumor\\images\\Test\\394b7895-Y67.JPG: 640x608 (no detections), 100.3ms\n",
      "image 13/49 C:\\Users\\Owen\\Downloads\\Brain_tumor_od\\Tumor\\images\\Test\\41b45802-Y170.JPG: 640x544 (no detections), 105.3ms\n",
      "image 14/49 C:\\Users\\Owen\\Downloads\\Brain_tumor_od\\Tumor\\images\\Test\\5045a11e-Y82.jpg: 640x640 2 Tumor Brains, 160.9ms\n",
      "image 15/49 C:\\Users\\Owen\\Downloads\\Brain_tumor_od\\Tumor\\images\\Test\\5c65e51a-Y89.JPG: 640x544 1 Tumor Brain, 121.2ms\n",
      "image 16/49 C:\\Users\\Owen\\Downloads\\Brain_tumor_od\\Tumor\\images\\Test\\62c1eeba-Y109.JPG: 640x608 1 Tumor Brain, 112.1ms\n",
      "image 17/49 C:\\Users\\Owen\\Downloads\\Brain_tumor_od\\Tumor\\images\\Test\\689814ba-Y92.jpg: 640x480 1 Tumor Brain, 206.6ms\n",
      "image 18/49 C:\\Users\\Owen\\Downloads\\Brain_tumor_od\\Tumor\\images\\Test\\6d8443b8-Y50.JPG: 640x576 2 Tumor Brains, 206.7ms\n",
      "image 19/49 C:\\Users\\Owen\\Downloads\\Brain_tumor_od\\Tumor\\images\\Test\\7104db8e-Y27.jpg: 640x640 1 Tumor Brain, 118.2ms\n",
      "image 20/49 C:\\Users\\Owen\\Downloads\\Brain_tumor_od\\Tumor\\images\\Test\\7aaf0c6d-Y18.JPG: 640x512 1 Tumor Brain, 102.4ms\n",
      "image 21/49 C:\\Users\\Owen\\Downloads\\Brain_tumor_od\\Tumor\\images\\Test\\7b1b1c91-Y160.JPG: 640x576 4 Tumor Brains, 112.6ms\n",
      "image 22/49 C:\\Users\\Owen\\Downloads\\Brain_tumor_od\\Tumor\\images\\Test\\80280e82-Y114.JPG: 640x480 1 Tumor Brain, 98.1ms\n",
      "image 23/49 C:\\Users\\Owen\\Downloads\\Brain_tumor_od\\Tumor\\images\\Test\\8114ae99-Y244.JPG: 640x512 1 Tumor Brain, 112.3ms\n",
      "image 24/49 C:\\Users\\Owen\\Downloads\\Brain_tumor_od\\Tumor\\images\\Test\\835d8f7d-Y11.jpg: 608x640 1 Tumor Brain, 218.5ms\n",
      "image 25/49 C:\\Users\\Owen\\Downloads\\Brain_tumor_od\\Tumor\\images\\Test\\84d16372-Y40.JPG: 640x544 1 Tumor Brain, 136.1ms\n",
      "image 26/49 C:\\Users\\Owen\\Downloads\\Brain_tumor_od\\Tumor\\images\\Test\\87fd9ff2-Y31.jpg: 640x544 2 Tumor Brains, 161.1ms\n",
      "image 27/49 C:\\Users\\Owen\\Downloads\\Brain_tumor_od\\Tumor\\images\\Test\\8d715140-Y44.JPG: 640x576 1 Tumor Brain, 146.6ms\n",
      "image 28/49 C:\\Users\\Owen\\Downloads\\Brain_tumor_od\\Tumor\\images\\Test\\8f288f29-Y65.JPG: 640x544 2 Tumor Brains, 149.3ms\n",
      "image 29/49 C:\\Users\\Owen\\Downloads\\Brain_tumor_od\\Tumor\\images\\Test\\9629b095-Y32.jpg: 640x608 1 Tumor Brain, 143.6ms\n",
      "image 30/49 C:\\Users\\Owen\\Downloads\\Brain_tumor_od\\Tumor\\images\\Test\\9876c210-Y147.JPG: 640x608 1 Tumor Brain, 114.2ms\n",
      "image 31/49 C:\\Users\\Owen\\Downloads\\Brain_tumor_od\\Tumor\\images\\Test\\9f53589b-Y28.jpg: 640x640 3 Tumor Brains, 116.1ms\n",
      "image 32/49 C:\\Users\\Owen\\Downloads\\Brain_tumor_od\\Tumor\\images\\Test\\a581a282-Y158.JPG: 640x544 (no detections), 89.4ms\n",
      "image 33/49 C:\\Users\\Owen\\Downloads\\Brain_tumor_od\\Tumor\\images\\Test\\a5d64678-Y81.jpg: 640x608 2 Tumor Brains, 100.3ms\n",
      "image 34/49 C:\\Users\\Owen\\Downloads\\Brain_tumor_od\\Tumor\\images\\Test\\a8c907c1-Y71.JPG: 640x576 1 Tumor Brain, 90.2ms\n",
      "image 35/49 C:\\Users\\Owen\\Downloads\\Brain_tumor_od\\Tumor\\images\\Test\\b3508f36-Y3.jpg: 640x576 1 Tumor Brain, 91.9ms\n",
      "image 36/49 C:\\Users\\Owen\\Downloads\\Brain_tumor_od\\Tumor\\images\\Test\\b5e9cc61-Y47.JPG: 640x608 1 Tumor Brain, 95.7ms\n",
      "image 37/49 C:\\Users\\Owen\\Downloads\\Brain_tumor_od\\Tumor\\images\\Test\\b69c497b-Y245.jpg: 640x576 1 Tumor Brain, 84.8ms\n",
      "image 38/49 C:\\Users\\Owen\\Downloads\\Brain_tumor_od\\Tumor\\images\\Test\\b9338c3a-Y162.jpg: 640x576 1 Tumor Brain, 97.2ms\n",
      "image 39/49 C:\\Users\\Owen\\Downloads\\Brain_tumor_od\\Tumor\\images\\Test\\bda3d0c3-Y253.JPG: 640x544 1 Tumor Brain, 92.4ms\n",
      "image 40/49 C:\\Users\\Owen\\Downloads\\Brain_tumor_od\\Tumor\\images\\Test\\c0df0927-Y8.jpg: 640x640 1 Tumor Brain, 134.9ms\n",
      "image 41/49 C:\\Users\\Owen\\Downloads\\Brain_tumor_od\\Tumor\\images\\Test\\c3f5267a-Y116.JPG: 640x608 (no detections), 105.0ms\n",
      "image 42/49 C:\\Users\\Owen\\Downloads\\Brain_tumor_od\\Tumor\\images\\Test\\c5d4cea6-Y163.JPG: 640x576 1 Tumor Brain, 101.5ms\n",
      "image 43/49 C:\\Users\\Owen\\Downloads\\Brain_tumor_od\\Tumor\\images\\Test\\c75ca357-Y180.jpg: 640x512 3 Tumor Brains, 79.0ms\n",
      "image 44/49 C:\\Users\\Owen\\Downloads\\Brain_tumor_od\\Tumor\\images\\Test\\c8397222-Y9.jpg: 640x640 1 Tumor Brain, 107.8ms\n",
      "image 45/49 C:\\Users\\Owen\\Downloads\\Brain_tumor_od\\Tumor\\images\\Test\\ca4c0371-Y156.JPG: 640x512 1 Tumor Brain, 84.4ms\n",
      "image 46/49 C:\\Users\\Owen\\Downloads\\Brain_tumor_od\\Tumor\\images\\Test\\cbb67b4e-Y23.JPG: 640x640 1 Tumor Brain, 101.2ms\n",
      "image 47/49 C:\\Users\\Owen\\Downloads\\Brain_tumor_od\\Tumor\\images\\Test\\e879168c-Y155.JPG: 640x576 2 Tumor Brains, 94.1ms\n",
      "image 48/49 C:\\Users\\Owen\\Downloads\\Brain_tumor_od\\Tumor\\images\\Test\\f4dd018b-Y184.JPG: 608x640 2 Tumor Brains, 97.8ms\n",
      "image 49/49 C:\\Users\\Owen\\Downloads\\Brain_tumor_od\\Tumor\\images\\Test\\fd3952f8-Y168.jpg: 640x576 (no detections), 107.0ms\n",
      "Speed: 5.8ms preprocess, 127.8ms inference, 1.7ms postprocess per image at shape (1, 3, 640, 576)\n",
      "Results saved to \u001b[1mruns\\detect\\predict5\u001b[0m\n"
     ]
    },
    {
     "data": {
      "text/plain": [
       "[ultralytics.engine.results.Results object with attributes:\n",
       " \n",
       " boxes: ultralytics.engine.results.Boxes object\n",
       " keypoints: None\n",
       " masks: None\n",
       " names: {0: 'Tumor Brain'}\n",
       " obb: None\n",
       " orig_img: array([[[  1,   1,   1],\n",
       "         [  1,   1,   1],\n",
       "         [  1,   1,   1],\n",
       "         ...,\n",
       "         [  2,   2,   2],\n",
       "         [  1,   1,   1],\n",
       "         [  1,   1,   1]],\n",
       " \n",
       "        [[  1,   1,   1],\n",
       "         [  1,   1,   1],\n",
       "         [  1,   1,   1],\n",
       "         ...,\n",
       "         [  2,   2,   2],\n",
       "         [  1,   1,   1],\n",
       "         [  1,   1,   1]],\n",
       " \n",
       "        [[  1,   1,   1],\n",
       "         [  1,   1,   1],\n",
       "         [  1,   1,   1],\n",
       "         ...,\n",
       "         [  2,   2,   2],\n",
       "         [  1,   1,   1],\n",
       "         [  1,   1,   1]],\n",
       " \n",
       "        ...,\n",
       " \n",
       "        [[129, 129, 129],\n",
       "         [143, 143, 143],\n",
       "         [ 46,  46,  46],\n",
       "         ...,\n",
       "         [  1,   1,   1],\n",
       "         [  1,   1,   1],\n",
       "         [  1,   1,   1]],\n",
       " \n",
       "        [[ 21,  21,  21],\n",
       "         [ 98,  98,  98],\n",
       "         [ 55,  55,  55],\n",
       "         ...,\n",
       "         [  1,   1,   1],\n",
       "         [  1,   1,   1],\n",
       "         [  1,   1,   1]],\n",
       " \n",
       "        [[ 18,  18,  18],\n",
       "         [ 97,  97,  97],\n",
       "         [ 61,  61,  61],\n",
       "         ...,\n",
       "         [  1,   1,   1],\n",
       "         [  1,   1,   1],\n",
       "         [  1,   1,   1]]], dtype=uint8)\n",
       " orig_shape: (340, 314)\n",
       " path: 'C:\\\\Users\\\\Owen\\\\Downloads\\\\Brain_tumor_od\\\\Tumor\\\\images\\\\Test\\\\09afbf48-Y195.JPG'\n",
       " probs: None\n",
       " save_dir: 'runs\\\\detect\\\\predict5'\n",
       " speed: {'preprocess': 27.09250000771135, 'inference': 500.7546000124421, 'postprocess': 33.142900007078424},\n",
       " ultralytics.engine.results.Results object with attributes:\n",
       " \n",
       " boxes: ultralytics.engine.results.Boxes object\n",
       " keypoints: None\n",
       " masks: None\n",
       " names: {0: 'Tumor Brain'}\n",
       " obb: None\n",
       " orig_img: array([[[0, 0, 0],\n",
       "         [0, 0, 0],\n",
       "         [0, 0, 0],\n",
       "         ...,\n",
       "         [0, 0, 0],\n",
       "         [0, 0, 0],\n",
       "         [0, 0, 0]],\n",
       " \n",
       "        [[0, 0, 0],\n",
       "         [0, 0, 0],\n",
       "         [0, 0, 0],\n",
       "         ...,\n",
       "         [0, 0, 0],\n",
       "         [0, 0, 0],\n",
       "         [0, 0, 0]],\n",
       " \n",
       "        [[0, 0, 0],\n",
       "         [0, 0, 0],\n",
       "         [0, 0, 0],\n",
       "         ...,\n",
       "         [0, 0, 0],\n",
       "         [0, 0, 0],\n",
       "         [0, 0, 0]],\n",
       " \n",
       "        ...,\n",
       " \n",
       "        [[0, 0, 0],\n",
       "         [0, 0, 0],\n",
       "         [0, 0, 0],\n",
       "         ...,\n",
       "         [0, 0, 0],\n",
       "         [0, 0, 0],\n",
       "         [0, 0, 0]],\n",
       " \n",
       "        [[0, 0, 0],\n",
       "         [0, 0, 0],\n",
       "         [0, 0, 0],\n",
       "         ...,\n",
       "         [0, 0, 0],\n",
       "         [0, 0, 0],\n",
       "         [0, 0, 0]],\n",
       " \n",
       "        [[0, 0, 0],\n",
       "         [0, 0, 0],\n",
       "         [0, 0, 0],\n",
       "         ...,\n",
       "         [0, 0, 0],\n",
       "         [0, 0, 0],\n",
       "         [0, 0, 0]]], dtype=uint8)\n",
       " orig_shape: (256, 197)\n",
       " path: 'C:\\\\Users\\\\Owen\\\\Downloads\\\\Brain_tumor_od\\\\Tumor\\\\images\\\\Test\\\\0aae95f3-Y252.jpg'\n",
       " probs: None\n",
       " save_dir: 'runs\\\\detect\\\\predict5'\n",
       " speed: {'preprocess': 9.2616000038106, 'inference': 238.80980000831187, 'postprocess': 1.0892999998759478},\n",
       " ultralytics.engine.results.Results object with attributes:\n",
       " \n",
       " boxes: ultralytics.engine.results.Boxes object\n",
       " keypoints: None\n",
       " masks: None\n",
       " names: {0: 'Tumor Brain'}\n",
       " obb: None\n",
       " orig_img: array([[[0, 0, 0],\n",
       "         [0, 0, 0],\n",
       "         [0, 0, 0],\n",
       "         ...,\n",
       "         [0, 0, 0],\n",
       "         [0, 0, 0],\n",
       "         [0, 0, 0]],\n",
       " \n",
       "        [[0, 0, 0],\n",
       "         [0, 0, 0],\n",
       "         [0, 0, 0],\n",
       "         ...,\n",
       "         [0, 0, 0],\n",
       "         [0, 0, 0],\n",
       "         [0, 0, 0]],\n",
       " \n",
       "        [[0, 0, 0],\n",
       "         [0, 0, 0],\n",
       "         [0, 0, 0],\n",
       "         ...,\n",
       "         [0, 0, 0],\n",
       "         [0, 0, 0],\n",
       "         [0, 0, 0]],\n",
       " \n",
       "        ...,\n",
       " \n",
       "        [[3, 3, 3],\n",
       "         [2, 2, 2],\n",
       "         [1, 1, 1],\n",
       "         ...,\n",
       "         [0, 0, 0],\n",
       "         [0, 0, 0],\n",
       "         [0, 0, 0]],\n",
       " \n",
       "        [[3, 3, 3],\n",
       "         [2, 2, 2],\n",
       "         [1, 1, 1],\n",
       "         ...,\n",
       "         [0, 0, 0],\n",
       "         [0, 0, 0],\n",
       "         [0, 0, 0]],\n",
       " \n",
       "        [[3, 3, 3],\n",
       "         [2, 2, 2],\n",
       "         [1, 1, 1],\n",
       "         ...,\n",
       "         [0, 0, 0],\n",
       "         [0, 0, 0],\n",
       "         [0, 0, 0]]], dtype=uint8)\n",
       " orig_shape: (344, 279)\n",
       " path: 'C:\\\\Users\\\\Owen\\\\Downloads\\\\Brain_tumor_od\\\\Tumor\\\\images\\\\Test\\\\0c7b392a-Y242.JPG'\n",
       " probs: None\n",
       " save_dir: 'runs\\\\detect\\\\predict5'\n",
       " speed: {'preprocess': 5.503299995325506, 'inference': 207.60139997582883, 'postprocess': 0.8228999795392156},\n",
       " ultralytics.engine.results.Results object with attributes:\n",
       " \n",
       " boxes: ultralytics.engine.results.Boxes object\n",
       " keypoints: None\n",
       " masks: None\n",
       " names: {0: 'Tumor Brain'}\n",
       " obb: None\n",
       " orig_img: array([[[ 39,  39,  39],\n",
       "         [ 21,  21,  21],\n",
       "         [ 30,  30,  30],\n",
       "         ...,\n",
       "         [ 27,  27,  27],\n",
       "         [ 37,  37,  37],\n",
       "         [ 18,  18,  18]],\n",
       " \n",
       "        [[ 23,  23,  23],\n",
       "         [  0,   0,   0],\n",
       "         [  4,   4,   4],\n",
       "         ...,\n",
       "         [254, 254, 254],\n",
       "         [248, 248, 248],\n",
       "         [255, 255, 255]],\n",
       " \n",
       "        [[ 31,  31,  31],\n",
       "         [  4,   4,   4],\n",
       "         [  2,   2,   2],\n",
       "         ...,\n",
       "         [255, 255, 255],\n",
       "         [253, 253, 253],\n",
       "         [255, 255, 255]],\n",
       " \n",
       "        ...,\n",
       " \n",
       "        [[ 36,  36,  36],\n",
       "         [  0,   0,   0],\n",
       "         [  0,   0,   0],\n",
       "         ...,\n",
       "         [255, 255, 255],\n",
       "         [247, 247, 247],\n",
       "         [252, 252, 252]],\n",
       " \n",
       "        [[  8,   8,   8],\n",
       "         [  6,   6,   6],\n",
       "         [  0,   0,   0],\n",
       "         ...,\n",
       "         [252, 252, 252],\n",
       "         [255, 255, 255],\n",
       "         [255, 255, 255]],\n",
       " \n",
       "        [[ 49,  49,  49],\n",
       "         [118, 118, 118],\n",
       "         [128, 128, 128],\n",
       "         ...,\n",
       "         [249, 249, 249],\n",
       "         [252, 252, 252],\n",
       "         [243, 243, 243]]], dtype=uint8)\n",
       " orig_shape: (324, 272)\n",
       " path: 'C:\\\\Users\\\\Owen\\\\Downloads\\\\Brain_tumor_od\\\\Tumor\\\\images\\\\Test\\\\0f8fbede-Y111.JPG'\n",
       " probs: None\n",
       " save_dir: 'runs\\\\detect\\\\predict5'\n",
       " speed: {'preprocess': 5.817800003569573, 'inference': 97.687399975257, 'postprocess': 1.132700010202825},\n",
       " ultralytics.engine.results.Results object with attributes:\n",
       " \n",
       " boxes: ultralytics.engine.results.Boxes object\n",
       " keypoints: None\n",
       " masks: None\n",
       " names: {0: 'Tumor Brain'}\n",
       " obb: None\n",
       " orig_img: array([[[  0,   0,   0],\n",
       "         [  6,   6,   6],\n",
       "         [  0,   0,   0],\n",
       "         ...,\n",
       "         [  2,   2,   2],\n",
       "         [253, 253, 253],\n",
       "         [255, 255, 255]],\n",
       " \n",
       "        [[  0,   0,   0],\n",
       "         [  0,   0,   0],\n",
       "         [  2,   2,   2],\n",
       "         ...,\n",
       "         [  0,   0,   0],\n",
       "         [255, 255, 255],\n",
       "         [252, 252, 252]],\n",
       " \n",
       "        [[  0,   0,   0],\n",
       "         [  1,   1,   1],\n",
       "         [  0,   0,   0],\n",
       "         ...,\n",
       "         [  1,   1,   1],\n",
       "         [251, 251, 251],\n",
       "         [255, 255, 255]],\n",
       " \n",
       "        ...,\n",
       " \n",
       "        [[  0,   0,   0],\n",
       "         [  0,   0,   0],\n",
       "         [  0,   0,   0],\n",
       "         ...,\n",
       "         [  1,   1,   1],\n",
       "         [250, 250, 250],\n",
       "         [255, 255, 255]],\n",
       " \n",
       "        [[  0,   0,   0],\n",
       "         [  1,   1,   1],\n",
       "         [  0,   0,   0],\n",
       "         ...,\n",
       "         [  0,   0,   0],\n",
       "         [254, 254, 254],\n",
       "         [254, 254, 254]],\n",
       " \n",
       "        [[255, 255, 255],\n",
       "         [253, 253, 253],\n",
       "         [255, 255, 255],\n",
       "         ...,\n",
       "         [255, 255, 255],\n",
       "         [255, 255, 255],\n",
       "         [255, 255, 255]]], dtype=uint8)\n",
       " orig_shape: (350, 272)\n",
       " path: 'C:\\\\Users\\\\Owen\\\\Downloads\\\\Brain_tumor_od\\\\Tumor\\\\images\\\\Test\\\\14b35816-Y167.JPG'\n",
       " probs: None\n",
       " save_dir: 'runs\\\\detect\\\\predict5'\n",
       " speed: {'preprocess': 2.355000004172325, 'inference': 97.33829999458976, 'postprocess': 1.1029000161215663},\n",
       " ultralytics.engine.results.Results object with attributes:\n",
       " \n",
       " boxes: ultralytics.engine.results.Boxes object\n",
       " keypoints: None\n",
       " masks: None\n",
       " names: {0: 'Tumor Brain'}\n",
       " obb: None\n",
       " orig_img: array([[[21, 21, 21],\n",
       "         [21, 21, 21],\n",
       "         [21, 21, 21],\n",
       "         ...,\n",
       "         [18, 18, 18],\n",
       "         [19, 19, 19],\n",
       "         [19, 19, 19]],\n",
       " \n",
       "        [[21, 21, 21],\n",
       "         [21, 21, 21],\n",
       "         [21, 21, 21],\n",
       "         ...,\n",
       "         [18, 18, 18],\n",
       "         [19, 19, 19],\n",
       "         [19, 19, 19]],\n",
       " \n",
       "        [[21, 21, 21],\n",
       "         [21, 21, 21],\n",
       "         [21, 21, 21],\n",
       "         ...,\n",
       "         [18, 18, 18],\n",
       "         [19, 19, 19],\n",
       "         [19, 19, 19]],\n",
       " \n",
       "        ...,\n",
       " \n",
       "        [[24, 24, 24],\n",
       "         [24, 24, 24],\n",
       "         [24, 24, 24],\n",
       "         ...,\n",
       "         [21, 21, 21],\n",
       "         [21, 21, 21],\n",
       "         [21, 21, 21]],\n",
       " \n",
       "        [[24, 24, 24],\n",
       "         [24, 24, 24],\n",
       "         [24, 24, 24],\n",
       "         ...,\n",
       "         [21, 21, 21],\n",
       "         [21, 21, 21],\n",
       "         [21, 21, 21]],\n",
       " \n",
       "        [[24, 24, 24],\n",
       "         [24, 24, 24],\n",
       "         [24, 24, 24],\n",
       "         ...,\n",
       "         [21, 21, 21],\n",
       "         [21, 21, 21],\n",
       "         [21, 21, 21]]], dtype=uint8)\n",
       " orig_shape: (340, 314)\n",
       " path: 'C:\\\\Users\\\\Owen\\\\Downloads\\\\Brain_tumor_od\\\\Tumor\\\\images\\\\Test\\\\1d6bf47a-Y58.JPG'\n",
       " probs: None\n",
       " save_dir: 'runs\\\\detect\\\\predict5'\n",
       " speed: {'preprocess': 7.063600001856685, 'inference': 117.57279999437742, 'postprocess': 1.6772000235505402},\n",
       " ultralytics.engine.results.Results object with attributes:\n",
       " \n",
       " boxes: ultralytics.engine.results.Boxes object\n",
       " keypoints: None\n",
       " masks: None\n",
       " names: {0: 'Tumor Brain'}\n",
       " obb: None\n",
       " orig_img: array([[[1, 1, 1],\n",
       "         [1, 1, 1],\n",
       "         [1, 1, 1],\n",
       "         ...,\n",
       "         [1, 1, 1],\n",
       "         [1, 1, 1],\n",
       "         [1, 1, 1]],\n",
       " \n",
       "        [[1, 1, 1],\n",
       "         [1, 1, 1],\n",
       "         [1, 1, 1],\n",
       "         ...,\n",
       "         [1, 1, 1],\n",
       "         [1, 1, 1],\n",
       "         [1, 1, 1]],\n",
       " \n",
       "        [[1, 1, 1],\n",
       "         [1, 1, 1],\n",
       "         [1, 1, 1],\n",
       "         ...,\n",
       "         [1, 1, 1],\n",
       "         [1, 1, 1],\n",
       "         [1, 1, 1]],\n",
       " \n",
       "        ...,\n",
       " \n",
       "        [[1, 1, 1],\n",
       "         [1, 1, 1],\n",
       "         [1, 1, 1],\n",
       "         ...,\n",
       "         [1, 1, 1],\n",
       "         [1, 1, 1],\n",
       "         [1, 1, 1]],\n",
       " \n",
       "        [[1, 1, 1],\n",
       "         [1, 1, 1],\n",
       "         [1, 1, 1],\n",
       "         ...,\n",
       "         [1, 1, 1],\n",
       "         [1, 1, 1],\n",
       "         [1, 1, 1]],\n",
       " \n",
       "        [[1, 1, 1],\n",
       "         [1, 1, 1],\n",
       "         [1, 1, 1],\n",
       "         ...,\n",
       "         [1, 1, 1],\n",
       "         [1, 1, 1],\n",
       "         [1, 1, 1]]], dtype=uint8)\n",
       " orig_shape: (331, 260)\n",
       " path: 'C:\\\\Users\\\\Owen\\\\Downloads\\\\Brain_tumor_od\\\\Tumor\\\\images\\\\Test\\\\2348299e-Y249.JPG'\n",
       " probs: None\n",
       " save_dir: 'runs\\\\detect\\\\predict5'\n",
       " speed: {'preprocess': 2.941800019470975, 'inference': 98.6239000048954, 'postprocess': 0.5055000074207783},\n",
       " ultralytics.engine.results.Results object with attributes:\n",
       " \n",
       " boxes: ultralytics.engine.results.Boxes object\n",
       " keypoints: None\n",
       " masks: None\n",
       " names: {0: 'Tumor Brain'}\n",
       " obb: None\n",
       " orig_img: array([[[ 7,  7,  7],\n",
       "         [ 7,  7,  7],\n",
       "         [ 7,  7,  7],\n",
       "         ...,\n",
       "         [31, 31, 31],\n",
       "         [29, 29, 29],\n",
       "         [31, 31, 31]],\n",
       " \n",
       "        [[ 7,  7,  7],\n",
       "         [ 7,  7,  7],\n",
       "         [ 8,  8,  8],\n",
       "         ...,\n",
       "         [31, 31, 31],\n",
       "         [29, 29, 29],\n",
       "         [31, 31, 31]],\n",
       " \n",
       "        [[ 8,  8,  8],\n",
       "         [ 8,  8,  8],\n",
       "         [ 9,  9,  9],\n",
       "         ...,\n",
       "         [31, 31, 31],\n",
       "         [28, 28, 28],\n",
       "         [31, 31, 31]],\n",
       " \n",
       "        ...,\n",
       " \n",
       "        [[ 6,  6,  6],\n",
       "         [ 6,  6,  6],\n",
       "         [ 6,  6,  6],\n",
       "         ...,\n",
       "         [30, 30, 30],\n",
       "         [27, 27, 27],\n",
       "         [29, 29, 29]],\n",
       " \n",
       "        [[ 7,  7,  7],\n",
       "         [ 7,  7,  7],\n",
       "         [ 7,  7,  7],\n",
       "         ...,\n",
       "         [30, 30, 30],\n",
       "         [26, 26, 26],\n",
       "         [30, 30, 30]],\n",
       " \n",
       "        [[16, 16, 16],\n",
       "         [17, 17, 17],\n",
       "         [17, 17, 17],\n",
       "         ...,\n",
       "         [29, 29, 29],\n",
       "         [26, 26, 26],\n",
       "         [31, 31, 31]]], dtype=uint8)\n",
       " orig_shape: (350, 272)\n",
       " path: 'C:\\\\Users\\\\Owen\\\\Downloads\\\\Brain_tumor_od\\\\Tumor\\\\images\\\\Test\\\\299f7166-Y86.JPG'\n",
       " probs: None\n",
       " save_dir: 'runs\\\\detect\\\\predict5'\n",
       " speed: {'preprocess': 3.086899989284575, 'inference': 93.24230000493117, 'postprocess': 1.0412000119686127},\n",
       " ultralytics.engine.results.Results object with attributes:\n",
       " \n",
       " boxes: ultralytics.engine.results.Boxes object\n",
       " keypoints: None\n",
       " masks: None\n",
       " names: {0: 'Tumor Brain'}\n",
       " obb: None\n",
       " orig_img: array([[[1, 1, 1],\n",
       "         [1, 1, 1],\n",
       "         [1, 1, 1],\n",
       "         ...,\n",
       "         [0, 0, 0],\n",
       "         [0, 0, 0],\n",
       "         [0, 0, 0]],\n",
       " \n",
       "        [[1, 1, 1],\n",
       "         [1, 1, 1],\n",
       "         [1, 1, 1],\n",
       "         ...,\n",
       "         [0, 0, 0],\n",
       "         [0, 0, 0],\n",
       "         [0, 0, 0]],\n",
       " \n",
       "        [[1, 1, 1],\n",
       "         [1, 1, 1],\n",
       "         [1, 1, 1],\n",
       "         ...,\n",
       "         [0, 0, 0],\n",
       "         [0, 0, 0],\n",
       "         [0, 0, 0]],\n",
       " \n",
       "        ...,\n",
       " \n",
       "        [[0, 0, 0],\n",
       "         [0, 0, 0],\n",
       "         [0, 0, 0],\n",
       "         ...,\n",
       "         [1, 1, 1],\n",
       "         [1, 1, 1],\n",
       "         [1, 1, 1]],\n",
       " \n",
       "        [[0, 0, 0],\n",
       "         [0, 0, 0],\n",
       "         [0, 0, 0],\n",
       "         ...,\n",
       "         [1, 1, 1],\n",
       "         [1, 1, 1],\n",
       "         [1, 1, 1]],\n",
       " \n",
       "        [[0, 0, 0],\n",
       "         [0, 0, 0],\n",
       "         [0, 0, 0],\n",
       "         ...,\n",
       "         [1, 1, 1],\n",
       "         [1, 1, 1],\n",
       "         [1, 1, 1]]], dtype=uint8)\n",
       " orig_shape: (325, 300)\n",
       " path: 'C:\\\\Users\\\\Owen\\\\Downloads\\\\Brain_tumor_od\\\\Tumor\\\\images\\\\Test\\\\2a6b1aad-Y54.jpg'\n",
       " probs: None\n",
       " save_dir: 'runs\\\\detect\\\\predict5'\n",
       " speed: {'preprocess': 5.461799999466166, 'inference': 123.27279997407459, 'postprocess': 1.1282000050414354},\n",
       " ultralytics.engine.results.Results object with attributes:\n",
       " \n",
       " boxes: ultralytics.engine.results.Boxes object\n",
       " keypoints: None\n",
       " masks: None\n",
       " names: {0: 'Tumor Brain'}\n",
       " obb: None\n",
       " orig_img: array([[[255, 255, 255],\n",
       "         [234, 234, 234],\n",
       "         [  2,   2,   2],\n",
       "         ...,\n",
       "         [254, 254, 254],\n",
       "         [255, 255, 255],\n",
       "         [253, 253, 253]],\n",
       " \n",
       "        [[255, 255, 255],\n",
       "         [232, 232, 232],\n",
       "         [ 13,  13,  13],\n",
       "         ...,\n",
       "         [252, 252, 252],\n",
       "         [254, 254, 254],\n",
       "         [250, 250, 250]],\n",
       " \n",
       "        [[252, 252, 252],\n",
       "         [239, 239, 239],\n",
       "         [  1,   1,   1],\n",
       "         ...,\n",
       "         [251, 251, 251],\n",
       "         [253, 253, 253],\n",
       "         [249, 249, 249]],\n",
       " \n",
       "        ...,\n",
       " \n",
       "        [[255, 255, 255],\n",
       "         [238, 238, 238],\n",
       "         [ 15,  15,  15],\n",
       "         ...,\n",
       "         [255, 255, 255],\n",
       "         [254, 254, 254],\n",
       "         [254, 254, 254]],\n",
       " \n",
       "        [[252, 252, 252],\n",
       "         [235, 235, 235],\n",
       "         [ 11,  11,  11],\n",
       "         ...,\n",
       "         [255, 255, 255],\n",
       "         [254, 254, 254],\n",
       "         [254, 254, 254]],\n",
       " \n",
       "        [[252, 252, 252],\n",
       "         [234, 234, 234],\n",
       "         [ 10,  10,  10],\n",
       "         ...,\n",
       "         [255, 255, 255],\n",
       "         [254, 254, 254],\n",
       "         [254, 254, 254]]], dtype=uint8)\n",
       " orig_shape: (283, 231)\n",
       " path: 'C:\\\\Users\\\\Owen\\\\Downloads\\\\Brain_tumor_od\\\\Tumor\\\\images\\\\Test\\\\2b340333-Y148.JPG'\n",
       " probs: None\n",
       " save_dir: 'runs\\\\detect\\\\predict5'\n",
       " speed: {'preprocess': 5.278799973893911, 'inference': 95.8999999857042, 'postprocess': 0.831599987577647},\n",
       " ultralytics.engine.results.Results object with attributes:\n",
       " \n",
       " boxes: ultralytics.engine.results.Boxes object\n",
       " keypoints: None\n",
       " masks: None\n",
       " names: {0: 'Tumor Brain'}\n",
       " obb: None\n",
       " orig_img: array([[[0, 0, 0],\n",
       "         [0, 0, 0],\n",
       "         [0, 0, 0],\n",
       "         ...,\n",
       "         [0, 0, 0],\n",
       "         [0, 0, 0],\n",
       "         [0, 0, 0]],\n",
       " \n",
       "        [[0, 0, 0],\n",
       "         [0, 0, 0],\n",
       "         [0, 0, 0],\n",
       "         ...,\n",
       "         [0, 0, 0],\n",
       "         [0, 0, 0],\n",
       "         [0, 0, 0]],\n",
       " \n",
       "        [[0, 0, 0],\n",
       "         [0, 0, 0],\n",
       "         [0, 0, 0],\n",
       "         ...,\n",
       "         [0, 0, 0],\n",
       "         [0, 0, 0],\n",
       "         [0, 0, 0]],\n",
       " \n",
       "        ...,\n",
       " \n",
       "        [[0, 0, 0],\n",
       "         [0, 0, 0],\n",
       "         [0, 0, 0],\n",
       "         ...,\n",
       "         [0, 0, 0],\n",
       "         [0, 0, 0],\n",
       "         [0, 0, 0]],\n",
       " \n",
       "        [[0, 0, 0],\n",
       "         [0, 0, 0],\n",
       "         [0, 0, 0],\n",
       "         ...,\n",
       "         [0, 0, 0],\n",
       "         [0, 0, 0],\n",
       "         [0, 0, 0]],\n",
       " \n",
       "        [[0, 0, 0],\n",
       "         [0, 0, 0],\n",
       "         [0, 0, 0],\n",
       "         ...,\n",
       "         [0, 0, 0],\n",
       "         [0, 0, 0],\n",
       "         [0, 0, 0]]], dtype=uint8)\n",
       " orig_shape: (300, 240)\n",
       " path: 'C:\\\\Users\\\\Owen\\\\Downloads\\\\Brain_tumor_od\\\\Tumor\\\\images\\\\Test\\\\30ca7f9d-Y92.png'\n",
       " probs: None\n",
       " save_dir: 'runs\\\\detect\\\\predict5'\n",
       " speed: {'preprocess': 2.170399995520711, 'inference': 93.41309999581426, 'postprocess': 0.9108999802265316},\n",
       " ultralytics.engine.results.Results object with attributes:\n",
       " \n",
       " boxes: ultralytics.engine.results.Boxes object\n",
       " keypoints: None\n",
       " masks: None\n",
       " names: {0: 'Tumor Brain'}\n",
       " obb: None\n",
       " orig_img: array([[[0, 0, 0],\n",
       "         [0, 0, 0],\n",
       "         [0, 0, 0],\n",
       "         ...,\n",
       "         [0, 0, 0],\n",
       "         [0, 0, 0],\n",
       "         [0, 0, 0]],\n",
       " \n",
       "        [[0, 0, 0],\n",
       "         [0, 0, 0],\n",
       "         [0, 0, 0],\n",
       "         ...,\n",
       "         [0, 0, 0],\n",
       "         [0, 0, 0],\n",
       "         [0, 0, 0]],\n",
       " \n",
       "        [[0, 0, 0],\n",
       "         [0, 0, 0],\n",
       "         [0, 0, 0],\n",
       "         ...,\n",
       "         [0, 0, 0],\n",
       "         [0, 0, 0],\n",
       "         [0, 0, 0]],\n",
       " \n",
       "        ...,\n",
       " \n",
       "        [[0, 0, 0],\n",
       "         [0, 0, 0],\n",
       "         [0, 0, 0],\n",
       "         ...,\n",
       "         [0, 0, 0],\n",
       "         [0, 0, 0],\n",
       "         [0, 0, 0]],\n",
       " \n",
       "        [[0, 0, 0],\n",
       "         [0, 0, 0],\n",
       "         [0, 0, 0],\n",
       "         ...,\n",
       "         [0, 0, 0],\n",
       "         [0, 0, 0],\n",
       "         [0, 0, 0]],\n",
       " \n",
       "        [[0, 0, 0],\n",
       "         [0, 0, 0],\n",
       "         [0, 0, 0],\n",
       "         ...,\n",
       "         [0, 0, 0],\n",
       "         [0, 0, 0],\n",
       "         [0, 0, 0]]], dtype=uint8)\n",
       " orig_shape: (233, 215)\n",
       " path: 'C:\\\\Users\\\\Owen\\\\Downloads\\\\Brain_tumor_od\\\\Tumor\\\\images\\\\Test\\\\394b7895-Y67.JPG'\n",
       " probs: None\n",
       " save_dir: 'runs\\\\detect\\\\predict5'\n",
       " speed: {'preprocess': 5.063900025561452, 'inference': 100.25469999527559, 'postprocess': 0.5956999957561493},\n",
       " ultralytics.engine.results.Results object with attributes:\n",
       " \n",
       " boxes: ultralytics.engine.results.Boxes object\n",
       " keypoints: None\n",
       " masks: None\n",
       " names: {0: 'Tumor Brain'}\n",
       " obb: None\n",
       " orig_img: array([[[27, 27, 27],\n",
       "         [27, 27, 27],\n",
       "         [27, 27, 27],\n",
       "         ...,\n",
       "         [27, 27, 27],\n",
       "         [27, 27, 27],\n",
       "         [27, 27, 27]],\n",
       " \n",
       "        [[27, 27, 27],\n",
       "         [27, 27, 27],\n",
       "         [27, 27, 27],\n",
       "         ...,\n",
       "         [27, 27, 27],\n",
       "         [27, 27, 27],\n",
       "         [27, 27, 27]],\n",
       " \n",
       "        [[ 3,  3,  3],\n",
       "         [ 3,  3,  3],\n",
       "         [ 3,  3,  3],\n",
       "         ...,\n",
       "         [ 3,  3,  3],\n",
       "         [ 3,  3,  3],\n",
       "         [ 3,  3,  3]],\n",
       " \n",
       "        ...,\n",
       " \n",
       "        [[ 0,  0,  0],\n",
       "         [ 0,  0,  0],\n",
       "         [ 0,  0,  0],\n",
       "         ...,\n",
       "         [ 0,  0,  0],\n",
       "         [ 0,  0,  0],\n",
       "         [ 0,  0,  0]],\n",
       " \n",
       "        [[ 0,  0,  0],\n",
       "         [ 0,  0,  0],\n",
       "         [ 0,  0,  0],\n",
       "         ...,\n",
       "         [ 0,  0,  0],\n",
       "         [ 0,  0,  0],\n",
       "         [ 0,  0,  0]],\n",
       " \n",
       "        [[ 0,  0,  0],\n",
       "         [ 0,  0,  0],\n",
       "         [ 0,  0,  0],\n",
       "         ...,\n",
       "         [ 0,  0,  0],\n",
       "         [ 0,  0,  0],\n",
       "         [ 0,  0,  0]]], dtype=uint8)\n",
       " orig_shape: (355, 290)\n",
       " path: 'C:\\\\Users\\\\Owen\\\\Downloads\\\\Brain_tumor_od\\\\Tumor\\\\images\\\\Test\\\\41b45802-Y170.JPG'\n",
       " probs: None\n",
       " save_dir: 'runs\\\\detect\\\\predict5'\n",
       " speed: {'preprocess': 3.6143999896012247, 'inference': 105.33590000704862, 'postprocess': 0.5061000119894743},\n",
       " ultralytics.engine.results.Results object with attributes:\n",
       " \n",
       " boxes: ultralytics.engine.results.Boxes object\n",
       " keypoints: None\n",
       " masks: None\n",
       " names: {0: 'Tumor Brain'}\n",
       " obb: None\n",
       " orig_img: array([[[49, 48, 44],\n",
       "         [49, 48, 44],\n",
       "         [50, 49, 45],\n",
       "         ...,\n",
       "         [50, 49, 45],\n",
       "         [50, 49, 45],\n",
       "         [50, 49, 45]],\n",
       " \n",
       "        [[49, 48, 44],\n",
       "         [49, 48, 44],\n",
       "         [50, 49, 45],\n",
       "         ...,\n",
       "         [50, 49, 45],\n",
       "         [50, 49, 45],\n",
       "         [50, 49, 45]],\n",
       " \n",
       "        [[49, 48, 44],\n",
       "         [49, 48, 44],\n",
       "         [50, 49, 45],\n",
       "         ...,\n",
       "         [50, 49, 45],\n",
       "         [50, 49, 45],\n",
       "         [50, 49, 45]],\n",
       " \n",
       "        ...,\n",
       " \n",
       "        [[48, 47, 43],\n",
       "         [48, 47, 43],\n",
       "         [48, 47, 43],\n",
       "         ...,\n",
       "         [49, 48, 44],\n",
       "         [49, 48, 44],\n",
       "         [49, 48, 44]],\n",
       " \n",
       "        [[48, 47, 43],\n",
       "         [48, 47, 43],\n",
       "         [48, 47, 43],\n",
       "         ...,\n",
       "         [49, 48, 44],\n",
       "         [49, 48, 44],\n",
       "         [49, 48, 44]],\n",
       " \n",
       "        [[48, 47, 43],\n",
       "         [48, 47, 43],\n",
       "         [48, 47, 43],\n",
       "         ...,\n",
       "         [49, 48, 44],\n",
       "         [49, 48, 44],\n",
       "         [49, 48, 44]]], dtype=uint8)\n",
       " orig_shape: (223, 226)\n",
       " path: 'C:\\\\Users\\\\Owen\\\\Downloads\\\\Brain_tumor_od\\\\Tumor\\\\images\\\\Test\\\\5045a11e-Y82.jpg'\n",
       " probs: None\n",
       " save_dir: 'runs\\\\detect\\\\predict5'\n",
       " speed: {'preprocess': 6.77239999640733, 'inference': 160.91969999251887, 'postprocess': 1.3445999938994646},\n",
       " ultralytics.engine.results.Results object with attributes:\n",
       " \n",
       " boxes: ultralytics.engine.results.Boxes object\n",
       " keypoints: None\n",
       " masks: None\n",
       " names: {0: 'Tumor Brain'}\n",
       " obb: None\n",
       " orig_img: array([[[252, 252, 252],\n",
       "         [255, 255, 255],\n",
       "         [254, 254, 254],\n",
       "         ...,\n",
       "         [238, 238, 238],\n",
       "         [255, 255, 255],\n",
       "         [255, 255, 255]],\n",
       " \n",
       "        [[255, 255, 255],\n",
       "         [254, 254, 254],\n",
       "         [255, 255, 255],\n",
       "         ...,\n",
       "         [248, 248, 248],\n",
       "         [255, 255, 255],\n",
       "         [255, 255, 255]],\n",
       " \n",
       "        [[250, 250, 250],\n",
       "         [248, 248, 248],\n",
       "         [255, 255, 255],\n",
       "         ...,\n",
       "         [246, 246, 246],\n",
       "         [255, 255, 255],\n",
       "         [255, 255, 255]],\n",
       " \n",
       "        ...,\n",
       " \n",
       "        [[255, 255, 255],\n",
       "         [239, 239, 239],\n",
       "         [255, 255, 255],\n",
       "         ...,\n",
       "         [255, 255, 255],\n",
       "         [246, 246, 246],\n",
       "         [255, 255, 255]],\n",
       " \n",
       "        [[255, 255, 255],\n",
       "         [253, 253, 253],\n",
       "         [255, 255, 255],\n",
       "         ...,\n",
       "         [255, 255, 255],\n",
       "         [253, 253, 253],\n",
       "         [255, 255, 255]],\n",
       " \n",
       "        [[252, 252, 252],\n",
       "         [255, 255, 255],\n",
       "         [252, 252, 252],\n",
       "         ...,\n",
       "         [252, 252, 252],\n",
       "         [255, 255, 255],\n",
       "         [255, 255, 255]]], dtype=uint8)\n",
       " orig_shape: (286, 241)\n",
       " path: 'C:\\\\Users\\\\Owen\\\\Downloads\\\\Brain_tumor_od\\\\Tumor\\\\images\\\\Test\\\\5c65e51a-Y89.JPG'\n",
       " probs: None\n",
       " save_dir: 'runs\\\\detect\\\\predict5'\n",
       " speed: {'preprocess': 5.104999989271164, 'inference': 121.24440001207404, 'postprocess': 0.9436999971512705},\n",
       " ultralytics.engine.results.Results object with attributes:\n",
       " \n",
       " boxes: ultralytics.engine.results.Boxes object\n",
       " keypoints: None\n",
       " masks: None\n",
       " names: {0: 'Tumor Brain'}\n",
       " obb: None\n",
       " orig_img: array([[[255, 255, 255],\n",
       "         [253, 253, 253],\n",
       "         [255, 255, 255],\n",
       "         ...,\n",
       "         [255, 255, 255],\n",
       "         [255, 255, 255],\n",
       "         [255, 255, 255]],\n",
       " \n",
       "        [[253, 253, 253],\n",
       "         [255, 255, 255],\n",
       "         [255, 255, 255],\n",
       "         ...,\n",
       "         [254, 254, 254],\n",
       "         [255, 255, 255],\n",
       "         [255, 255, 255]],\n",
       " \n",
       "        [[252, 252, 252],\n",
       "         [255, 255, 255],\n",
       "         [231, 231, 231],\n",
       "         ...,\n",
       "         [252, 252, 252],\n",
       "         [255, 255, 255],\n",
       "         [255, 255, 255]],\n",
       " \n",
       "        ...,\n",
       " \n",
       "        [[255, 255, 255],\n",
       "         [245, 245, 245],\n",
       "         [ 11,  11,  11],\n",
       "         ...,\n",
       "         [255, 255, 255],\n",
       "         [255, 255, 255],\n",
       "         [255, 255, 255]],\n",
       " \n",
       "        [[244, 244, 244],\n",
       "         [255, 255, 255],\n",
       "         [239, 239, 239],\n",
       "         ...,\n",
       "         [252, 252, 252],\n",
       "         [255, 255, 255],\n",
       "         [255, 255, 255]],\n",
       " \n",
       "        [[255, 255, 255],\n",
       "         [251, 251, 251],\n",
       "         [253, 253, 253],\n",
       "         ...,\n",
       "         [255, 255, 255],\n",
       "         [255, 255, 255],\n",
       "         [255, 255, 255]]], dtype=uint8)\n",
       " orig_shape: (279, 258)\n",
       " path: 'C:\\\\Users\\\\Owen\\\\Downloads\\\\Brain_tumor_od\\\\Tumor\\\\images\\\\Test\\\\62c1eeba-Y109.JPG'\n",
       " probs: None\n",
       " save_dir: 'runs\\\\detect\\\\predict5'\n",
       " speed: {'preprocess': 4.962500010151416, 'inference': 112.11349998484366, 'postprocess': 0.9253000025637448},\n",
       " ultralytics.engine.results.Results object with attributes:\n",
       " \n",
       " boxes: ultralytics.engine.results.Boxes object\n",
       " keypoints: None\n",
       " masks: None\n",
       " names: {0: 'Tumor Brain'}\n",
       " obb: None\n",
       " orig_img: array([[[1, 1, 1],\n",
       "         [1, 1, 1],\n",
       "         [1, 1, 1],\n",
       "         ...,\n",
       "         [1, 1, 1],\n",
       "         [0, 0, 0],\n",
       "         [0, 0, 0]],\n",
       " \n",
       "        [[1, 1, 1],\n",
       "         [1, 1, 1],\n",
       "         [1, 1, 1],\n",
       "         ...,\n",
       "         [1, 1, 1],\n",
       "         [0, 0, 0],\n",
       "         [0, 0, 0]],\n",
       " \n",
       "        [[1, 1, 1],\n",
       "         [1, 1, 1],\n",
       "         [1, 1, 1],\n",
       "         ...,\n",
       "         [1, 1, 1],\n",
       "         [0, 0, 0],\n",
       "         [0, 0, 0]],\n",
       " \n",
       "        ...,\n",
       " \n",
       "        [[0, 0, 0],\n",
       "         [0, 0, 0],\n",
       "         [0, 0, 0],\n",
       "         ...,\n",
       "         [0, 0, 0],\n",
       "         [0, 0, 0],\n",
       "         [0, 0, 0]],\n",
       " \n",
       "        [[0, 0, 0],\n",
       "         [0, 0, 0],\n",
       "         [0, 0, 0],\n",
       "         ...,\n",
       "         [0, 0, 0],\n",
       "         [0, 0, 0],\n",
       "         [0, 0, 0]],\n",
       " \n",
       "        [[0, 0, 0],\n",
       "         [0, 0, 0],\n",
       "         [0, 0, 0],\n",
       "         ...,\n",
       "         [0, 0, 0],\n",
       "         [0, 0, 0],\n",
       "         [0, 0, 0]]], dtype=uint8)\n",
       " orig_shape: (260, 194)\n",
       " path: 'C:\\\\Users\\\\Owen\\\\Downloads\\\\Brain_tumor_od\\\\Tumor\\\\images\\\\Test\\\\689814ba-Y92.jpg'\n",
       " probs: None\n",
       " save_dir: 'runs\\\\detect\\\\predict5'\n",
       " speed: {'preprocess': 13.738400011789054, 'inference': 206.6124000120908, 'postprocess': 1.2728000001516193},\n",
       " ultralytics.engine.results.Results object with attributes:\n",
       " \n",
       " boxes: ultralytics.engine.results.Boxes object\n",
       " keypoints: None\n",
       " masks: None\n",
       " names: {0: 'Tumor Brain'}\n",
       " obb: None\n",
       " orig_img: array([[[2, 2, 2],\n",
       "         [2, 2, 2],\n",
       "         [2, 2, 2],\n",
       "         ...,\n",
       "         [2, 2, 2],\n",
       "         [2, 2, 2],\n",
       "         [2, 2, 2]],\n",
       " \n",
       "        [[2, 2, 2],\n",
       "         [2, 2, 2],\n",
       "         [2, 2, 2],\n",
       "         ...,\n",
       "         [2, 2, 2],\n",
       "         [2, 2, 2],\n",
       "         [2, 2, 2]],\n",
       " \n",
       "        [[2, 2, 2],\n",
       "         [2, 2, 2],\n",
       "         [2, 2, 2],\n",
       "         ...,\n",
       "         [2, 2, 2],\n",
       "         [2, 2, 2],\n",
       "         [2, 2, 2]],\n",
       " \n",
       "        ...,\n",
       " \n",
       "        [[2, 2, 2],\n",
       "         [2, 2, 2],\n",
       "         [2, 2, 2],\n",
       "         ...,\n",
       "         [2, 2, 2],\n",
       "         [2, 2, 2],\n",
       "         [2, 2, 2]],\n",
       " \n",
       "        [[2, 2, 2],\n",
       "         [2, 2, 2],\n",
       "         [2, 2, 2],\n",
       "         ...,\n",
       "         [2, 2, 2],\n",
       "         [2, 2, 2],\n",
       "         [2, 2, 2]],\n",
       " \n",
       "        [[2, 2, 2],\n",
       "         [2, 2, 2],\n",
       "         [2, 2, 2],\n",
       "         ...,\n",
       "         [2, 2, 2],\n",
       "         [2, 2, 2],\n",
       "         [2, 2, 2]]], dtype=uint8)\n",
       " orig_shape: (350, 315)\n",
       " path: 'C:\\\\Users\\\\Owen\\\\Downloads\\\\Brain_tumor_od\\\\Tumor\\\\images\\\\Test\\\\6d8443b8-Y50.JPG'\n",
       " probs: None\n",
       " save_dir: 'runs\\\\detect\\\\predict5'\n",
       " speed: {'preprocess': 9.623899997677654, 'inference': 206.69169997563586, 'postprocess': 1.7416000191587955},\n",
       " ultralytics.engine.results.Results object with attributes:\n",
       " \n",
       " boxes: ultralytics.engine.results.Boxes object\n",
       " keypoints: None\n",
       " masks: None\n",
       " names: {0: 'Tumor Brain'}\n",
       " obb: None\n",
       " orig_img: array([[[16, 16, 16],\n",
       "         [16, 16, 16],\n",
       "         [16, 16, 16],\n",
       "         ...,\n",
       "         [16, 16, 16],\n",
       "         [16, 16, 16],\n",
       "         [16, 16, 16]],\n",
       " \n",
       "        [[16, 16, 16],\n",
       "         [16, 16, 16],\n",
       "         [16, 16, 16],\n",
       "         ...,\n",
       "         [16, 16, 16],\n",
       "         [16, 16, 16],\n",
       "         [16, 16, 16]],\n",
       " \n",
       "        [[16, 16, 16],\n",
       "         [16, 16, 16],\n",
       "         [16, 16, 16],\n",
       "         ...,\n",
       "         [16, 16, 16],\n",
       "         [16, 16, 16],\n",
       "         [16, 16, 16]],\n",
       " \n",
       "        ...,\n",
       " \n",
       "        [[16, 16, 16],\n",
       "         [16, 16, 16],\n",
       "         [16, 16, 16],\n",
       "         ...,\n",
       "         [16, 16, 16],\n",
       "         [16, 16, 16],\n",
       "         [16, 16, 16]],\n",
       " \n",
       "        [[16, 16, 16],\n",
       "         [16, 16, 16],\n",
       "         [16, 16, 16],\n",
       "         ...,\n",
       "         [16, 16, 16],\n",
       "         [16, 16, 16],\n",
       "         [16, 16, 16]],\n",
       " \n",
       "        [[16, 16, 16],\n",
       "         [16, 16, 16],\n",
       "         [16, 16, 16],\n",
       "         ...,\n",
       "         [16, 16, 16],\n",
       "         [16, 16, 16],\n",
       "         [16, 16, 16]]], dtype=uint8)\n",
       " orig_shape: (630, 630)\n",
       " path: 'C:\\\\Users\\\\Owen\\\\Downloads\\\\Brain_tumor_od\\\\Tumor\\\\images\\\\Test\\\\7104db8e-Y27.jpg'\n",
       " probs: None\n",
       " save_dir: 'runs\\\\detect\\\\predict5'\n",
       " speed: {'preprocess': 5.105899996124208, 'inference': 118.15759999444708, 'postprocess': 0.906600005691871},\n",
       " ultralytics.engine.results.Results object with attributes:\n",
       " \n",
       " boxes: ultralytics.engine.results.Boxes object\n",
       " keypoints: None\n",
       " masks: None\n",
       " names: {0: 'Tumor Brain'}\n",
       " obb: None\n",
       " orig_img: array([[[255, 255, 255],\n",
       "         [253, 253, 253],\n",
       "         [180, 180, 180],\n",
       "         ...,\n",
       "         [ 29,  29,  29],\n",
       "         [ 29,  29,  29],\n",
       "         [ 31,  31,  31]],\n",
       " \n",
       "        [[255, 255, 255],\n",
       "         [253, 253, 253],\n",
       "         [180, 180, 180],\n",
       "         ...,\n",
       "         [ 29,  29,  29],\n",
       "         [ 29,  29,  29],\n",
       "         [ 31,  31,  31]],\n",
       " \n",
       "        [[255, 255, 255],\n",
       "         [253, 253, 253],\n",
       "         [180, 180, 180],\n",
       "         ...,\n",
       "         [ 29,  29,  29],\n",
       "         [ 29,  29,  29],\n",
       "         [ 31,  31,  31]],\n",
       " \n",
       "        ...,\n",
       " \n",
       "        [[ 22,  22,  22],\n",
       "         [ 20,  20,  20],\n",
       "         [ 13,  13,  13],\n",
       "         ...,\n",
       "         [ 28,  28,  28],\n",
       "         [ 29,  29,  29],\n",
       "         [ 28,  28,  28]],\n",
       " \n",
       "        [[ 21,  21,  21],\n",
       "         [ 21,  21,  21],\n",
       "         [ 21,  21,  21],\n",
       "         ...,\n",
       "         [ 28,  28,  28],\n",
       "         [ 29,  29,  29],\n",
       "         [ 29,  29,  29]],\n",
       " \n",
       "        [[ 21,  21,  21],\n",
       "         [ 21,  21,  21],\n",
       "         [ 21,  21,  21],\n",
       "         ...,\n",
       "         [ 28,  28,  28],\n",
       "         [ 29,  29,  29],\n",
       "         [ 29,  29,  29]]], dtype=uint8)\n",
       " orig_shape: (354, 279)\n",
       " path: 'C:\\\\Users\\\\Owen\\\\Downloads\\\\Brain_tumor_od\\\\Tumor\\\\images\\\\Test\\\\7aaf0c6d-Y18.JPG'\n",
       " probs: None\n",
       " save_dir: 'runs\\\\detect\\\\predict5'\n",
       " speed: {'preprocess': 5.691900005331263, 'inference': 102.36590000567958, 'postprocess': 0.8724000072106719},\n",
       " ultralytics.engine.results.Results object with attributes:\n",
       " \n",
       " boxes: ultralytics.engine.results.Boxes object\n",
       " keypoints: None\n",
       " masks: None\n",
       " names: {0: 'Tumor Brain'}\n",
       " obb: None\n",
       " orig_img: array([[[1, 1, 1],\n",
       "         [1, 1, 1],\n",
       "         [1, 1, 1],\n",
       "         ...,\n",
       "         [2, 2, 2],\n",
       "         [2, 2, 2],\n",
       "         [3, 3, 3]],\n",
       " \n",
       "        [[1, 1, 1],\n",
       "         [1, 1, 1],\n",
       "         [1, 1, 1],\n",
       "         ...,\n",
       "         [2, 2, 2],\n",
       "         [2, 2, 2],\n",
       "         [3, 3, 3]],\n",
       " \n",
       "        [[2, 2, 2],\n",
       "         [2, 2, 2],\n",
       "         [2, 2, 2],\n",
       "         ...,\n",
       "         [2, 2, 2],\n",
       "         [2, 2, 2],\n",
       "         [4, 4, 4]],\n",
       " \n",
       "        ...,\n",
       " \n",
       "        [[2, 2, 2],\n",
       "         [2, 2, 2],\n",
       "         [2, 2, 2],\n",
       "         ...,\n",
       "         [1, 1, 1],\n",
       "         [1, 1, 1],\n",
       "         [2, 2, 2]],\n",
       " \n",
       "        [[2, 2, 2],\n",
       "         [2, 2, 2],\n",
       "         [2, 2, 2],\n",
       "         ...,\n",
       "         [1, 1, 1],\n",
       "         [1, 1, 1],\n",
       "         [2, 2, 2]],\n",
       " \n",
       "        [[2, 2, 2],\n",
       "         [2, 2, 2],\n",
       "         [2, 2, 2],\n",
       "         ...,\n",
       "         [1, 1, 1],\n",
       "         [1, 1, 1],\n",
       "         [2, 2, 2]]], dtype=uint8)\n",
       " orig_shape: (348, 297)\n",
       " path: 'C:\\\\Users\\\\Owen\\\\Downloads\\\\Brain_tumor_od\\\\Tumor\\\\images\\\\Test\\\\7b1b1c91-Y160.JPG'\n",
       " probs: None\n",
       " save_dir: 'runs\\\\detect\\\\predict5'\n",
       " speed: {'preprocess': 5.4546000028494745, 'inference': 112.63119999784976, 'postprocess': 0.8240000170189887},\n",
       " ultralytics.engine.results.Results object with attributes:\n",
       " \n",
       " boxes: ultralytics.engine.results.Boxes object\n",
       " keypoints: None\n",
       " masks: None\n",
       " names: {0: 'Tumor Brain'}\n",
       " obb: None\n",
       " orig_img: array([[[1, 1, 1],\n",
       "         [1, 1, 1],\n",
       "         [1, 1, 1],\n",
       "         ...,\n",
       "         [1, 1, 1],\n",
       "         [1, 1, 1],\n",
       "         [1, 1, 1]],\n",
       " \n",
       "        [[1, 1, 1],\n",
       "         [1, 1, 1],\n",
       "         [1, 1, 1],\n",
       "         ...,\n",
       "         [1, 1, 1],\n",
       "         [1, 1, 1],\n",
       "         [1, 1, 1]],\n",
       " \n",
       "        [[1, 1, 1],\n",
       "         [1, 1, 1],\n",
       "         [1, 1, 1],\n",
       "         ...,\n",
       "         [1, 1, 1],\n",
       "         [1, 1, 1],\n",
       "         [1, 1, 1]],\n",
       " \n",
       "        ...,\n",
       " \n",
       "        [[1, 1, 1],\n",
       "         [1, 1, 1],\n",
       "         [1, 1, 1],\n",
       "         ...,\n",
       "         [1, 1, 1],\n",
       "         [1, 1, 1],\n",
       "         [1, 1, 1]],\n",
       " \n",
       "        [[1, 1, 1],\n",
       "         [1, 1, 1],\n",
       "         [1, 1, 1],\n",
       "         ...,\n",
       "         [1, 1, 1],\n",
       "         [1, 1, 1],\n",
       "         [1, 1, 1]],\n",
       " \n",
       "        [[1, 1, 1],\n",
       "         [1, 1, 1],\n",
       "         [1, 1, 1],\n",
       "         ...,\n",
       "         [1, 1, 1],\n",
       "         [1, 1, 1],\n",
       "         [1, 1, 1]]], dtype=uint8)\n",
       " orig_shape: (249, 178)\n",
       " path: 'C:\\\\Users\\\\Owen\\\\Downloads\\\\Brain_tumor_od\\\\Tumor\\\\images\\\\Test\\\\80280e82-Y114.JPG'\n",
       " probs: None\n",
       " save_dir: 'runs\\\\detect\\\\predict5'\n",
       " speed: {'preprocess': 1.7578999977558851, 'inference': 98.07989999535494, 'postprocess': 2.0527000015135854},\n",
       " ultralytics.engine.results.Results object with attributes:\n",
       " \n",
       " boxes: ultralytics.engine.results.Boxes object\n",
       " keypoints: None\n",
       " masks: None\n",
       " names: {0: 'Tumor Brain'}\n",
       " obb: None\n",
       " orig_img: array([[[1, 1, 1],\n",
       "         [1, 1, 1],\n",
       "         [1, 1, 1],\n",
       "         ...,\n",
       "         [1, 1, 1],\n",
       "         [1, 1, 1],\n",
       "         [1, 1, 1]],\n",
       " \n",
       "        [[1, 1, 1],\n",
       "         [1, 1, 1],\n",
       "         [1, 1, 1],\n",
       "         ...,\n",
       "         [1, 1, 1],\n",
       "         [1, 1, 1],\n",
       "         [1, 1, 1]],\n",
       " \n",
       "        [[1, 1, 1],\n",
       "         [1, 1, 1],\n",
       "         [1, 1, 1],\n",
       "         ...,\n",
       "         [1, 1, 1],\n",
       "         [1, 1, 1],\n",
       "         [1, 1, 1]],\n",
       " \n",
       "        ...,\n",
       " \n",
       "        [[1, 1, 1],\n",
       "         [1, 1, 1],\n",
       "         [1, 1, 1],\n",
       "         ...,\n",
       "         [1, 1, 1],\n",
       "         [1, 1, 1],\n",
       "         [1, 1, 1]],\n",
       " \n",
       "        [[1, 1, 1],\n",
       "         [1, 1, 1],\n",
       "         [1, 1, 1],\n",
       "         ...,\n",
       "         [1, 1, 1],\n",
       "         [1, 1, 1],\n",
       "         [1, 1, 1]],\n",
       " \n",
       "        [[1, 1, 1],\n",
       "         [1, 1, 1],\n",
       "         [1, 1, 1],\n",
       "         ...,\n",
       "         [1, 1, 1],\n",
       "         [1, 1, 1],\n",
       "         [1, 1, 1]]], dtype=uint8)\n",
       " orig_shape: (351, 278)\n",
       " path: 'C:\\\\Users\\\\Owen\\\\Downloads\\\\Brain_tumor_od\\\\Tumor\\\\images\\\\Test\\\\8114ae99-Y244.JPG'\n",
       " probs: None\n",
       " save_dir: 'runs\\\\detect\\\\predict5'\n",
       " speed: {'preprocess': 3.501200000755489, 'inference': 112.27089999010786, 'postprocess': 0.9513999975752085},\n",
       " ultralytics.engine.results.Results object with attributes:\n",
       " \n",
       " boxes: ultralytics.engine.results.Boxes object\n",
       " keypoints: None\n",
       " masks: None\n",
       " names: {0: 'Tumor Brain'}\n",
       " obb: None\n",
       " orig_img: array([[[1, 1, 1],\n",
       "         [1, 1, 1],\n",
       "         [1, 1, 1],\n",
       "         ...,\n",
       "         [1, 1, 1],\n",
       "         [1, 1, 1],\n",
       "         [1, 1, 1]],\n",
       " \n",
       "        [[1, 1, 1],\n",
       "         [1, 1, 1],\n",
       "         [1, 1, 1],\n",
       "         ...,\n",
       "         [1, 1, 1],\n",
       "         [1, 1, 1],\n",
       "         [1, 1, 1]],\n",
       " \n",
       "        [[1, 1, 1],\n",
       "         [1, 1, 1],\n",
       "         [1, 1, 1],\n",
       "         ...,\n",
       "         [1, 1, 1],\n",
       "         [1, 1, 1],\n",
       "         [1, 1, 1]],\n",
       " \n",
       "        ...,\n",
       " \n",
       "        [[1, 1, 1],\n",
       "         [1, 1, 1],\n",
       "         [1, 1, 1],\n",
       "         ...,\n",
       "         [1, 1, 1],\n",
       "         [1, 1, 1],\n",
       "         [1, 1, 1]],\n",
       " \n",
       "        [[1, 1, 1],\n",
       "         [1, 1, 1],\n",
       "         [1, 1, 1],\n",
       "         ...,\n",
       "         [1, 1, 1],\n",
       "         [1, 1, 1],\n",
       "         [1, 1, 1]],\n",
       " \n",
       "        [[1, 1, 1],\n",
       "         [1, 1, 1],\n",
       "         [1, 1, 1],\n",
       "         ...,\n",
       "         [1, 1, 1],\n",
       "         [1, 1, 1],\n",
       "         [1, 1, 1]]], dtype=uint8)\n",
       " orig_shape: (369, 400)\n",
       " path: 'C:\\\\Users\\\\Owen\\\\Downloads\\\\Brain_tumor_od\\\\Tumor\\\\images\\\\Test\\\\835d8f7d-Y11.jpg'\n",
       " probs: None\n",
       " save_dir: 'runs\\\\detect\\\\predict5'\n",
       " speed: {'preprocess': 7.400899979984388, 'inference': 218.49709999514744, 'postprocess': 0.9974999993573874},\n",
       " ultralytics.engine.results.Results object with attributes:\n",
       " \n",
       " boxes: ultralytics.engine.results.Boxes object\n",
       " keypoints: None\n",
       " masks: None\n",
       " names: {0: 'Tumor Brain'}\n",
       " obb: None\n",
       " orig_img: array([[[34, 34, 34],\n",
       "         [34, 34, 34],\n",
       "         [34, 34, 34],\n",
       "         ...,\n",
       "         [31, 31, 31],\n",
       "         [31, 31, 31],\n",
       "         [31, 31, 31]],\n",
       " \n",
       "        [[34, 34, 34],\n",
       "         [34, 34, 34],\n",
       "         [34, 34, 34],\n",
       "         ...,\n",
       "         [31, 31, 31],\n",
       "         [31, 31, 31],\n",
       "         [31, 31, 31]],\n",
       " \n",
       "        [[34, 34, 34],\n",
       "         [34, 34, 34],\n",
       "         [34, 34, 34],\n",
       "         ...,\n",
       "         [30, 30, 30],\n",
       "         [30, 30, 30],\n",
       "         [30, 30, 30]],\n",
       " \n",
       "        ...,\n",
       " \n",
       "        [[33, 33, 33],\n",
       "         [33, 33, 33],\n",
       "         [33, 33, 33],\n",
       "         ...,\n",
       "         [12, 12, 12],\n",
       "         [20, 20, 20],\n",
       "         [20, 20, 20]],\n",
       " \n",
       "        [[33, 33, 33],\n",
       "         [33, 33, 33],\n",
       "         [33, 33, 33],\n",
       "         ...,\n",
       "         [24, 24, 24],\n",
       "         [22, 22, 22],\n",
       "         [22, 22, 22]],\n",
       " \n",
       "        [[33, 33, 33],\n",
       "         [33, 33, 33],\n",
       "         [33, 33, 33],\n",
       "         ...,\n",
       "         [21, 21, 21],\n",
       "         [22, 22, 22],\n",
       "         [22, 22, 22]]], dtype=uint8)\n",
       " orig_shape: (365, 306)\n",
       " path: 'C:\\\\Users\\\\Owen\\\\Downloads\\\\Brain_tumor_od\\\\Tumor\\\\images\\\\Test\\\\84d16372-Y40.JPG'\n",
       " probs: None\n",
       " save_dir: 'runs\\\\detect\\\\predict5'\n",
       " speed: {'preprocess': 6.8786999909207225, 'inference': 136.08850000309758, 'postprocess': 1.511700014816597},\n",
       " ultralytics.engine.results.Results object with attributes:\n",
       " \n",
       " boxes: ultralytics.engine.results.Boxes object\n",
       " keypoints: None\n",
       " masks: None\n",
       " names: {0: 'Tumor Brain'}\n",
       " obb: None\n",
       " orig_img: array([[[0, 0, 0],\n",
       "         [0, 0, 0],\n",
       "         [0, 0, 0],\n",
       "         ...,\n",
       "         [0, 0, 0],\n",
       "         [0, 0, 0],\n",
       "         [0, 0, 0]],\n",
       " \n",
       "        [[0, 0, 0],\n",
       "         [0, 0, 0],\n",
       "         [0, 0, 0],\n",
       "         ...,\n",
       "         [0, 0, 0],\n",
       "         [0, 0, 0],\n",
       "         [0, 0, 0]],\n",
       " \n",
       "        [[0, 0, 0],\n",
       "         [0, 0, 0],\n",
       "         [0, 0, 0],\n",
       "         ...,\n",
       "         [0, 0, 0],\n",
       "         [0, 0, 0],\n",
       "         [0, 0, 0]],\n",
       " \n",
       "        ...,\n",
       " \n",
       "        [[0, 0, 0],\n",
       "         [0, 0, 0],\n",
       "         [0, 0, 0],\n",
       "         ...,\n",
       "         [0, 0, 0],\n",
       "         [0, 0, 0],\n",
       "         [0, 0, 0]],\n",
       " \n",
       "        [[0, 0, 0],\n",
       "         [0, 0, 0],\n",
       "         [0, 0, 0],\n",
       "         ...,\n",
       "         [0, 0, 0],\n",
       "         [0, 0, 0],\n",
       "         [0, 0, 0]],\n",
       " \n",
       "        [[0, 0, 0],\n",
       "         [0, 0, 0],\n",
       "         [0, 0, 0],\n",
       "         ...,\n",
       "         [0, 0, 0],\n",
       "         [0, 0, 0],\n",
       "         [0, 0, 0]]], dtype=uint8)\n",
       " orig_shape: (294, 250)\n",
       " path: 'C:\\\\Users\\\\Owen\\\\Downloads\\\\Brain_tumor_od\\\\Tumor\\\\images\\\\Test\\\\87fd9ff2-Y31.jpg'\n",
       " probs: None\n",
       " save_dir: 'runs\\\\detect\\\\predict5'\n",
       " speed: {'preprocess': 6.541600014315918, 'inference': 161.12179998890497, 'postprocess': 1.4470000169239938},\n",
       " ultralytics.engine.results.Results object with attributes:\n",
       " \n",
       " boxes: ultralytics.engine.results.Boxes object\n",
       " keypoints: None\n",
       " masks: None\n",
       " names: {0: 'Tumor Brain'}\n",
       " obb: None\n",
       " orig_img: array([[[1, 1, 1],\n",
       "         [1, 1, 1],\n",
       "         [0, 0, 0],\n",
       "         ...,\n",
       "         [1, 1, 1],\n",
       "         [1, 1, 1],\n",
       "         [1, 1, 1]],\n",
       " \n",
       "        [[1, 1, 1],\n",
       "         [1, 1, 1],\n",
       "         [0, 0, 0],\n",
       "         ...,\n",
       "         [1, 1, 1],\n",
       "         [1, 1, 1],\n",
       "         [1, 1, 1]],\n",
       " \n",
       "        [[1, 1, 1],\n",
       "         [1, 1, 1],\n",
       "         [0, 0, 0],\n",
       "         ...,\n",
       "         [1, 1, 1],\n",
       "         [1, 1, 1],\n",
       "         [1, 1, 1]],\n",
       " \n",
       "        ...,\n",
       " \n",
       "        [[1, 1, 1],\n",
       "         [1, 1, 1],\n",
       "         [1, 1, 1],\n",
       "         ...,\n",
       "         [1, 1, 1],\n",
       "         [1, 1, 1],\n",
       "         [1, 1, 1]],\n",
       " \n",
       "        [[1, 1, 1],\n",
       "         [1, 1, 1],\n",
       "         [1, 1, 1],\n",
       "         ...,\n",
       "         [1, 1, 1],\n",
       "         [1, 1, 1],\n",
       "         [1, 1, 1]],\n",
       " \n",
       "        [[1, 1, 1],\n",
       "         [1, 1, 1],\n",
       "         [1, 1, 1],\n",
       "         ...,\n",
       "         [1, 1, 1],\n",
       "         [1, 1, 1],\n",
       "         [1, 1, 1]]], dtype=uint8)\n",
       " orig_shape: (337, 293)\n",
       " path: 'C:\\\\Users\\\\Owen\\\\Downloads\\\\Brain_tumor_od\\\\Tumor\\\\images\\\\Test\\\\8d715140-Y44.JPG'\n",
       " probs: None\n",
       " save_dir: 'runs\\\\detect\\\\predict5'\n",
       " speed: {'preprocess': 6.7012999788858, 'inference': 146.58369999960996, 'postprocess': 1.5649999841116369},\n",
       " ultralytics.engine.results.Results object with attributes:\n",
       " \n",
       " boxes: ultralytics.engine.results.Boxes object\n",
       " keypoints: None\n",
       " masks: None\n",
       " names: {0: 'Tumor Brain'}\n",
       " obb: None\n",
       " orig_img: array([[[ 0,  0,  0],\n",
       "         [ 0,  0,  0],\n",
       "         [ 0,  0,  0],\n",
       "         ...,\n",
       "         [ 8,  8,  8],\n",
       "         [11, 11, 11],\n",
       "         [12, 12, 12]],\n",
       " \n",
       "        [[ 0,  0,  0],\n",
       "         [ 0,  0,  0],\n",
       "         [ 0,  0,  0],\n",
       "         ...,\n",
       "         [ 9,  9,  9],\n",
       "         [12, 12, 12],\n",
       "         [13, 13, 13]],\n",
       " \n",
       "        [[ 0,  0,  0],\n",
       "         [ 0,  0,  0],\n",
       "         [ 0,  0,  0],\n",
       "         ...,\n",
       "         [10, 10, 10],\n",
       "         [13, 13, 13],\n",
       "         [14, 14, 14]],\n",
       " \n",
       "        ...,\n",
       " \n",
       "        [[ 0,  0,  0],\n",
       "         [ 0,  0,  0],\n",
       "         [ 0,  0,  0],\n",
       "         ...,\n",
       "         [ 0,  0,  0],\n",
       "         [ 0,  0,  0],\n",
       "         [ 0,  0,  0]],\n",
       " \n",
       "        [[ 0,  0,  0],\n",
       "         [ 0,  0,  0],\n",
       "         [ 0,  0,  0],\n",
       "         ...,\n",
       "         [ 0,  0,  0],\n",
       "         [ 0,  0,  0],\n",
       "         [ 0,  0,  0]],\n",
       " \n",
       "        [[ 0,  0,  0],\n",
       "         [ 0,  0,  0],\n",
       "         [ 0,  0,  0],\n",
       "         ...,\n",
       "         [ 0,  0,  0],\n",
       "         [ 0,  0,  0],\n",
       "         [ 0,  0,  0]]], dtype=uint8)\n",
       " orig_shape: (243, 205)\n",
       " path: 'C:\\\\Users\\\\Owen\\\\Downloads\\\\Brain_tumor_od\\\\Tumor\\\\images\\\\Test\\\\8f288f29-Y65.JPG'\n",
       " probs: None\n",
       " save_dir: 'runs\\\\detect\\\\predict5'\n",
       " speed: {'preprocess': 3.613200009567663, 'inference': 149.28389998385683, 'postprocess': 1.6322000010404736},\n",
       " ultralytics.engine.results.Results object with attributes:\n",
       " \n",
       " boxes: ultralytics.engine.results.Boxes object\n",
       " keypoints: None\n",
       " masks: None\n",
       " names: {0: 'Tumor Brain'}\n",
       " obb: None\n",
       " orig_img: array([[[0, 0, 0],\n",
       "         [0, 0, 0],\n",
       "         [0, 0, 0],\n",
       "         ...,\n",
       "         [0, 0, 0],\n",
       "         [0, 0, 0],\n",
       "         [0, 0, 0]],\n",
       " \n",
       "        [[0, 0, 0],\n",
       "         [0, 0, 0],\n",
       "         [0, 0, 0],\n",
       "         ...,\n",
       "         [0, 0, 0],\n",
       "         [0, 0, 0],\n",
       "         [0, 0, 0]],\n",
       " \n",
       "        [[0, 0, 0],\n",
       "         [0, 0, 0],\n",
       "         [0, 0, 0],\n",
       "         ...,\n",
       "         [0, 0, 0],\n",
       "         [0, 0, 0],\n",
       "         [0, 0, 0]],\n",
       " \n",
       "        ...,\n",
       " \n",
       "        [[0, 0, 0],\n",
       "         [0, 0, 0],\n",
       "         [0, 0, 0],\n",
       "         ...,\n",
       "         [0, 0, 0],\n",
       "         [0, 0, 0],\n",
       "         [0, 0, 0]],\n",
       " \n",
       "        [[0, 0, 0],\n",
       "         [0, 0, 0],\n",
       "         [0, 0, 0],\n",
       "         ...,\n",
       "         [0, 0, 0],\n",
       "         [0, 0, 0],\n",
       "         [0, 0, 0]],\n",
       " \n",
       "        [[0, 0, 0],\n",
       "         [0, 0, 0],\n",
       "         [0, 0, 0],\n",
       "         ...,\n",
       "         [0, 0, 0],\n",
       "         [0, 0, 0],\n",
       "         [0, 0, 0]]], dtype=uint8)\n",
       " orig_shape: (555, 526)\n",
       " path: 'C:\\\\Users\\\\Owen\\\\Downloads\\\\Brain_tumor_od\\\\Tumor\\\\images\\\\Test\\\\9629b095-Y32.jpg'\n",
       " probs: None\n",
       " save_dir: 'runs\\\\detect\\\\predict5'\n",
       " speed: {'preprocess': 7.58129998575896, 'inference': 143.60330000636168, 'postprocess': 1.136700011556968},\n",
       " ultralytics.engine.results.Results object with attributes:\n",
       " \n",
       " boxes: ultralytics.engine.results.Boxes object\n",
       " keypoints: None\n",
       " masks: None\n",
       " names: {0: 'Tumor Brain'}\n",
       " obb: None\n",
       " orig_img: array([[[ 30,  30,  30],\n",
       "         [ 28,  28,  28],\n",
       "         [ 29,  29,  29],\n",
       "         ...,\n",
       "         [144, 144, 144],\n",
       "         [227, 227, 227],\n",
       "         [249, 249, 249]],\n",
       " \n",
       "        [[ 34,  34,  34],\n",
       "         [ 32,  32,  32],\n",
       "         [ 30,  30,  30],\n",
       "         ...,\n",
       "         [117, 117, 117],\n",
       "         [228, 228, 228],\n",
       "         [253, 253, 253]],\n",
       " \n",
       "        [[ 31,  31,  31],\n",
       "         [ 30,  30,  30],\n",
       "         [ 31,  31,  31],\n",
       "         ...,\n",
       "         [ 98,  98,  98],\n",
       "         [231, 231, 231],\n",
       "         [255, 255, 255]],\n",
       " \n",
       "        ...,\n",
       " \n",
       "        [[ 26,  26,  26],\n",
       "         [ 27,  27,  27],\n",
       "         [ 26,  26,  26],\n",
       "         ...,\n",
       "         [102, 102, 102],\n",
       "         [234, 234, 234],\n",
       "         [254, 254, 254]],\n",
       " \n",
       "        [[ 24,  24,  24],\n",
       "         [ 27,  27,  27],\n",
       "         [ 26,  26,  26],\n",
       "         ...,\n",
       "         [106, 106, 106],\n",
       "         [234, 234, 234],\n",
       "         [254, 254, 254]],\n",
       " \n",
       "        [[ 29,  29,  29],\n",
       "         [ 32,  32,  32],\n",
       "         [ 30,  30,  30],\n",
       "         ...,\n",
       "         [116, 116, 116],\n",
       "         [240, 240, 240],\n",
       "         [254, 254, 254]]], dtype=uint8)\n",
       " orig_shape: (352, 321)\n",
       " path: 'C:\\\\Users\\\\Owen\\\\Downloads\\\\Brain_tumor_od\\\\Tumor\\\\images\\\\Test\\\\9876c210-Y147.JPG'\n",
       " probs: None\n",
       " save_dir: 'runs\\\\detect\\\\predict5'\n",
       " speed: {'preprocess': 7.078400027239695, 'inference': 114.15690000285394, 'postprocess': 0.7775999838486314},\n",
       " ultralytics.engine.results.Results object with attributes:\n",
       " \n",
       " boxes: ultralytics.engine.results.Boxes object\n",
       " keypoints: None\n",
       " masks: None\n",
       " names: {0: 'Tumor Brain'}\n",
       " obb: None\n",
       " orig_img: array([[[0, 0, 0],\n",
       "         [0, 0, 0],\n",
       "         [0, 0, 0],\n",
       "         ...,\n",
       "         [0, 0, 0],\n",
       "         [0, 0, 0],\n",
       "         [0, 0, 0]],\n",
       " \n",
       "        [[0, 0, 0],\n",
       "         [0, 0, 0],\n",
       "         [0, 0, 0],\n",
       "         ...,\n",
       "         [0, 0, 0],\n",
       "         [0, 0, 0],\n",
       "         [0, 0, 0]],\n",
       " \n",
       "        [[0, 0, 0],\n",
       "         [0, 0, 0],\n",
       "         [0, 0, 0],\n",
       "         ...,\n",
       "         [0, 0, 0],\n",
       "         [0, 0, 0],\n",
       "         [0, 0, 0]],\n",
       " \n",
       "        ...,\n",
       " \n",
       "        [[0, 0, 0],\n",
       "         [0, 0, 0],\n",
       "         [0, 0, 0],\n",
       "         ...,\n",
       "         [0, 0, 0],\n",
       "         [0, 0, 0],\n",
       "         [0, 0, 0]],\n",
       " \n",
       "        [[0, 0, 0],\n",
       "         [0, 0, 0],\n",
       "         [0, 0, 0],\n",
       "         ...,\n",
       "         [0, 0, 0],\n",
       "         [0, 0, 0],\n",
       "         [0, 0, 0]],\n",
       " \n",
       "        [[0, 0, 0],\n",
       "         [0, 0, 0],\n",
       "         [0, 0, 0],\n",
       "         ...,\n",
       "         [0, 0, 0],\n",
       "         [0, 0, 0],\n",
       "         [0, 0, 0]]], dtype=uint8)\n",
       " orig_shape: (630, 630)\n",
       " path: 'C:\\\\Users\\\\Owen\\\\Downloads\\\\Brain_tumor_od\\\\Tumor\\\\images\\\\Test\\\\9f53589b-Y28.jpg'\n",
       " probs: None\n",
       " save_dir: 'runs\\\\detect\\\\predict5'\n",
       " speed: {'preprocess': 6.536500004585832, 'inference': 116.09029999817722, 'postprocess': 0.8993999799713492},\n",
       " ultralytics.engine.results.Results object with attributes:\n",
       " \n",
       " boxes: ultralytics.engine.results.Boxes object\n",
       " keypoints: None\n",
       " masks: None\n",
       " names: {0: 'Tumor Brain'}\n",
       " obb: None\n",
       " orig_img: array([[[ 0,  0,  0],\n",
       "         [ 0,  0,  0],\n",
       "         [ 0,  0,  0],\n",
       "         ...,\n",
       "         [ 2,  2,  2],\n",
       "         [ 2,  2,  2],\n",
       "         [ 2,  2,  2]],\n",
       " \n",
       "        [[ 0,  0,  0],\n",
       "         [ 0,  0,  0],\n",
       "         [ 1,  1,  1],\n",
       "         ...,\n",
       "         [ 2,  2,  2],\n",
       "         [ 2,  2,  2],\n",
       "         [ 2,  2,  2]],\n",
       " \n",
       "        [[ 1,  1,  1],\n",
       "         [ 1,  1,  1],\n",
       "         [ 1,  1,  1],\n",
       "         ...,\n",
       "         [ 2,  2,  2],\n",
       "         [ 2,  2,  2],\n",
       "         [ 2,  2,  2]],\n",
       " \n",
       "        ...,\n",
       " \n",
       "        [[ 3,  3,  3],\n",
       "         [ 3,  3,  3],\n",
       "         [ 3,  3,  3],\n",
       "         ...,\n",
       "         [41, 41, 41],\n",
       "         [60, 60, 60],\n",
       "         [ 5,  5,  5]],\n",
       " \n",
       "        [[ 4,  4,  4],\n",
       "         [ 4,  4,  4],\n",
       "         [ 4,  4,  4],\n",
       "         ...,\n",
       "         [25, 25, 25],\n",
       "         [51, 51, 51],\n",
       "         [ 2,  2,  2]],\n",
       " \n",
       "        [[ 4,  4,  4],\n",
       "         [ 4,  4,  4],\n",
       "         [ 4,  4,  4],\n",
       "         ...,\n",
       "         [ 0,  0,  0],\n",
       "         [14, 14, 14],\n",
       "         [ 0,  0,  0]]], dtype=uint8)\n",
       " orig_shape: (334, 283)\n",
       " path: 'C:\\\\Users\\\\Owen\\\\Downloads\\\\Brain_tumor_od\\\\Tumor\\\\images\\\\Test\\\\a581a282-Y158.JPG'\n",
       " probs: None\n",
       " save_dir: 'runs\\\\detect\\\\predict5'\n",
       " speed: {'preprocess': 5.710800003726035, 'inference': 89.43300001556054, 'postprocess': 0.512500002514571},\n",
       " ultralytics.engine.results.Results object with attributes:\n",
       " \n",
       " boxes: ultralytics.engine.results.Boxes object\n",
       " keypoints: None\n",
       " masks: None\n",
       " names: {0: 'Tumor Brain'}\n",
       " obb: None\n",
       " orig_img: array([[[ 23,  24,  22],\n",
       "         [ 25,  26,  24],\n",
       "         [ 28,  29,  27],\n",
       "         ...,\n",
       "         [ 29,  30,  28],\n",
       "         [ 11,  12,  10],\n",
       "         [148, 149, 147]],\n",
       " \n",
       "        [[ 23,  24,  22],\n",
       "         [ 25,  26,  24],\n",
       "         [ 28,  29,  27],\n",
       "         ...,\n",
       "         [ 29,  30,  28],\n",
       "         [ 10,  11,   9],\n",
       "         [148, 149, 147]],\n",
       " \n",
       "        [[ 23,  24,  22],\n",
       "         [ 25,  26,  24],\n",
       "         [ 28,  29,  27],\n",
       "         ...,\n",
       "         [ 29,  30,  28],\n",
       "         [ 10,  11,   9],\n",
       "         [148, 149, 147]],\n",
       " \n",
       "        ...,\n",
       " \n",
       "        [[ 24,  24,  24],\n",
       "         [ 24,  24,  24],\n",
       "         [ 24,  24,  24],\n",
       "         ...,\n",
       "         [ 30,  30,  30],\n",
       "         [  5,   5,   5],\n",
       "         [151, 151, 151]],\n",
       " \n",
       "        [[ 20,  20,  20],\n",
       "         [ 25,  25,  25],\n",
       "         [ 30,  30,  30],\n",
       "         ...,\n",
       "         [ 28,  28,  28],\n",
       "         [  1,   1,   1],\n",
       "         [151, 151, 151]],\n",
       " \n",
       "        [[ 20,  20,  20],\n",
       "         [ 25,  25,  25],\n",
       "         [ 30,  30,  30],\n",
       "         ...,\n",
       "         [ 28,  28,  28],\n",
       "         [  1,   1,   1],\n",
       "         [151, 151, 151]]], dtype=uint8)\n",
       " orig_shape: (234, 216)\n",
       " path: 'C:\\\\Users\\\\Owen\\\\Downloads\\\\Brain_tumor_od\\\\Tumor\\\\images\\\\Test\\\\a5d64678-Y81.jpg'\n",
       " probs: None\n",
       " save_dir: 'runs\\\\detect\\\\predict5'\n",
       " speed: {'preprocess': 4.8155000258702785, 'inference': 100.32030000002123, 'postprocess': 1.2242999800946563},\n",
       " ultralytics.engine.results.Results object with attributes:\n",
       " \n",
       " boxes: ultralytics.engine.results.Boxes object\n",
       " keypoints: None\n",
       " masks: None\n",
       " names: {0: 'Tumor Brain'}\n",
       " obb: None\n",
       " orig_img: array([[[9, 9, 9],\n",
       "         [8, 8, 8],\n",
       "         [6, 6, 6],\n",
       "         ...,\n",
       "         [0, 0, 0],\n",
       "         [0, 0, 0],\n",
       "         [0, 0, 0]],\n",
       " \n",
       "        [[6, 6, 6],\n",
       "         [6, 6, 6],\n",
       "         [5, 5, 5],\n",
       "         ...,\n",
       "         [0, 0, 0],\n",
       "         [0, 0, 0],\n",
       "         [0, 0, 0]],\n",
       " \n",
       "        [[4, 4, 4],\n",
       "         [4, 4, 4],\n",
       "         [4, 4, 4],\n",
       "         ...,\n",
       "         [0, 0, 0],\n",
       "         [0, 0, 0],\n",
       "         [0, 0, 0]],\n",
       " \n",
       "        ...,\n",
       " \n",
       "        [[7, 7, 7],\n",
       "         [7, 7, 7],\n",
       "         [6, 6, 6],\n",
       "         ...,\n",
       "         [0, 0, 0],\n",
       "         [0, 0, 0],\n",
       "         [0, 0, 0]],\n",
       " \n",
       "        [[6, 6, 6],\n",
       "         [6, 6, 6],\n",
       "         [6, 6, 6],\n",
       "         ...,\n",
       "         [0, 0, 0],\n",
       "         [0, 0, 0],\n",
       "         [0, 0, 0]],\n",
       " \n",
       "        [[5, 5, 5],\n",
       "         [5, 5, 5],\n",
       "         [5, 5, 5],\n",
       "         ...,\n",
       "         [0, 0, 0],\n",
       "         [0, 0, 0],\n",
       "         [0, 0, 0]]], dtype=uint8)\n",
       " orig_shape: (349, 300)\n",
       " path: 'C:\\\\Users\\\\Owen\\\\Downloads\\\\Brain_tumor_od\\\\Tumor\\\\images\\\\Test\\\\a8c907c1-Y71.JPG'\n",
       " probs: None\n",
       " save_dir: 'runs\\\\detect\\\\predict5'\n",
       " speed: {'preprocess': 4.199899995001033, 'inference': 90.17299997503869, 'postprocess': 1.12900001113303},\n",
       " ultralytics.engine.results.Results object with attributes:\n",
       " \n",
       " boxes: ultralytics.engine.results.Boxes object\n",
       " keypoints: None\n",
       " masks: None\n",
       " names: {0: 'Tumor Brain'}\n",
       " obb: None\n",
       " orig_img: array([[[0, 0, 0],\n",
       "         [0, 0, 0],\n",
       "         [0, 0, 0],\n",
       "         ...,\n",
       "         [0, 0, 0],\n",
       "         [0, 0, 0],\n",
       "         [0, 0, 0]],\n",
       " \n",
       "        [[0, 0, 0],\n",
       "         [0, 0, 0],\n",
       "         [0, 0, 0],\n",
       "         ...,\n",
       "         [0, 0, 0],\n",
       "         [0, 0, 0],\n",
       "         [0, 0, 0]],\n",
       " \n",
       "        [[0, 0, 0],\n",
       "         [0, 0, 0],\n",
       "         [0, 0, 0],\n",
       "         ...,\n",
       "         [0, 0, 0],\n",
       "         [0, 0, 0],\n",
       "         [0, 0, 0]],\n",
       " \n",
       "        ...,\n",
       " \n",
       "        [[0, 0, 0],\n",
       "         [0, 0, 0],\n",
       "         [0, 0, 0],\n",
       "         ...,\n",
       "         [0, 0, 0],\n",
       "         [0, 0, 0],\n",
       "         [0, 0, 0]],\n",
       " \n",
       "        [[0, 0, 0],\n",
       "         [0, 0, 0],\n",
       "         [0, 0, 0],\n",
       "         ...,\n",
       "         [0, 0, 0],\n",
       "         [0, 0, 0],\n",
       "         [0, 0, 0]],\n",
       " \n",
       "        [[0, 0, 0],\n",
       "         [0, 0, 0],\n",
       "         [0, 0, 0],\n",
       "         ...,\n",
       "         [0, 0, 0],\n",
       "         [0, 0, 0],\n",
       "         [0, 0, 0]]], dtype=uint8)\n",
       " orig_shape: (519, 456)\n",
       " path: 'C:\\\\Users\\\\Owen\\\\Downloads\\\\Brain_tumor_od\\\\Tumor\\\\images\\\\Test\\\\b3508f36-Y3.jpg'\n",
       " probs: None\n",
       " save_dir: 'runs\\\\detect\\\\predict5'\n",
       " speed: {'preprocess': 6.190599990077317, 'inference': 91.89959999639541, 'postprocess': 0.8325999951921403},\n",
       " ultralytics.engine.results.Results object with attributes:\n",
       " \n",
       " boxes: ultralytics.engine.results.Boxes object\n",
       " keypoints: None\n",
       " masks: None\n",
       " names: {0: 'Tumor Brain'}\n",
       " obb: None\n",
       " orig_img: array([[[37, 53, 52],\n",
       "         [36, 52, 51],\n",
       "         [36, 52, 51],\n",
       "         ...,\n",
       "         [37, 60, 62],\n",
       "         [39, 62, 64],\n",
       "         [40, 63, 65]],\n",
       " \n",
       "        [[35, 51, 50],\n",
       "         [35, 51, 50],\n",
       "         [35, 51, 50],\n",
       "         ...,\n",
       "         [35, 58, 60],\n",
       "         [37, 60, 62],\n",
       "         [38, 61, 63]],\n",
       " \n",
       "        [[36, 52, 51],\n",
       "         [36, 52, 51],\n",
       "         [37, 53, 52],\n",
       "         ...,\n",
       "         [34, 57, 59],\n",
       "         [35, 58, 60],\n",
       "         [36, 59, 61]],\n",
       " \n",
       "        ...,\n",
       " \n",
       "        [[15, 20, 23],\n",
       "         [15, 20, 21],\n",
       "         [15, 20, 23],\n",
       "         ...,\n",
       "         [13, 21, 21],\n",
       "         [13, 20, 23],\n",
       "         [13, 21, 21]],\n",
       " \n",
       "        [[20, 20, 20],\n",
       "         [20, 20, 20],\n",
       "         [20, 20, 20],\n",
       "         ...,\n",
       "         [20, 20, 20],\n",
       "         [20, 20, 20],\n",
       "         [20, 20, 20]],\n",
       " \n",
       "        [[20, 20, 20],\n",
       "         [20, 20, 20],\n",
       "         [20, 20, 20],\n",
       "         ...,\n",
       "         [20, 20, 20],\n",
       "         [20, 20, 20],\n",
       "         [20, 20, 20]]], dtype=uint8)\n",
       " orig_shape: (355, 320)\n",
       " path: 'C:\\\\Users\\\\Owen\\\\Downloads\\\\Brain_tumor_od\\\\Tumor\\\\images\\\\Test\\\\b5e9cc61-Y47.JPG'\n",
       " probs: None\n",
       " save_dir: 'runs\\\\detect\\\\predict5'\n",
       " speed: {'preprocess': 4.8180999874603, 'inference': 95.74789999169298, 'postprocess': 1.1983999866060913},\n",
       " ultralytics.engine.results.Results object with attributes:\n",
       " \n",
       " boxes: ultralytics.engine.results.Boxes object\n",
       " keypoints: None\n",
       " masks: None\n",
       " names: {0: 'Tumor Brain'}\n",
       " obb: None\n",
       " orig_img: array([[[0, 0, 0],\n",
       "         [0, 0, 0],\n",
       "         [0, 0, 0],\n",
       "         ...,\n",
       "         [0, 0, 0],\n",
       "         [0, 0, 0],\n",
       "         [0, 0, 0]],\n",
       " \n",
       "        [[0, 0, 0],\n",
       "         [0, 0, 0],\n",
       "         [0, 0, 0],\n",
       "         ...,\n",
       "         [0, 0, 0],\n",
       "         [0, 0, 0],\n",
       "         [0, 0, 0]],\n",
       " \n",
       "        [[0, 0, 0],\n",
       "         [0, 0, 0],\n",
       "         [0, 0, 0],\n",
       "         ...,\n",
       "         [0, 0, 0],\n",
       "         [0, 0, 0],\n",
       "         [0, 0, 0]],\n",
       " \n",
       "        ...,\n",
       " \n",
       "        [[0, 0, 0],\n",
       "         [0, 0, 0],\n",
       "         [0, 0, 0],\n",
       "         ...,\n",
       "         [0, 0, 0],\n",
       "         [0, 0, 0],\n",
       "         [0, 0, 0]],\n",
       " \n",
       "        [[0, 0, 0],\n",
       "         [0, 0, 0],\n",
       "         [0, 0, 0],\n",
       "         ...,\n",
       "         [0, 0, 0],\n",
       "         [0, 0, 0],\n",
       "         [0, 0, 0]],\n",
       " \n",
       "        [[0, 0, 0],\n",
       "         [0, 0, 0],\n",
       "         [0, 0, 0],\n",
       "         ...,\n",
       "         [0, 0, 0],\n",
       "         [0, 0, 0],\n",
       "         [0, 0, 0]]], dtype=uint8)\n",
       " orig_shape: (237, 213)\n",
       " path: 'C:\\\\Users\\\\Owen\\\\Downloads\\\\Brain_tumor_od\\\\Tumor\\\\images\\\\Test\\\\b69c497b-Y245.jpg'\n",
       " probs: None\n",
       " save_dir: 'runs\\\\detect\\\\predict5'\n",
       " speed: {'preprocess': 4.316500009736046, 'inference': 84.82530000037514, 'postprocess': 0.82970000221394},\n",
       " ultralytics.engine.results.Results object with attributes:\n",
       " \n",
       " boxes: ultralytics.engine.results.Boxes object\n",
       " keypoints: None\n",
       " masks: None\n",
       " names: {0: 'Tumor Brain'}\n",
       " obb: None\n",
       " orig_img: array([[[0, 0, 0],\n",
       "         [0, 0, 0],\n",
       "         [0, 0, 0],\n",
       "         ...,\n",
       "         [0, 0, 0],\n",
       "         [0, 0, 0],\n",
       "         [0, 0, 0]],\n",
       " \n",
       "        [[0, 0, 0],\n",
       "         [0, 0, 0],\n",
       "         [0, 0, 0],\n",
       "         ...,\n",
       "         [0, 0, 0],\n",
       "         [0, 0, 0],\n",
       "         [0, 0, 0]],\n",
       " \n",
       "        [[0, 0, 0],\n",
       "         [0, 0, 0],\n",
       "         [0, 0, 0],\n",
       "         ...,\n",
       "         [0, 0, 0],\n",
       "         [0, 0, 0],\n",
       "         [0, 0, 0]],\n",
       " \n",
       "        ...,\n",
       " \n",
       "        [[0, 0, 0],\n",
       "         [0, 0, 0],\n",
       "         [0, 0, 0],\n",
       "         ...,\n",
       "         [0, 0, 0],\n",
       "         [0, 0, 0],\n",
       "         [0, 0, 0]],\n",
       " \n",
       "        [[0, 0, 0],\n",
       "         [0, 0, 0],\n",
       "         [0, 0, 0],\n",
       "         ...,\n",
       "         [0, 0, 0],\n",
       "         [0, 0, 0],\n",
       "         [0, 0, 0]],\n",
       " \n",
       "        [[0, 0, 0],\n",
       "         [0, 0, 0],\n",
       "         [0, 0, 0],\n",
       "         ...,\n",
       "         [0, 0, 0],\n",
       "         [0, 0, 0],\n",
       "         [0, 0, 0]]], dtype=uint8)\n",
       " orig_shape: (1200, 1059)\n",
       " path: 'C:\\\\Users\\\\Owen\\\\Downloads\\\\Brain_tumor_od\\\\Tumor\\\\images\\\\Test\\\\b9338c3a-Y162.jpg'\n",
       " probs: None\n",
       " save_dir: 'runs\\\\detect\\\\predict5'\n",
       " speed: {'preprocess': 5.424399976618588, 'inference': 97.15240000514314, 'postprocess': 0.8786999969743192},\n",
       " ultralytics.engine.results.Results object with attributes:\n",
       " \n",
       " boxes: ultralytics.engine.results.Boxes object\n",
       " keypoints: None\n",
       " masks: None\n",
       " names: {0: 'Tumor Brain'}\n",
       " obb: None\n",
       " orig_img: array([[[2, 2, 2],\n",
       "         [2, 2, 2],\n",
       "         [2, 2, 2],\n",
       "         ...,\n",
       "         [0, 0, 0],\n",
       "         [0, 0, 0],\n",
       "         [0, 0, 0]],\n",
       " \n",
       "        [[2, 2, 2],\n",
       "         [2, 2, 2],\n",
       "         [2, 2, 2],\n",
       "         ...,\n",
       "         [0, 0, 0],\n",
       "         [0, 0, 0],\n",
       "         [0, 0, 0]],\n",
       " \n",
       "        [[2, 2, 2],\n",
       "         [2, 2, 2],\n",
       "         [2, 2, 2],\n",
       "         ...,\n",
       "         [0, 0, 0],\n",
       "         [0, 0, 0],\n",
       "         [0, 0, 0]],\n",
       " \n",
       "        ...,\n",
       " \n",
       "        [[3, 3, 3],\n",
       "         [6, 6, 6],\n",
       "         [7, 7, 7],\n",
       "         ...,\n",
       "         [2, 2, 2],\n",
       "         [1, 1, 1],\n",
       "         [0, 0, 0]],\n",
       " \n",
       "        [[0, 0, 0],\n",
       "         [2, 2, 2],\n",
       "         [4, 4, 4],\n",
       "         ...,\n",
       "         [1, 1, 1],\n",
       "         [1, 1, 1],\n",
       "         [1, 1, 1]],\n",
       " \n",
       "        [[0, 0, 0],\n",
       "         [2, 2, 2],\n",
       "         [4, 4, 4],\n",
       "         ...,\n",
       "         [1, 1, 1],\n",
       "         [1, 1, 1],\n",
       "         [1, 1, 1]]], dtype=uint8)\n",
       " orig_shape: (338, 283)\n",
       " path: 'C:\\\\Users\\\\Owen\\\\Downloads\\\\Brain_tumor_od\\\\Tumor\\\\images\\\\Test\\\\bda3d0c3-Y253.JPG'\n",
       " probs: None\n",
       " save_dir: 'runs\\\\detect\\\\predict5'\n",
       " speed: {'preprocess': 4.013699974166229, 'inference': 92.37040000152774, 'postprocess': 0.9313000191468745},\n",
       " ultralytics.engine.results.Results object with attributes:\n",
       " \n",
       " boxes: ultralytics.engine.results.Boxes object\n",
       " keypoints: None\n",
       " masks: None\n",
       " names: {0: 'Tumor Brain'}\n",
       " obb: None\n",
       " orig_img: array([[[255, 255, 255],\n",
       "         [253, 253, 253],\n",
       "         [254, 254, 254],\n",
       "         ...,\n",
       "         [254, 254, 254],\n",
       "         [255, 255, 255],\n",
       "         [255, 255, 255]],\n",
       " \n",
       "        [[253, 253, 253],\n",
       "         [204, 204, 204],\n",
       "         [215, 215, 215],\n",
       "         ...,\n",
       "         [  9,   9,   9],\n",
       "         [  8,   8,   8],\n",
       "         [  8,   8,   8]],\n",
       " \n",
       "        [[255, 255, 255],\n",
       "         [203, 203, 203],\n",
       "         [215, 215, 215],\n",
       "         ...,\n",
       "         [  9,   9,   9],\n",
       "         [  8,   8,   8],\n",
       "         [  8,   8,   8]],\n",
       " \n",
       "        ...,\n",
       " \n",
       "        [[254, 254, 254],\n",
       "         [203, 203, 203],\n",
       "         [217, 217, 217],\n",
       "         ...,\n",
       "         [  7,   7,   7],\n",
       "         [  8,   8,   8],\n",
       "         [  8,   8,   8]],\n",
       " \n",
       "        [[255, 255, 255],\n",
       "         [203, 203, 203],\n",
       "         [215, 215, 215],\n",
       "         ...,\n",
       "         [  7,   7,   7],\n",
       "         [  9,   9,   9],\n",
       "         [  9,   9,   9]],\n",
       " \n",
       "        [[255, 255, 255],\n",
       "         [199, 199, 199],\n",
       "         [209, 209, 209],\n",
       "         ...,\n",
       "         [ 11,  11,  11],\n",
       "         [ 12,  12,  12],\n",
       "         [ 12,  12,  12]]], dtype=uint8)\n",
       " orig_shape: (446, 450)\n",
       " path: 'C:\\\\Users\\\\Owen\\\\Downloads\\\\Brain_tumor_od\\\\Tumor\\\\images\\\\Test\\\\c0df0927-Y8.jpg'\n",
       " probs: None\n",
       " save_dir: 'runs\\\\detect\\\\predict5'\n",
       " speed: {'preprocess': 4.434900009073317, 'inference': 134.91999998223037, 'postprocess': 1.5311000170186162},\n",
       " ultralytics.engine.results.Results object with attributes:\n",
       " \n",
       " boxes: ultralytics.engine.results.Boxes object\n",
       " keypoints: None\n",
       " masks: None\n",
       " names: {0: 'Tumor Brain'}\n",
       " obb: None\n",
       " orig_img: array([[[1, 1, 1],\n",
       "         [1, 1, 1],\n",
       "         [1, 1, 1],\n",
       "         ...,\n",
       "         [1, 1, 1],\n",
       "         [1, 1, 1],\n",
       "         [1, 1, 1]],\n",
       " \n",
       "        [[1, 1, 1],\n",
       "         [1, 1, 1],\n",
       "         [1, 1, 1],\n",
       "         ...,\n",
       "         [1, 1, 1],\n",
       "         [1, 1, 1],\n",
       "         [1, 1, 1]],\n",
       " \n",
       "        [[1, 1, 1],\n",
       "         [1, 1, 1],\n",
       "         [1, 1, 1],\n",
       "         ...,\n",
       "         [1, 1, 1],\n",
       "         [1, 1, 1],\n",
       "         [1, 1, 1]],\n",
       " \n",
       "        ...,\n",
       " \n",
       "        [[1, 1, 1],\n",
       "         [1, 1, 1],\n",
       "         [1, 1, 1],\n",
       "         ...,\n",
       "         [1, 1, 1],\n",
       "         [1, 1, 1],\n",
       "         [1, 1, 1]],\n",
       " \n",
       "        [[1, 1, 1],\n",
       "         [1, 1, 1],\n",
       "         [1, 1, 1],\n",
       "         ...,\n",
       "         [1, 1, 1],\n",
       "         [1, 1, 1],\n",
       "         [1, 1, 1]],\n",
       " \n",
       "        [[1, 1, 1],\n",
       "         [1, 1, 1],\n",
       "         [1, 1, 1],\n",
       "         ...,\n",
       "         [1, 1, 1],\n",
       "         [1, 1, 1],\n",
       "         [1, 1, 1]]], dtype=uint8)\n",
       " orig_shape: (269, 249)\n",
       " path: 'C:\\\\Users\\\\Owen\\\\Downloads\\\\Brain_tumor_od\\\\Tumor\\\\images\\\\Test\\\\c3f5267a-Y116.JPG'\n",
       " probs: None\n",
       " save_dir: 'runs\\\\detect\\\\predict5'\n",
       " speed: {'preprocess': 5.104400013806298, 'inference': 105.03769997740164, 'postprocess': 0.8016999927349389},\n",
       " ultralytics.engine.results.Results object with attributes:\n",
       " \n",
       " boxes: ultralytics.engine.results.Boxes object\n",
       " keypoints: None\n",
       " masks: None\n",
       " names: {0: 'Tumor Brain'}\n",
       " obb: None\n",
       " orig_img: array([[[0, 0, 0],\n",
       "         [0, 0, 0],\n",
       "         [0, 0, 0],\n",
       "         ...,\n",
       "         [4, 4, 4],\n",
       "         [4, 4, 4],\n",
       "         [3, 3, 3]],\n",
       " \n",
       "        [[0, 0, 0],\n",
       "         [0, 0, 0],\n",
       "         [0, 0, 0],\n",
       "         ...,\n",
       "         [4, 4, 4],\n",
       "         [4, 4, 4],\n",
       "         [3, 3, 3]],\n",
       " \n",
       "        [[0, 0, 0],\n",
       "         [0, 0, 0],\n",
       "         [0, 0, 0],\n",
       "         ...,\n",
       "         [4, 4, 4],\n",
       "         [4, 4, 4],\n",
       "         [4, 4, 4]],\n",
       " \n",
       "        ...,\n",
       " \n",
       "        [[0, 0, 0],\n",
       "         [0, 0, 0],\n",
       "         [0, 0, 0],\n",
       "         ...,\n",
       "         [4, 4, 4],\n",
       "         [4, 4, 4],\n",
       "         [4, 4, 4]],\n",
       " \n",
       "        [[0, 0, 0],\n",
       "         [0, 0, 0],\n",
       "         [0, 0, 0],\n",
       "         ...,\n",
       "         [4, 4, 4],\n",
       "         [4, 4, 4],\n",
       "         [4, 4, 4]],\n",
       " \n",
       "        [[0, 0, 0],\n",
       "         [0, 0, 0],\n",
       "         [0, 0, 0],\n",
       "         ...,\n",
       "         [4, 4, 4],\n",
       "         [4, 4, 4],\n",
       "         [4, 4, 4]]], dtype=uint8)\n",
       " orig_shape: (316, 270)\n",
       " path: 'C:\\\\Users\\\\Owen\\\\Downloads\\\\Brain_tumor_od\\\\Tumor\\\\images\\\\Test\\\\c5d4cea6-Y163.JPG'\n",
       " probs: None\n",
       " save_dir: 'runs\\\\detect\\\\predict5'\n",
       " speed: {'preprocess': 4.649899987271056, 'inference': 101.51639999821782, 'postprocess': 0.839899992570281},\n",
       " ultralytics.engine.results.Results object with attributes:\n",
       " \n",
       " boxes: ultralytics.engine.results.Boxes object\n",
       " keypoints: None\n",
       " masks: None\n",
       " names: {0: 'Tumor Brain'}\n",
       " obb: None\n",
       " orig_img: array([[[ 36,  35,  39],\n",
       "         [ 34,  33,  37],\n",
       "         [ 32,  31,  35],\n",
       "         ...,\n",
       "         [142, 140, 140],\n",
       "         [145, 143, 143],\n",
       "         [152, 150, 150]],\n",
       " \n",
       "        [[ 33,  32,  36],\n",
       "         [ 32,  31,  35],\n",
       "         [ 31,  30,  34],\n",
       "         ...,\n",
       "         [ 37,  35,  35],\n",
       "         [ 33,  31,  31],\n",
       "         [220, 218, 218]],\n",
       " \n",
       "        [[ 33,  32,  36],\n",
       "         [ 33,  32,  36],\n",
       "         [ 34,  33,  37],\n",
       "         ...,\n",
       "         [152, 150, 150],\n",
       "         [ 33,  31,  31],\n",
       "         [187, 185, 185]],\n",
       " \n",
       "        ...,\n",
       " \n",
       "        [[ 30,  29,  33],\n",
       "         [ 31,  30,  34],\n",
       "         [ 32,  31,  35],\n",
       "         ...,\n",
       "         [ 39,  38,  40],\n",
       "         [ 32,  31,  33],\n",
       "         [ 37,  36,  38]],\n",
       " \n",
       "        [[ 32,  31,  35],\n",
       "         [ 32,  31,  35],\n",
       "         [ 33,  32,  36],\n",
       "         ...,\n",
       "         [ 37,  36,  38],\n",
       "         [ 32,  31,  33],\n",
       "         [ 38,  37,  39]],\n",
       " \n",
       "        [[ 32,  31,  35],\n",
       "         [ 32,  31,  35],\n",
       "         [ 33,  32,  36],\n",
       "         ...,\n",
       "         [ 37,  36,  38],\n",
       "         [ 31,  30,  32],\n",
       "         [ 37,  36,  38]]], dtype=uint8)\n",
       " orig_shape: (586, 467)\n",
       " path: 'C:\\\\Users\\\\Owen\\\\Downloads\\\\Brain_tumor_od\\\\Tumor\\\\images\\\\Test\\\\c75ca357-Y180.jpg'\n",
       " probs: None\n",
       " save_dir: 'runs\\\\detect\\\\predict5'\n",
       " speed: {'preprocess': 3.1122999789658934, 'inference': 79.03160000569187, 'postprocess': 0.8528000034857541},\n",
       " ultralytics.engine.results.Results object with attributes:\n",
       " \n",
       " boxes: ultralytics.engine.results.Boxes object\n",
       " keypoints: None\n",
       " masks: None\n",
       " names: {0: 'Tumor Brain'}\n",
       " obb: None\n",
       " orig_img: array([[[0, 0, 0],\n",
       "         [0, 0, 0],\n",
       "         [0, 0, 0],\n",
       "         ...,\n",
       "         [0, 0, 0],\n",
       "         [0, 0, 0],\n",
       "         [0, 0, 0]],\n",
       " \n",
       "        [[0, 0, 0],\n",
       "         [0, 0, 0],\n",
       "         [0, 0, 0],\n",
       "         ...,\n",
       "         [0, 0, 0],\n",
       "         [0, 0, 0],\n",
       "         [0, 0, 0]],\n",
       " \n",
       "        [[0, 0, 0],\n",
       "         [0, 0, 0],\n",
       "         [0, 0, 0],\n",
       "         ...,\n",
       "         [0, 0, 0],\n",
       "         [0, 0, 0],\n",
       "         [0, 0, 0]],\n",
       " \n",
       "        ...,\n",
       " \n",
       "        [[0, 0, 0],\n",
       "         [0, 0, 0],\n",
       "         [0, 0, 0],\n",
       "         ...,\n",
       "         [0, 0, 0],\n",
       "         [0, 0, 0],\n",
       "         [0, 0, 0]],\n",
       " \n",
       "        [[0, 0, 0],\n",
       "         [0, 0, 0],\n",
       "         [0, 0, 0],\n",
       "         ...,\n",
       "         [0, 0, 0],\n",
       "         [0, 0, 0],\n",
       "         [0, 0, 0]],\n",
       " \n",
       "        [[0, 0, 0],\n",
       "         [0, 0, 0],\n",
       "         [0, 0, 0],\n",
       "         ...,\n",
       "         [0, 0, 0],\n",
       "         [0, 0, 0],\n",
       "         [0, 0, 0]]], dtype=uint8)\n",
       " orig_shape: (630, 630)\n",
       " path: 'C:\\\\Users\\\\Owen\\\\Downloads\\\\Brain_tumor_od\\\\Tumor\\\\images\\\\Test\\\\c8397222-Y9.jpg'\n",
       " probs: None\n",
       " save_dir: 'runs\\\\detect\\\\predict5'\n",
       " speed: {'preprocess': 7.0970999950077385, 'inference': 107.76140002417378, 'postprocess': 0.974599999608472},\n",
       " ultralytics.engine.results.Results object with attributes:\n",
       " \n",
       " boxes: ultralytics.engine.results.Boxes object\n",
       " keypoints: None\n",
       " masks: None\n",
       " names: {0: 'Tumor Brain'}\n",
       " obb: None\n",
       " orig_img: array([[[30, 30, 30],\n",
       "         [14, 14, 14],\n",
       "         [14, 14, 14],\n",
       "         ...,\n",
       "         [15, 15, 15],\n",
       "         [14, 14, 14],\n",
       "         [28, 28, 28]],\n",
       " \n",
       "        [[16, 16, 16],\n",
       "         [ 1,  1,  1],\n",
       "         [ 2,  2,  2],\n",
       "         ...,\n",
       "         [ 2,  2,  2],\n",
       "         [ 1,  1,  1],\n",
       "         [13, 13, 13]],\n",
       " \n",
       "        [[15, 15, 15],\n",
       "         [ 0,  0,  0],\n",
       "         [ 1,  1,  1],\n",
       "         ...,\n",
       "         [ 2,  2,  2],\n",
       "         [ 3,  3,  3],\n",
       "         [16, 16, 16]],\n",
       " \n",
       "        ...,\n",
       " \n",
       "        [[17, 17, 17],\n",
       "         [ 3,  3,  3],\n",
       "         [ 2,  2,  2],\n",
       "         ...,\n",
       "         [ 3,  3,  3],\n",
       "         [ 2,  2,  2],\n",
       "         [18, 18, 18]],\n",
       " \n",
       "        [[17, 17, 17],\n",
       "         [ 1,  1,  1],\n",
       "         [ 2,  2,  2],\n",
       "         ...,\n",
       "         [ 1,  1,  1],\n",
       "         [ 2,  2,  2],\n",
       "         [15, 15, 15]],\n",
       " \n",
       "        [[29, 29, 29],\n",
       "         [14, 14, 14],\n",
       "         [14, 14, 14],\n",
       "         ...,\n",
       "         [14, 14, 14],\n",
       "         [15, 15, 15],\n",
       "         [29, 29, 29]]], dtype=uint8)\n",
       " orig_shape: (370, 286)\n",
       " path: 'C:\\\\Users\\\\Owen\\\\Downloads\\\\Brain_tumor_od\\\\Tumor\\\\images\\\\Test\\\\ca4c0371-Y156.JPG'\n",
       " probs: None\n",
       " save_dir: 'runs\\\\detect\\\\predict5'\n",
       " speed: {'preprocess': 2.888199989683926, 'inference': 84.35279998229817, 'postprocess': 0.8234000124502927},\n",
       " ultralytics.engine.results.Results object with attributes:\n",
       " \n",
       " boxes: ultralytics.engine.results.Boxes object\n",
       " keypoints: None\n",
       " masks: None\n",
       " names: {0: 'Tumor Brain'}\n",
       " obb: None\n",
       " orig_img: array([[[3, 3, 3],\n",
       "         [3, 3, 3],\n",
       "         [3, 3, 3],\n",
       "         ...,\n",
       "         [2, 2, 2],\n",
       "         [2, 2, 2],\n",
       "         [2, 2, 2]],\n",
       " \n",
       "        [[0, 0, 0],\n",
       "         [0, 0, 0],\n",
       "         [0, 0, 0],\n",
       "         ...,\n",
       "         [0, 0, 0],\n",
       "         [0, 0, 0],\n",
       "         [0, 0, 0]],\n",
       " \n",
       "        [[0, 0, 0],\n",
       "         [0, 0, 0],\n",
       "         [0, 0, 0],\n",
       "         ...,\n",
       "         [0, 0, 0],\n",
       "         [0, 0, 0],\n",
       "         [0, 0, 0]],\n",
       " \n",
       "        ...,\n",
       " \n",
       "        [[4, 4, 4],\n",
       "         [0, 0, 0],\n",
       "         [0, 0, 0],\n",
       "         ...,\n",
       "         [0, 0, 0],\n",
       "         [0, 0, 0],\n",
       "         [0, 0, 0]],\n",
       " \n",
       "        [[4, 4, 4],\n",
       "         [0, 0, 0],\n",
       "         [0, 0, 0],\n",
       "         ...,\n",
       "         [0, 0, 0],\n",
       "         [0, 0, 0],\n",
       "         [0, 0, 0]],\n",
       " \n",
       "        [[4, 4, 4],\n",
       "         [0, 0, 0],\n",
       "         [0, 0, 0],\n",
       "         ...,\n",
       "         [0, 0, 0],\n",
       "         [0, 0, 0],\n",
       "         [0, 0, 0]]], dtype=uint8)\n",
       " orig_shape: (277, 272)\n",
       " path: 'C:\\\\Users\\\\Owen\\\\Downloads\\\\Brain_tumor_od\\\\Tumor\\\\images\\\\Test\\\\cbb67b4e-Y23.JPG'\n",
       " probs: None\n",
       " save_dir: 'runs\\\\detect\\\\predict5'\n",
       " speed: {'preprocess': 5.254099989542738, 'inference': 101.19629997643642, 'postprocess': 1.9449999963399023},\n",
       " ultralytics.engine.results.Results object with attributes:\n",
       " \n",
       " boxes: ultralytics.engine.results.Boxes object\n",
       " keypoints: None\n",
       " masks: None\n",
       " names: {0: 'Tumor Brain'}\n",
       " obb: None\n",
       " orig_img: array([[[27, 27, 27],\n",
       "         [27, 27, 27],\n",
       "         [27, 27, 27],\n",
       "         ...,\n",
       "         [27, 27, 27],\n",
       "         [27, 27, 27],\n",
       "         [27, 27, 27]],\n",
       " \n",
       "        [[ 1,  1,  1],\n",
       "         [ 1,  1,  1],\n",
       "         [ 1,  1,  1],\n",
       "         ...,\n",
       "         [ 1,  1,  1],\n",
       "         [ 1,  1,  1],\n",
       "         [ 1,  1,  1]],\n",
       " \n",
       "        [[ 0,  0,  0],\n",
       "         [ 1,  1,  1],\n",
       "         [ 1,  1,  1],\n",
       "         ...,\n",
       "         [ 1,  1,  1],\n",
       "         [ 1,  1,  1],\n",
       "         [ 1,  1,  1]],\n",
       " \n",
       "        ...,\n",
       " \n",
       "        [[ 0,  0,  0],\n",
       "         [ 0,  0,  0],\n",
       "         [ 0,  0,  0],\n",
       "         ...,\n",
       "         [ 0,  0,  0],\n",
       "         [ 0,  0,  0],\n",
       "         [ 0,  0,  0]],\n",
       " \n",
       "        [[ 0,  0,  0],\n",
       "         [ 0,  0,  0],\n",
       "         [ 0,  0,  0],\n",
       "         ...,\n",
       "         [ 1,  1,  1],\n",
       "         [ 1,  1,  1],\n",
       "         [ 1,  1,  1]],\n",
       " \n",
       "        [[19, 19, 19],\n",
       "         [19, 19, 19],\n",
       "         [19, 19, 19],\n",
       "         ...,\n",
       "         [20, 20, 20],\n",
       "         [20, 20, 20],\n",
       "         [20, 20, 20]]], dtype=uint8)\n",
       " orig_shape: (355, 310)\n",
       " path: 'C:\\\\Users\\\\Owen\\\\Downloads\\\\Brain_tumor_od\\\\Tumor\\\\images\\\\Test\\\\e879168c-Y155.JPG'\n",
       " probs: None\n",
       " save_dir: 'runs\\\\detect\\\\predict5'\n",
       " speed: {'preprocess': 5.095800006529316, 'inference': 94.12719999090768, 'postprocess': 1.2370999902486801},\n",
       " ultralytics.engine.results.Results object with attributes:\n",
       " \n",
       " boxes: ultralytics.engine.results.Boxes object\n",
       " keypoints: None\n",
       " masks: None\n",
       " names: {0: 'Tumor Brain'}\n",
       " obb: None\n",
       " orig_img: array([[[31, 31, 31],\n",
       "         [33, 33, 33],\n",
       "         [32, 32, 32],\n",
       "         ...,\n",
       "         [41, 41, 41],\n",
       "         [28, 28, 28],\n",
       "         [30, 30, 30]],\n",
       " \n",
       "        [[31, 31, 31],\n",
       "         [33, 33, 33],\n",
       "         [32, 32, 32],\n",
       "         ...,\n",
       "         [36, 36, 36],\n",
       "         [22, 22, 22],\n",
       "         [29, 29, 29]],\n",
       " \n",
       "        [[31, 31, 31],\n",
       "         [32, 32, 32],\n",
       "         [32, 32, 32],\n",
       "         ...,\n",
       "         [28, 28, 28],\n",
       "         [29, 29, 29],\n",
       "         [36, 36, 36]],\n",
       " \n",
       "        ...,\n",
       " \n",
       "        [[27, 27, 27],\n",
       "         [27, 27, 27],\n",
       "         [27, 27, 27],\n",
       "         ...,\n",
       "         [31, 31, 31],\n",
       "         [35, 35, 35],\n",
       "         [30, 30, 30]],\n",
       " \n",
       "        [[27, 27, 27],\n",
       "         [27, 27, 27],\n",
       "         [27, 27, 27],\n",
       "         ...,\n",
       "         [31, 31, 31],\n",
       "         [35, 35, 35],\n",
       "         [30, 30, 30]],\n",
       " \n",
       "        [[27, 27, 27],\n",
       "         [27, 27, 27],\n",
       "         [27, 27, 27],\n",
       "         ...,\n",
       "         [31, 31, 31],\n",
       "         [35, 35, 35],\n",
       "         [30, 30, 30]]], dtype=uint8)\n",
       " orig_shape: (173, 189)\n",
       " path: 'C:\\\\Users\\\\Owen\\\\Downloads\\\\Brain_tumor_od\\\\Tumor\\\\images\\\\Test\\\\f4dd018b-Y184.JPG'\n",
       " probs: None\n",
       " save_dir: 'runs\\\\detect\\\\predict5'\n",
       " speed: {'preprocess': 4.675100004533306, 'inference': 97.81889998703264, 'postprocess': 0.8988000045064837},\n",
       " ultralytics.engine.results.Results object with attributes:\n",
       " \n",
       " boxes: ultralytics.engine.results.Boxes object\n",
       " keypoints: None\n",
       " masks: None\n",
       " names: {0: 'Tumor Brain'}\n",
       " obb: None\n",
       " orig_img: array([[[ 0,  0,  0],\n",
       "         [ 0,  0,  0],\n",
       "         [ 0,  0,  0],\n",
       "         ...,\n",
       "         [ 0,  0,  0],\n",
       "         [ 0,  0,  0],\n",
       "         [ 0,  0,  0]],\n",
       " \n",
       "        [[ 0,  0,  0],\n",
       "         [ 0,  0,  0],\n",
       "         [ 0,  0,  0],\n",
       "         ...,\n",
       "         [ 0,  0,  0],\n",
       "         [ 0,  0,  0],\n",
       "         [ 0,  0,  0]],\n",
       " \n",
       "        [[ 0,  0,  0],\n",
       "         [ 0,  0,  0],\n",
       "         [ 0,  0,  0],\n",
       "         ...,\n",
       "         [ 0,  0,  0],\n",
       "         [ 0,  0,  0],\n",
       "         [ 0,  0,  0]],\n",
       " \n",
       "        ...,\n",
       " \n",
       "        [[ 3,  0, 46],\n",
       "         [ 2,  0, 46],\n",
       "         [ 4,  1, 47],\n",
       "         ...,\n",
       "         [ 0,  0,  0],\n",
       "         [ 0,  0,  0],\n",
       "         [ 0,  0,  0]],\n",
       " \n",
       "        [[ 0,  0, 10],\n",
       "         [ 0,  0, 10],\n",
       "         [ 0,  0, 10],\n",
       "         ...,\n",
       "         [ 0,  0,  0],\n",
       "         [ 0,  0,  0],\n",
       "         [ 0,  0,  0]],\n",
       " \n",
       "        [[ 0,  3,  0],\n",
       "         [ 0,  3,  0],\n",
       "         [ 0,  3,  0],\n",
       "         ...,\n",
       "         [ 0,  0,  0],\n",
       "         [ 0,  0,  0],\n",
       "         [ 0,  0,  0]]], dtype=uint8)\n",
       " orig_shape: (300, 263)\n",
       " path: 'C:\\\\Users\\\\Owen\\\\Downloads\\\\Brain_tumor_od\\\\Tumor\\\\images\\\\Test\\\\fd3952f8-Y168.jpg'\n",
       " probs: None\n",
       " save_dir: 'runs\\\\detect\\\\predict5'\n",
       " speed: {'preprocess': 4.983299993909895, 'inference': 107.0359000004828, 'postprocess': 0.4744000034406781}]"
      ]
     },
     "execution_count": 38,
     "metadata": {},
     "output_type": "execute_result"
    }
   ],
   "source": [
    "#  Prediction using trained model\n",
    "\n",
    "from ultralytics import YOLO\n",
    "\n",
    "# Load a pretrained YOLOv8n model\n",
    "model = YOLO(\"C:/Users/Owen/runs/detect/train29/weights/best.pt\")\n",
    "\n",
    "# Run inference \n",
    "model.predict(\"C:/Users/Owen/Downloads/Brain_tumor_od/Tumor/images/Test\", save=True, imgsz=640, conf=0.2)"
   ]
  },
  {
   "cell_type": "code",
   "execution_count": null,
   "id": "c19dfa35-93ae-438d-be28-e56a1d9f08e9",
   "metadata": {},
   "outputs": [],
   "source": []
  },
  {
   "cell_type": "code",
   "execution_count": 36,
   "id": "1bcc3c74-203b-45ea-b68a-ec12b1d48799",
   "metadata": {},
   "outputs": [
    {
     "name": "stdout",
     "output_type": "stream",
     "text": [
      "New https://pypi.org/project/ultralytics/8.3.90 available  Update with 'pip install -U ultralytics'\n",
      "Ultralytics 8.3.78  Python-3.12.4 torch-2.6.0+cpu CPU (AMD Ryzen 5 5500U with Radeon Graphics)\n",
      "\u001b[34m\u001b[1mengine\\trainer: \u001b[0mtask=detect, mode=train, model=yolov8n.pt, data=C:/Users/Owen/Downloads/Brain_tumor_od/Tumor/Tumor.yaml, epochs=30, time=None, patience=100, batch=16, imgsz=640, save=True, save_period=-1, cache=False, device=cpu, workers=8, project=None, name=train29, exist_ok=False, pretrained=True, optimizer=auto, verbose=True, seed=0, deterministic=True, single_cls=False, rect=False, cos_lr=False, close_mosaic=10, resume=False, amp=True, fraction=1.0, profile=False, freeze=None, multi_scale=False, overlap_mask=True, mask_ratio=4, dropout=0.0, val=True, split=val, save_json=False, save_hybrid=False, conf=None, iou=0.7, max_det=300, half=False, dnn=False, plots=True, source=None, vid_stride=1, stream_buffer=False, visualize=False, augment=False, agnostic_nms=False, classes=None, retina_masks=False, embed=None, show=False, save_frames=False, save_txt=False, save_conf=False, save_crop=False, show_labels=True, show_conf=True, show_boxes=True, line_width=None, format=torchscript, keras=False, optimize=False, int8=False, dynamic=False, simplify=True, opset=None, workspace=None, nms=False, lr0=0.01, lrf=0.01, momentum=0.937, weight_decay=0.0005, warmup_epochs=3.0, warmup_momentum=0.8, warmup_bias_lr=0.1, box=7.5, cls=0.5, dfl=1.5, pose=12.0, kobj=1.0, nbs=64, hsv_h=0.015, hsv_s=0.7, hsv_v=0.4, degrees=0.0, translate=0.1, scale=0.5, shear=0.0, perspective=0.0, flipud=0.0, fliplr=0.5, bgr=0.0, mosaic=1.0, mixup=0.0, copy_paste=0.0, copy_paste_mode=flip, auto_augment=randaugment, erasing=0.4, crop_fraction=1.0, cfg=None, tracker=botsort.yaml, save_dir=runs\\detect\\train29\n",
      "Overriding model.yaml nc=80 with nc=1\n",
      "\n",
      "                   from  n    params  module                                       arguments                     \n",
      "  0                  -1  1       464  ultralytics.nn.modules.conv.Conv             [3, 16, 3, 2]                 \n",
      "  1                  -1  1      4672  ultralytics.nn.modules.conv.Conv             [16, 32, 3, 2]                \n",
      "  2                  -1  1      7360  ultralytics.nn.modules.block.C2f             [32, 32, 1, True]             \n",
      "  3                  -1  1     18560  ultralytics.nn.modules.conv.Conv             [32, 64, 3, 2]                \n",
      "  4                  -1  2     49664  ultralytics.nn.modules.block.C2f             [64, 64, 2, True]             \n",
      "  5                  -1  1     73984  ultralytics.nn.modules.conv.Conv             [64, 128, 3, 2]               \n",
      "  6                  -1  2    197632  ultralytics.nn.modules.block.C2f             [128, 128, 2, True]           \n",
      "  7                  -1  1    295424  ultralytics.nn.modules.conv.Conv             [128, 256, 3, 2]              \n",
      "  8                  -1  1    460288  ultralytics.nn.modules.block.C2f             [256, 256, 1, True]           \n",
      "  9                  -1  1    164608  ultralytics.nn.modules.block.SPPF            [256, 256, 5]                 \n",
      " 10                  -1  1         0  torch.nn.modules.upsampling.Upsample         [None, 2, 'nearest']          \n",
      " 11             [-1, 6]  1         0  ultralytics.nn.modules.conv.Concat           [1]                           \n",
      " 12                  -1  1    148224  ultralytics.nn.modules.block.C2f             [384, 128, 1]                 \n",
      " 13                  -1  1         0  torch.nn.modules.upsampling.Upsample         [None, 2, 'nearest']          \n",
      " 14             [-1, 4]  1         0  ultralytics.nn.modules.conv.Concat           [1]                           \n",
      " 15                  -1  1     37248  ultralytics.nn.modules.block.C2f             [192, 64, 1]                  \n",
      " 16                  -1  1     36992  ultralytics.nn.modules.conv.Conv             [64, 64, 3, 2]                \n",
      " 17            [-1, 12]  1         0  ultralytics.nn.modules.conv.Concat           [1]                           \n",
      " 18                  -1  1    123648  ultralytics.nn.modules.block.C2f             [192, 128, 1]                 \n",
      " 19                  -1  1    147712  ultralytics.nn.modules.conv.Conv             [128, 128, 3, 2]              \n",
      " 20             [-1, 9]  1         0  ultralytics.nn.modules.conv.Concat           [1]                           \n",
      " 21                  -1  1    493056  ultralytics.nn.modules.block.C2f             [384, 256, 1]                 \n",
      " 22        [15, 18, 21]  1    751507  ultralytics.nn.modules.head.Detect           [1, [64, 128, 256]]           \n",
      "Model summary: 129 layers, 3,011,043 parameters, 3,011,027 gradients, 8.2 GFLOPs\n",
      "\n",
      "Transferred 319/355 items from pretrained weights\n",
      "\u001b[34m\u001b[1mTensorBoard: \u001b[0mStart with 'tensorboard --logdir runs\\detect\\train29', view at http://localhost:6006/\n",
      "Freezing layer 'model.22.dfl.conv.weight'\n"
     ]
    },
    {
     "name": "stderr",
     "output_type": "stream",
     "text": [
      "\u001b[34m\u001b[1mtrain: \u001b[0mScanning C:\\Users\\Owen\\Downloads\\Brain_tumor_od\\Tumor\\labels\\Train.cache... 83 images, 16 backgrounds, 0 corrupt: 100%|██████████| 99/99 [00:00<?, ?it/s]\n",
      "\u001b[34m\u001b[1mval: \u001b[0mScanning C:\\Users\\Owen\\Downloads\\Brain_tumor_od\\Tumor\\labels\\Test.cache... 33 images, 16 backgrounds, 0 corrupt: 100%|██████████| 49/49 [00:00<?, ?it/s]\n"
     ]
    },
    {
     "name": "stdout",
     "output_type": "stream",
     "text": [
      "Plotting labels to runs\\detect\\train29\\labels.jpg... \n",
      "\u001b[34m\u001b[1moptimizer:\u001b[0m 'optimizer=auto' found, ignoring 'lr0=0.01' and 'momentum=0.937' and determining best 'optimizer', 'lr0' and 'momentum' automatically... \n",
      "\u001b[34m\u001b[1moptimizer:\u001b[0m AdamW(lr=0.002, momentum=0.9) with parameter groups 57 weight(decay=0.0), 64 weight(decay=0.0005), 63 bias(decay=0.0)\n",
      "\u001b[34m\u001b[1mTensorBoard: \u001b[0mmodel graph visualization added \n",
      "Image sizes 640 train, 640 val\n",
      "Using 0 dataloader workers\n",
      "Logging results to \u001b[1mruns\\detect\\train29\u001b[0m\n",
      "Starting training for 30 epochs...\n",
      "\n",
      "      Epoch    GPU_mem   box_loss   cls_loss   dfl_loss  Instances       Size\n"
     ]
    },
    {
     "name": "stderr",
     "output_type": "stream",
     "text": [
      "       1/30         0G      1.965      4.043      1.966          6        640: 100%|██████████| 7/7 [01:22<00:00, 11.76s/it]\n",
      "                 Class     Images  Instances      Box(P          R      mAP50  mAP50-95): 100%|██████████| 2/2 [00:11<00:00,  5.66s/it]"
     ]
    },
    {
     "name": "stdout",
     "output_type": "stream",
     "text": [
      "                   all         49         38    0.00231      0.895     0.0984     0.0564\n"
     ]
    },
    {
     "name": "stderr",
     "output_type": "stream",
     "text": [
      "\n"
     ]
    },
    {
     "name": "stdout",
     "output_type": "stream",
     "text": [
      "\n",
      "      Epoch    GPU_mem   box_loss   cls_loss   dfl_loss  Instances       Size\n"
     ]
    },
    {
     "name": "stderr",
     "output_type": "stream",
     "text": [
      "       2/30         0G      1.675      3.469      1.877          3        640: 100%|██████████| 7/7 [01:34<00:00, 13.45s/it]\n",
      "                 Class     Images  Instances      Box(P          R      mAP50  mAP50-95): 100%|██████████| 2/2 [00:12<00:00,  6.19s/it]"
     ]
    },
    {
     "name": "stdout",
     "output_type": "stream",
     "text": [
      "                   all         49         38    0.00252      0.974      0.137     0.0728\n"
     ]
    },
    {
     "name": "stderr",
     "output_type": "stream",
     "text": [
      "\n"
     ]
    },
    {
     "name": "stdout",
     "output_type": "stream",
     "text": [
      "\n",
      "      Epoch    GPU_mem   box_loss   cls_loss   dfl_loss  Instances       Size\n"
     ]
    },
    {
     "name": "stderr",
     "output_type": "stream",
     "text": [
      "       3/30         0G       1.59      2.645      1.726          6        640: 100%|██████████| 7/7 [01:33<00:00, 13.36s/it]\n",
      "                 Class     Images  Instances      Box(P          R      mAP50  mAP50-95): 100%|██████████| 2/2 [00:13<00:00,  6.52s/it]"
     ]
    },
    {
     "name": "stdout",
     "output_type": "stream",
     "text": [
      "                   all         49         38    0.00231      0.895      0.157     0.0667\n"
     ]
    },
    {
     "name": "stderr",
     "output_type": "stream",
     "text": [
      "\n"
     ]
    },
    {
     "name": "stdout",
     "output_type": "stream",
     "text": [
      "\n",
      "      Epoch    GPU_mem   box_loss   cls_loss   dfl_loss  Instances       Size\n"
     ]
    },
    {
     "name": "stderr",
     "output_type": "stream",
     "text": [
      "       4/30         0G      1.518      3.084      1.617          1        640: 100%|██████████| 7/7 [02:11<00:00, 18.77s/it]\n",
      "                 Class     Images  Instances      Box(P          R      mAP50  mAP50-95): 100%|██████████| 2/2 [00:16<00:00,  8.31s/it]\n"
     ]
    },
    {
     "name": "stdout",
     "output_type": "stream",
     "text": [
      "                   all         49         38    0.00238      0.921     0.0954     0.0359\n",
      "\n",
      "      Epoch    GPU_mem   box_loss   cls_loss   dfl_loss  Instances       Size\n"
     ]
    },
    {
     "name": "stderr",
     "output_type": "stream",
     "text": [
      "       5/30         0G      1.576      2.347      1.599          6        640: 100%|██████████| 7/7 [01:27<00:00, 12.44s/it]\n",
      "                 Class     Images  Instances      Box(P          R      mAP50  mAP50-95): 100%|██████████| 2/2 [00:12<00:00,  6.36s/it]"
     ]
    },
    {
     "name": "stdout",
     "output_type": "stream",
     "text": [
      "                   all         49         38    0.00231      0.895      0.241      0.127\n"
     ]
    },
    {
     "name": "stderr",
     "output_type": "stream",
     "text": [
      "\n"
     ]
    },
    {
     "name": "stdout",
     "output_type": "stream",
     "text": [
      "\n",
      "      Epoch    GPU_mem   box_loss   cls_loss   dfl_loss  Instances       Size\n"
     ]
    },
    {
     "name": "stderr",
     "output_type": "stream",
     "text": [
      "       6/30         0G      1.714      2.424      1.724          3        640: 100%|██████████| 7/7 [01:30<00:00, 12.97s/it]\n",
      "                 Class     Images  Instances      Box(P          R      mAP50  mAP50-95): 100%|██████████| 2/2 [00:12<00:00,  6.50s/it]"
     ]
    },
    {
     "name": "stdout",
     "output_type": "stream",
     "text": [
      "                   all         49         38       0.41      0.202      0.247      0.132\n"
     ]
    },
    {
     "name": "stderr",
     "output_type": "stream",
     "text": [
      "\n"
     ]
    },
    {
     "name": "stdout",
     "output_type": "stream",
     "text": [
      "\n",
      "      Epoch    GPU_mem   box_loss   cls_loss   dfl_loss  Instances       Size\n"
     ]
    },
    {
     "name": "stderr",
     "output_type": "stream",
     "text": [
      "       7/30         0G      1.589      2.343       1.53          7        640: 100%|██████████| 7/7 [01:48<00:00, 15.52s/it]\n",
      "                 Class     Images  Instances      Box(P          R      mAP50  mAP50-95): 100%|██████████| 2/2 [00:12<00:00,  6.46s/it]"
     ]
    },
    {
     "name": "stdout",
     "output_type": "stream",
     "text": [
      "                   all         49         38      0.654      0.184      0.355      0.125\n"
     ]
    },
    {
     "name": "stderr",
     "output_type": "stream",
     "text": [
      "\n"
     ]
    },
    {
     "name": "stdout",
     "output_type": "stream",
     "text": [
      "\n",
      "      Epoch    GPU_mem   box_loss   cls_loss   dfl_loss  Instances       Size\n"
     ]
    },
    {
     "name": "stderr",
     "output_type": "stream",
     "text": [
      "       8/30         0G       1.69      2.357      1.583          3        640: 100%|██████████| 7/7 [01:28<00:00, 12.63s/it]\n",
      "                 Class     Images  Instances      Box(P          R      mAP50  mAP50-95): 100%|██████████| 2/2 [00:12<00:00,  6.43s/it]"
     ]
    },
    {
     "name": "stdout",
     "output_type": "stream",
     "text": [
      "                   all         49         38      0.519      0.086      0.371      0.157\n"
     ]
    },
    {
     "name": "stderr",
     "output_type": "stream",
     "text": [
      "\n"
     ]
    },
    {
     "name": "stdout",
     "output_type": "stream",
     "text": [
      "\n",
      "      Epoch    GPU_mem   box_loss   cls_loss   dfl_loss  Instances       Size\n"
     ]
    },
    {
     "name": "stderr",
     "output_type": "stream",
     "text": [
      "       9/30         0G      1.574      2.005      1.567          6        640: 100%|██████████| 7/7 [01:30<00:00, 12.94s/it]\n",
      "                 Class     Images  Instances      Box(P          R      mAP50  mAP50-95): 100%|██████████| 2/2 [00:16<00:00,  8.06s/it]"
     ]
    },
    {
     "name": "stdout",
     "output_type": "stream",
     "text": [
      "                   all         49         38      0.493      0.154       0.29      0.107\n"
     ]
    },
    {
     "name": "stderr",
     "output_type": "stream",
     "text": [
      "\n"
     ]
    },
    {
     "name": "stdout",
     "output_type": "stream",
     "text": [
      "\n",
      "      Epoch    GPU_mem   box_loss   cls_loss   dfl_loss  Instances       Size\n"
     ]
    },
    {
     "name": "stderr",
     "output_type": "stream",
     "text": [
      "      10/30         0G      1.696      2.213       1.66          4        640: 100%|██████████| 7/7 [01:51<00:00, 15.88s/it]\n",
      "                 Class     Images  Instances      Box(P          R      mAP50  mAP50-95): 100%|██████████| 2/2 [00:13<00:00,  6.76s/it]"
     ]
    },
    {
     "name": "stdout",
     "output_type": "stream",
     "text": [
      "                   all         49         38      0.546      0.158      0.264     0.0834\n"
     ]
    },
    {
     "name": "stderr",
     "output_type": "stream",
     "text": [
      "\n"
     ]
    },
    {
     "name": "stdout",
     "output_type": "stream",
     "text": [
      "\n",
      "      Epoch    GPU_mem   box_loss   cls_loss   dfl_loss  Instances       Size\n"
     ]
    },
    {
     "name": "stderr",
     "output_type": "stream",
     "text": [
      "      11/30         0G      1.629      1.912      1.619          5        640: 100%|██████████| 7/7 [02:14<00:00, 19.28s/it]\n",
      "                 Class     Images  Instances      Box(P          R      mAP50  mAP50-95): 100%|██████████| 2/2 [00:12<00:00,  6.15s/it]"
     ]
    },
    {
     "name": "stdout",
     "output_type": "stream",
     "text": [
      "                   all         49         38      0.437      0.306      0.214     0.0932\n"
     ]
    },
    {
     "name": "stderr",
     "output_type": "stream",
     "text": [
      "\n"
     ]
    },
    {
     "name": "stdout",
     "output_type": "stream",
     "text": [
      "\n",
      "      Epoch    GPU_mem   box_loss   cls_loss   dfl_loss  Instances       Size\n"
     ]
    },
    {
     "name": "stderr",
     "output_type": "stream",
     "text": [
      "      12/30         0G      1.507      1.814      1.536          5        640: 100%|██████████| 7/7 [01:30<00:00, 12.96s/it]\n",
      "                 Class     Images  Instances      Box(P          R      mAP50  mAP50-95): 100%|██████████| 2/2 [00:11<00:00,  5.94s/it]"
     ]
    },
    {
     "name": "stdout",
     "output_type": "stream",
     "text": [
      "                   all         49         38      0.297      0.211      0.165     0.0755\n"
     ]
    },
    {
     "name": "stderr",
     "output_type": "stream",
     "text": [
      "\n"
     ]
    },
    {
     "name": "stdout",
     "output_type": "stream",
     "text": [
      "\n",
      "      Epoch    GPU_mem   box_loss   cls_loss   dfl_loss  Instances       Size\n"
     ]
    },
    {
     "name": "stderr",
     "output_type": "stream",
     "text": [
      "      13/30         0G      1.516      1.936      1.559          5        640: 100%|██████████| 7/7 [01:27<00:00, 12.44s/it]\n",
      "                 Class     Images  Instances      Box(P          R      mAP50  mAP50-95): 100%|██████████| 2/2 [00:12<00:00,  6.29s/it]"
     ]
    },
    {
     "name": "stdout",
     "output_type": "stream",
     "text": [
      "                   all         49         38      0.267      0.184      0.173     0.0942\n"
     ]
    },
    {
     "name": "stderr",
     "output_type": "stream",
     "text": [
      "\n"
     ]
    },
    {
     "name": "stdout",
     "output_type": "stream",
     "text": [
      "\n",
      "      Epoch    GPU_mem   box_loss   cls_loss   dfl_loss  Instances       Size\n"
     ]
    },
    {
     "name": "stderr",
     "output_type": "stream",
     "text": [
      "      14/30         0G      1.644      2.017      1.722          3        640: 100%|██████████| 7/7 [01:04<00:00,  9.19s/it]\n",
      "                 Class     Images  Instances      Box(P          R      mAP50  mAP50-95): 100%|██████████| 2/2 [00:12<00:00,  6.19s/it]"
     ]
    },
    {
     "name": "stdout",
     "output_type": "stream",
     "text": [
      "                   all         49         38      0.273      0.296      0.213     0.0991\n"
     ]
    },
    {
     "name": "stderr",
     "output_type": "stream",
     "text": [
      "\n"
     ]
    },
    {
     "name": "stdout",
     "output_type": "stream",
     "text": [
      "\n",
      "      Epoch    GPU_mem   box_loss   cls_loss   dfl_loss  Instances       Size\n"
     ]
    },
    {
     "name": "stderr",
     "output_type": "stream",
     "text": [
      "      15/30         0G      1.492      1.737      1.569          6        640: 100%|██████████| 7/7 [01:50<00:00, 15.76s/it]\n",
      "                 Class     Images  Instances      Box(P          R      mAP50  mAP50-95): 100%|██████████| 2/2 [00:11<00:00,  5.97s/it]"
     ]
    },
    {
     "name": "stdout",
     "output_type": "stream",
     "text": [
      "                   all         49         38       0.39      0.447      0.325      0.159\n"
     ]
    },
    {
     "name": "stderr",
     "output_type": "stream",
     "text": [
      "\n"
     ]
    },
    {
     "name": "stdout",
     "output_type": "stream",
     "text": [
      "\n",
      "      Epoch    GPU_mem   box_loss   cls_loss   dfl_loss  Instances       Size\n"
     ]
    },
    {
     "name": "stderr",
     "output_type": "stream",
     "text": [
      "      16/30         0G      1.553      1.738      1.565          7        640: 100%|██████████| 7/7 [01:29<00:00, 12.83s/it]\n",
      "                 Class     Images  Instances      Box(P          R      mAP50  mAP50-95): 100%|██████████| 2/2 [00:11<00:00,  5.86s/it]"
     ]
    },
    {
     "name": "stdout",
     "output_type": "stream",
     "text": [
      "                   all         49         38      0.402      0.579      0.348      0.173\n"
     ]
    },
    {
     "name": "stderr",
     "output_type": "stream",
     "text": [
      "\n"
     ]
    },
    {
     "name": "stdout",
     "output_type": "stream",
     "text": [
      "\n",
      "      Epoch    GPU_mem   box_loss   cls_loss   dfl_loss  Instances       Size\n"
     ]
    },
    {
     "name": "stderr",
     "output_type": "stream",
     "text": [
      "      17/30         0G      1.508      1.776      1.498          7        640: 100%|██████████| 7/7 [01:41<00:00, 14.46s/it]\n",
      "                 Class     Images  Instances      Box(P          R      mAP50  mAP50-95): 100%|██████████| 2/2 [00:11<00:00,  5.70s/it]"
     ]
    },
    {
     "name": "stdout",
     "output_type": "stream",
     "text": [
      "                   all         49         38      0.402      0.553      0.361      0.191\n"
     ]
    },
    {
     "name": "stderr",
     "output_type": "stream",
     "text": [
      "\n"
     ]
    },
    {
     "name": "stdout",
     "output_type": "stream",
     "text": [
      "\n",
      "      Epoch    GPU_mem   box_loss   cls_loss   dfl_loss  Instances       Size\n"
     ]
    },
    {
     "name": "stderr",
     "output_type": "stream",
     "text": [
      "      18/30         0G      1.426      1.683       1.47          2        640: 100%|██████████| 7/7 [01:19<00:00, 11.31s/it]\n",
      "                 Class     Images  Instances      Box(P          R      mAP50  mAP50-95): 100%|██████████| 2/2 [00:10<00:00,  5.35s/it]"
     ]
    },
    {
     "name": "stdout",
     "output_type": "stream",
     "text": [
      "                   all         49         38      0.466      0.553      0.453      0.227\n"
     ]
    },
    {
     "name": "stderr",
     "output_type": "stream",
     "text": [
      "\n"
     ]
    },
    {
     "name": "stdout",
     "output_type": "stream",
     "text": [
      "\n",
      "      Epoch    GPU_mem   box_loss   cls_loss   dfl_loss  Instances       Size\n"
     ]
    },
    {
     "name": "stderr",
     "output_type": "stream",
     "text": [
      "      19/30         0G      1.398      1.752       1.47          4        640: 100%|██████████| 7/7 [01:05<00:00,  9.40s/it]\n",
      "                 Class     Images  Instances      Box(P          R      mAP50  mAP50-95): 100%|██████████| 2/2 [00:09<00:00,  4.70s/it]"
     ]
    },
    {
     "name": "stdout",
     "output_type": "stream",
     "text": [
      "                   all         49         38      0.552      0.583      0.446      0.182\n"
     ]
    },
    {
     "name": "stderr",
     "output_type": "stream",
     "text": [
      "\n"
     ]
    },
    {
     "name": "stdout",
     "output_type": "stream",
     "text": [
      "\n",
      "      Epoch    GPU_mem   box_loss   cls_loss   dfl_loss  Instances       Size\n"
     ]
    },
    {
     "name": "stderr",
     "output_type": "stream",
     "text": [
      "      20/30         0G      1.409      1.563      1.508          5        640: 100%|██████████| 7/7 [01:14<00:00, 10.63s/it]\n",
      "                 Class     Images  Instances      Box(P          R      mAP50  mAP50-95): 100%|██████████| 2/2 [00:10<00:00,  5.03s/it]"
     ]
    },
    {
     "name": "stdout",
     "output_type": "stream",
     "text": [
      "                   all         49         38       0.53      0.658      0.443      0.189\n"
     ]
    },
    {
     "name": "stderr",
     "output_type": "stream",
     "text": [
      "\n"
     ]
    },
    {
     "name": "stdout",
     "output_type": "stream",
     "text": [
      "Closing dataloader mosaic\n",
      "\n",
      "      Epoch    GPU_mem   box_loss   cls_loss   dfl_loss  Instances       Size\n"
     ]
    },
    {
     "name": "stderr",
     "output_type": "stream",
     "text": [
      "      21/30         0G      1.298      1.712      1.398          3        640: 100%|██████████| 7/7 [01:07<00:00,  9.69s/it]\n",
      "                 Class     Images  Instances      Box(P          R      mAP50  mAP50-95): 100%|██████████| 2/2 [00:10<00:00,  5.07s/it]"
     ]
    },
    {
     "name": "stdout",
     "output_type": "stream",
     "text": [
      "                   all         49         38      0.516      0.711      0.462       0.22\n"
     ]
    },
    {
     "name": "stderr",
     "output_type": "stream",
     "text": [
      "\n"
     ]
    },
    {
     "name": "stdout",
     "output_type": "stream",
     "text": [
      "\n",
      "      Epoch    GPU_mem   box_loss   cls_loss   dfl_loss  Instances       Size\n"
     ]
    },
    {
     "name": "stderr",
     "output_type": "stream",
     "text": [
      "      22/30         0G        1.3      1.632      1.405          3        640: 100%|██████████| 7/7 [01:08<00:00,  9.84s/it]\n",
      "                 Class     Images  Instances      Box(P          R      mAP50  mAP50-95): 100%|██████████| 2/2 [00:10<00:00,  5.02s/it]"
     ]
    },
    {
     "name": "stdout",
     "output_type": "stream",
     "text": [
      "                   all         49         38      0.297      0.658      0.349      0.159\n"
     ]
    },
    {
     "name": "stderr",
     "output_type": "stream",
     "text": [
      "\n"
     ]
    },
    {
     "name": "stdout",
     "output_type": "stream",
     "text": [
      "\n",
      "      Epoch    GPU_mem   box_loss   cls_loss   dfl_loss  Instances       Size\n"
     ]
    },
    {
     "name": "stderr",
     "output_type": "stream",
     "text": [
      "      23/30         0G      1.329       1.68      1.427          2        640: 100%|██████████| 7/7 [01:04<00:00,  9.23s/it]\n",
      "                 Class     Images  Instances      Box(P          R      mAP50  mAP50-95): 100%|██████████| 2/2 [00:10<00:00,  5.07s/it]"
     ]
    },
    {
     "name": "stdout",
     "output_type": "stream",
     "text": [
      "                   all         49         38      0.423      0.526      0.385      0.187\n"
     ]
    },
    {
     "name": "stderr",
     "output_type": "stream",
     "text": [
      "\n"
     ]
    },
    {
     "name": "stdout",
     "output_type": "stream",
     "text": [
      "\n",
      "      Epoch    GPU_mem   box_loss   cls_loss   dfl_loss  Instances       Size\n"
     ]
    },
    {
     "name": "stderr",
     "output_type": "stream",
     "text": [
      "      24/30         0G      1.312       1.63      1.441          4        640: 100%|██████████| 7/7 [01:01<00:00,  8.82s/it]\n",
      "                 Class     Images  Instances      Box(P          R      mAP50  mAP50-95): 100%|██████████| 2/2 [00:09<00:00,  4.95s/it]"
     ]
    },
    {
     "name": "stdout",
     "output_type": "stream",
     "text": [
      "                   all         49         38      0.563      0.632      0.502      0.244\n"
     ]
    },
    {
     "name": "stderr",
     "output_type": "stream",
     "text": [
      "\n"
     ]
    },
    {
     "name": "stdout",
     "output_type": "stream",
     "text": [
      "\n",
      "      Epoch    GPU_mem   box_loss   cls_loss   dfl_loss  Instances       Size\n"
     ]
    },
    {
     "name": "stderr",
     "output_type": "stream",
     "text": [
      "      25/30         0G      1.281      1.561      1.319          3        640: 100%|██████████| 7/7 [01:05<00:00,  9.37s/it]\n",
      "                 Class     Images  Instances      Box(P          R      mAP50  mAP50-95): 100%|██████████| 2/2 [00:09<00:00,  4.81s/it]"
     ]
    },
    {
     "name": "stdout",
     "output_type": "stream",
     "text": [
      "                   all         49         38      0.557      0.553      0.463      0.251\n"
     ]
    },
    {
     "name": "stderr",
     "output_type": "stream",
     "text": [
      "\n"
     ]
    },
    {
     "name": "stdout",
     "output_type": "stream",
     "text": [
      "\n",
      "      Epoch    GPU_mem   box_loss   cls_loss   dfl_loss  Instances       Size\n"
     ]
    },
    {
     "name": "stderr",
     "output_type": "stream",
     "text": [
      "      26/30         0G      1.145      1.479      1.254          2        640: 100%|██████████| 7/7 [01:08<00:00,  9.82s/it]\n",
      "                 Class     Images  Instances      Box(P          R      mAP50  mAP50-95): 100%|██████████| 2/2 [00:09<00:00,  4.74s/it]"
     ]
    },
    {
     "name": "stdout",
     "output_type": "stream",
     "text": [
      "                   all         49         38      0.563      0.763      0.537      0.251\n"
     ]
    },
    {
     "name": "stderr",
     "output_type": "stream",
     "text": [
      "\n"
     ]
    },
    {
     "name": "stdout",
     "output_type": "stream",
     "text": [
      "\n",
      "      Epoch    GPU_mem   box_loss   cls_loss   dfl_loss  Instances       Size\n"
     ]
    },
    {
     "name": "stderr",
     "output_type": "stream",
     "text": [
      "      27/30         0G      1.174      1.386      1.309          3        640: 100%|██████████| 7/7 [01:01<00:00,  8.85s/it]\n",
      "                 Class     Images  Instances      Box(P          R      mAP50  mAP50-95): 100%|██████████| 2/2 [00:09<00:00,  4.71s/it]"
     ]
    },
    {
     "name": "stdout",
     "output_type": "stream",
     "text": [
      "                   all         49         38      0.605      0.605      0.507      0.221\n"
     ]
    },
    {
     "name": "stderr",
     "output_type": "stream",
     "text": [
      "\n"
     ]
    },
    {
     "name": "stdout",
     "output_type": "stream",
     "text": [
      "\n",
      "      Epoch    GPU_mem   box_loss   cls_loss   dfl_loss  Instances       Size\n"
     ]
    },
    {
     "name": "stderr",
     "output_type": "stream",
     "text": [
      "      28/30         0G      1.161      1.455      1.264          4        640: 100%|██████████| 7/7 [01:09<00:00,  9.91s/it]\n",
      "                 Class     Images  Instances      Box(P          R      mAP50  mAP50-95): 100%|██████████| 2/2 [00:09<00:00,  4.58s/it]"
     ]
    },
    {
     "name": "stdout",
     "output_type": "stream",
     "text": [
      "                   all         49         38       0.54      0.684      0.496      0.225\n"
     ]
    },
    {
     "name": "stderr",
     "output_type": "stream",
     "text": [
      "\n"
     ]
    },
    {
     "name": "stdout",
     "output_type": "stream",
     "text": [
      "\n",
      "      Epoch    GPU_mem   box_loss   cls_loss   dfl_loss  Instances       Size\n"
     ]
    },
    {
     "name": "stderr",
     "output_type": "stream",
     "text": [
      "      29/30         0G      1.161       1.38      1.288          3        640: 100%|██████████| 7/7 [01:01<00:00,  8.83s/it]\n",
      "                 Class     Images  Instances      Box(P          R      mAP50  mAP50-95): 100%|██████████| 2/2 [00:09<00:00,  4.73s/it]"
     ]
    },
    {
     "name": "stdout",
     "output_type": "stream",
     "text": [
      "                   all         49         38      0.547      0.668      0.494       0.23\n"
     ]
    },
    {
     "name": "stderr",
     "output_type": "stream",
     "text": [
      "\n"
     ]
    },
    {
     "name": "stdout",
     "output_type": "stream",
     "text": [
      "\n",
      "      Epoch    GPU_mem   box_loss   cls_loss   dfl_loss  Instances       Size\n"
     ]
    },
    {
     "name": "stderr",
     "output_type": "stream",
     "text": [
      "      30/30         0G      1.249      1.429      1.347          3        640: 100%|██████████| 7/7 [00:53<00:00,  7.65s/it]\n",
      "                 Class     Images  Instances      Box(P          R      mAP50  mAP50-95): 100%|██████████| 2/2 [00:09<00:00,  4.83s/it]"
     ]
    },
    {
     "name": "stdout",
     "output_type": "stream",
     "text": [
      "                   all         49         38      0.546      0.658      0.498      0.221\n"
     ]
    },
    {
     "name": "stderr",
     "output_type": "stream",
     "text": [
      "\n"
     ]
    },
    {
     "name": "stdout",
     "output_type": "stream",
     "text": [
      "\n",
      "30 epochs completed in 0.842 hours.\n",
      "Optimizer stripped from runs\\detect\\train29\\weights\\last.pt, 6.2MB\n",
      "Optimizer stripped from runs\\detect\\train29\\weights\\best.pt, 6.2MB\n",
      "\n",
      "Validating runs\\detect\\train29\\weights\\best.pt...\n",
      "Ultralytics 8.3.78  Python-3.12.4 torch-2.6.0+cpu CPU (AMD Ryzen 5 5500U with Radeon Graphics)\n",
      "Model summary (fused): 72 layers, 3,005,843 parameters, 0 gradients, 8.1 GFLOPs\n"
     ]
    },
    {
     "name": "stderr",
     "output_type": "stream",
     "text": [
      "                 Class     Images  Instances      Box(P          R      mAP50  mAP50-95): 100%|██████████| 2/2 [00:09<00:00,  4.57s/it]\n"
     ]
    },
    {
     "name": "stdout",
     "output_type": "stream",
     "text": [
      "                   all         49         38      0.563      0.763      0.537      0.251\n",
      "Speed: 3.6ms preprocess, 159.5ms inference, 0.0ms loss, 11.3ms postprocess per image\n",
      "Results saved to \u001b[1mruns\\detect\\train29\u001b[0m\n"
     ]
    }
   ],
   "source": [
    "from ultralytics import YOLO\n",
    "\n",
    "model = YOLO('yolov8n.pt') \n",
    "\n",
    "results = model.train(data=\"C:/Users/Owen/Downloads/Brain_tumor_od/Tumor/Tumor.yaml\", epochs=30, imgsz=640, device='cpu')"
   ]
  },
  {
   "cell_type": "code",
   "execution_count": 42,
   "id": "08a666de-2b8c-483c-8b67-f7207360b47d",
   "metadata": {},
   "outputs": [
    {
     "name": "stdout",
     "output_type": "stream",
     "text": [
      "Ultralytics 8.3.78  Python-3.12.4 torch-2.6.0+cpu CPU (AMD Ryzen 5 5500U with Radeon Graphics)\n",
      "Model summary (fused): 72 layers, 3,005,843 parameters, 0 gradients, 8.1 GFLOPs\n"
     ]
    },
    {
     "name": "stderr",
     "output_type": "stream",
     "text": [
      "\u001b[34m\u001b[1mval: \u001b[0mScanning C:\\Users\\Owen\\Downloads\\Brain_tumor_od\\Tumor\\labels\\Test.cache... 33 images, 16 backgrounds, 0 corrupt: 100%|██████████| 49/49 [00:00<?, ?it/s]\n",
      "                 Class     Images  Instances      Box(P          R      mAP50  mAP50-95): 100%|██████████| 4/4 [00:08<00:00,  2.14s/it]\n"
     ]
    },
    {
     "name": "stdout",
     "output_type": "stream",
     "text": [
      "                   all         49         38      0.563      0.745      0.533      0.249\n",
      "Speed: 4.1ms preprocess, 142.3ms inference, 0.0ms loss, 8.0ms postprocess per image\n",
      "Results saved to \u001b[1mruns\\detect\\val\u001b[0m\n"
     ]
    },
    {
     "data": {
      "text/plain": [
       "array([    0.24895])"
      ]
     },
     "execution_count": 42,
     "metadata": {},
     "output_type": "execute_result"
    }
   ],
   "source": [
    "from ultralytics import YOLO\n",
    "\n",
    "# Load a model\n",
    "model = YOLO(\"C:/Users/Owen/runs/detect/train29/weights/best.pt\") # load a custom model\n",
    "\n",
    "# Validate the model\n",
    "metrics = model.val()  # no arguments needed, dataset and settings remembered\n",
    "metrics.box.map    # map50-95\n",
    "metrics.box.map50  # map50\n",
    "metrics.box.map75  # map75\n",
    "metrics.box.maps   # a list contains map50-95 of each category"
   ]
  },
  {
   "cell_type": "code",
   "execution_count": 44,
   "id": "d104d801-4b45-4674-a17d-1f82522d95ce",
   "metadata": {},
   "outputs": [
    {
     "name": "stdout",
     "output_type": "stream",
     "text": [
      "Collecting onnx2tf\n",
      "  Downloading onnx2tf-1.26.9-py3-none-any.whl.metadata (147 kB)\n",
      "Downloading onnx2tf-1.26.9-py3-none-any.whl (446 kB)\n",
      "Installing collected packages: onnx2tf\n",
      "Successfully installed onnx2tf-1.26.9\n",
      "Note: you may need to restart the kernel to use updated packages.\n"
     ]
    },
    {
     "name": "stderr",
     "output_type": "stream",
     "text": [
      "WARNING: Ignoring invalid distribution ~orch (C:\\Users\\Owen\\anaconda3\\Lib\\site-packages)\n",
      "WARNING: Ignoring invalid distribution ~orch (C:\\Users\\Owen\\anaconda3\\Lib\\site-packages)\n",
      "WARNING: Ignoring invalid distribution ~orch (C:\\Users\\Owen\\anaconda3\\Lib\\site-packages)\n"
     ]
    }
   ],
   "source": [
    "pip install onnx2tf"
   ]
  },
  {
   "cell_type": "code",
   "execution_count": 46,
   "id": "a4fa6c36-6e08-499b-a9ef-6eed2b51dc5e",
   "metadata": {},
   "outputs": [
    {
     "name": "stdout",
     "output_type": "stream",
     "text": [
      "WARNING:tensorflow:From C:\\Users\\Owen\\anaconda3\\Lib\\site-packages\\tf_keras\\src\\losses.py:2976: The name tf.losses.sparse_softmax_cross_entropy is deprecated. Please use tf.compat.v1.losses.sparse_softmax_cross_entropy instead.\n",
      "\n"
     ]
    },
    {
     "ename": "ModuleNotFoundError",
     "evalue": "No module named 'onnx'",
     "output_type": "error",
     "traceback": [
      "\u001b[1;31m---------------------------------------------------------------------------\u001b[0m",
      "\u001b[1;31mModuleNotFoundError\u001b[0m                       Traceback (most recent call last)",
      "Cell \u001b[1;32mIn[46], line 1\u001b[0m\n\u001b[1;32m----> 1\u001b[0m \u001b[38;5;28;01mimport\u001b[39;00m \u001b[38;5;21;01monnx2tf\u001b[39;00m\n\u001b[0;32m      2\u001b[0m \u001b[38;5;28mprint\u001b[39m(onnx2tf\u001b[38;5;241m.\u001b[39m__version__)\n",
      "File \u001b[1;32m~\\anaconda3\\Lib\\site-packages\\onnx2tf\\__init__.py:1\u001b[0m\n\u001b[1;32m----> 1\u001b[0m \u001b[38;5;28;01mfrom\u001b[39;00m \u001b[38;5;21;01monnx2tf\u001b[39;00m\u001b[38;5;21;01m.\u001b[39;00m\u001b[38;5;21;01monnx2tf\u001b[39;00m \u001b[38;5;28;01mimport\u001b[39;00m convert, main\n\u001b[0;32m      3\u001b[0m __version__ \u001b[38;5;241m=\u001b[39m \u001b[38;5;124m'\u001b[39m\u001b[38;5;124m1.26.9\u001b[39m\u001b[38;5;124m'\u001b[39m\n",
      "File \u001b[1;32m~\\anaconda3\\Lib\\site-packages\\onnx2tf\\onnx2tf.py:38\u001b[0m\n\u001b[0;32m     35\u001b[0m \u001b[38;5;28;01mfrom\u001b[39;00m \u001b[38;5;21;01mabsl\u001b[39;00m \u001b[38;5;28;01mimport\u001b[39;00m logging \u001b[38;5;28;01mas\u001b[39;00m absl_logging\n\u001b[0;32m     36\u001b[0m absl_logging\u001b[38;5;241m.\u001b[39mset_verbosity(absl_logging\u001b[38;5;241m.\u001b[39mERROR)\n\u001b[1;32m---> 38\u001b[0m \u001b[38;5;28;01mimport\u001b[39;00m \u001b[38;5;21;01monnx\u001b[39;00m\n\u001b[0;32m     39\u001b[0m \u001b[38;5;28;01mimport\u001b[39;00m \u001b[38;5;21;01monnx_graphsurgeon\u001b[39;00m \u001b[38;5;28;01mas\u001b[39;00m \u001b[38;5;21;01mgs\u001b[39;00m\n\u001b[0;32m     40\u001b[0m \u001b[38;5;28;01mfrom\u001b[39;00m \u001b[38;5;21;01mtyping\u001b[39;00m \u001b[38;5;28;01mimport\u001b[39;00m Optional, List, Any, Dict\n",
      "\u001b[1;31mModuleNotFoundError\u001b[0m: No module named 'onnx'"
     ]
    }
   ],
   "source": [
    "import onnx2tf\n",
    "print(onnx2tf.__version__)"
   ]
  },
  {
   "cell_type": "code",
   "execution_count": 30,
   "id": "0a3bb18c-9c3e-4371-a875-15a1a81dacc6",
   "metadata": {},
   "outputs": [
    {
     "name": "stdout",
     "output_type": "stream",
     "text": [
      "Collecting onnx2tf==1.17.5\n",
      "  Downloading onnx2tf-1.17.5-py3-none-any.whl.metadata (127 kB)\n",
      "Downloading onnx2tf-1.17.5-py3-none-any.whl (400 kB)\n",
      "Installing collected packages: onnx2tf\n",
      "  Attempting uninstall: onnx2tf\n",
      "    Found existing installation: onnx2tf 1.26.3\n",
      "    Uninstalling onnx2tf-1.26.3:\n",
      "      Successfully uninstalled onnx2tf-1.26.3\n",
      "Successfully installed onnx2tf-1.17.5\n",
      "Note: you may need to restart the kernel to use updated packages.\n"
     ]
    },
    {
     "name": "stderr",
     "output_type": "stream",
     "text": [
      "WARNING: Ignoring invalid distribution ~orch (C:\\Users\\Owen\\anaconda3\\Lib\\site-packages)\n",
      "WARNING: Ignoring invalid distribution ~orch (C:\\Users\\Owen\\anaconda3\\Lib\\site-packages)\n",
      "WARNING: Ignoring invalid distribution ~orch (C:\\Users\\Owen\\anaconda3\\Lib\\site-packages)\n"
     ]
    }
   ],
   "source": [
    "pip install onnx2tf==1.17.5"
   ]
  },
  {
   "cell_type": "code",
   "execution_count": 36,
   "id": "8fb926ac-327d-4d91-9773-dece41ee8e3c",
   "metadata": {},
   "outputs": [
    {
     "name": "stdout",
     "output_type": "stream",
     "text": [
      "Looking in links: https://download.pytorch.org/whl/torch_stable.htmlNote: you may need to restart the kernel to use updated packages.\n"
     ]
    },
    {
     "name": "stderr",
     "output_type": "stream",
     "text": [
      "WARNING: Ignoring invalid distribution ~orch (C:\\Users\\Owen\\anaconda3\\Lib\\site-packages)\n",
      "ERROR: Could not find a version that satisfies the requirement torch==2.6.0+cpu (from versions: 2.2.0, 2.2.0+cpu, 2.2.0+cu118, 2.2.0+cu121, 2.2.1, 2.2.1+cpu, 2.2.1+cu118, 2.2.1+cu121, 2.2.2, 2.2.2+cpu, 2.2.2+cu118, 2.2.2+cu121, 2.3.0, 2.3.0+cpu, 2.3.0+cu118, 2.3.0+cu121, 2.3.1, 2.3.1+cpu, 2.3.1+cu118, 2.3.1+cu121, 2.4.0, 2.4.1, 2.5.0, 2.5.1, 2.6.0)\n",
      "ERROR: No matching distribution found for torch==2.6.0+cpu\n"
     ]
    },
    {
     "name": "stdout",
     "output_type": "stream",
     "text": [
      "\n"
     ]
    }
   ],
   "source": [
    "pip install torch==2.6.0+cpu -f https://download.pytorch.org/whl/torch_stable.html"
   ]
  },
  {
   "cell_type": "code",
   "execution_count": 38,
   "id": "82f5c451-630a-40c4-91b9-f94830c16d30",
   "metadata": {},
   "outputs": [
    {
     "name": "stdout",
     "output_type": "stream",
     "text": [
      "Ultralytics 8.3.78  Python-3.12.4 torch-2.6.0+cu118 CPU (AMD Ryzen 5 5500U with Radeon Graphics)\n",
      "Model summary (fused): 72 layers, 3,005,843 parameters, 0 gradients, 8.1 GFLOPs\n",
      "\n",
      "\u001b[34m\u001b[1mPyTorch:\u001b[0m starting from 'C:\\Users\\Owen\\runs\\detect\\train29\\weights\\best.pt' with input shape (1, 3, 640, 640) BCHW and output shape(s) (1, 5, 8400) (5.9 MB)\n",
      "\n",
      "\u001b[34m\u001b[1mONNX:\u001b[0m starting export with onnx 1.16.0 opset 19...\n",
      "\u001b[34m\u001b[1mONNX:\u001b[0m slimming with onnxslim 0.1.48...\n",
      "\u001b[34m\u001b[1mONNX:\u001b[0m export success  69.7s, saved as 'C:\\Users\\Owen\\runs\\detect\\train29\\weights\\best.onnx' (11.7 MB)\n",
      "\n",
      "Export complete (75.1s)\n",
      "Results saved to \u001b[1mC:\\Users\\Owen\\runs\\detect\\train29\\weights\u001b[0m\n",
      "Predict:         yolo predict task=detect model=C:\\Users\\Owen\\runs\\detect\\train29\\weights\\best.onnx imgsz=640  \n",
      "Validate:        yolo val task=detect model=C:\\Users\\Owen\\runs\\detect\\train29\\weights\\best.onnx imgsz=640 data=C:/Users/Owen/Downloads/Brain_tumor_od/Tumor/Tumor.yaml  \n",
      "Visualize:       https://netron.app\n"
     ]
    },
    {
     "data": {
      "text/plain": [
       "'C:\\\\Users\\\\Owen\\\\runs\\\\detect\\\\train29\\\\weights\\\\best.onnx'"
      ]
     },
     "execution_count": 38,
     "metadata": {},
     "output_type": "execute_result"
    }
   ],
   "source": [
    "model.export(format='onnx', imgsz=640)"
   ]
  },
  {
   "cell_type": "code",
   "execution_count": 48,
   "id": "7d4e6d20-abca-4543-ab1b-0516e00cd87d",
   "metadata": {},
   "outputs": [
    {
     "ename": "SyntaxError",
     "evalue": "invalid syntax (35607492.py, line 1)",
     "output_type": "error",
     "traceback": [
      "\u001b[1;36m  Cell \u001b[1;32mIn[48], line 1\u001b[1;36m\u001b[0m\n\u001b[1;33m    onnx2tf -i \"C:/Users/Owen/runs/detect/train29/weights/best.onnx\" -o \"C:/Users/Owen/runs/detect/train29/weights\" --overwrite-input-shape 1,3,640,640 --keep-nchw --disable-group-convolution --enable-batchmatmul-unfold=False\u001b[0m\n\u001b[1;37m               ^\u001b[0m\n\u001b[1;31mSyntaxError\u001b[0m\u001b[1;31m:\u001b[0m invalid syntax\n"
     ]
    }
   ],
   "source": [
    "onnx2tf -i \"C:/Users/Owen/runs/detect/train29/weights/best.onnx\" -o \"C:/Users/Owen/runs/detect/train29/weights\" --overwrite-input-shape 1,3,640,640 --keep-nchw --disable-group-convolution --enable-batchmatmul-unfold=False"
   ]
  },
  {
   "cell_type": "code",
   "execution_count": null,
   "id": "296143c3-8ef1-4460-981a-d1fe81a010d3",
   "metadata": {},
   "outputs": [],
   "source": []
  },
  {
   "cell_type": "code",
   "execution_count": 58,
   "id": "43991e1e-5193-41a3-85b9-f352b161ecd1",
   "metadata": {},
   "outputs": [
    {
     "name": "stdout",
     "output_type": "stream",
     "text": [
      "Note: you may need to restart the kernel to use updated packages.\n"
     ]
    },
    {
     "name": "stderr",
     "output_type": "stream",
     "text": [
      "The system cannot find the file specified.\n"
     ]
    }
   ],
   "source": [
    "pip install onnx2tf>=1.17.5,<=1.26.3"
   ]
  },
  {
   "cell_type": "code",
   "execution_count": 8,
   "id": "1a849f47-f475-4fc7-9243-cd442d3c67a4",
   "metadata": {},
   "outputs": [
    {
     "name": "stdout",
     "output_type": "stream",
     "text": [
      "Note: you may need to restart the kernel to use updated packages.\n"
     ]
    },
    {
     "name": "stderr",
     "output_type": "stream",
     "text": [
      "WARNING: Ignoring invalid distribution ~orch (C:\\Users\\Owen\\anaconda3\\Lib\\site-packages)\n",
      "WARNING: Ignoring invalid distribution ~orch (C:\\Users\\Owen\\anaconda3\\Lib\\site-packages)\n",
      "WARNING: Ignoring invalid distribution ~orch (C:\\Users\\Owen\\anaconda3\\Lib\\site-packages)\n"
     ]
    }
   ],
   "source": [
    "pip install sng4onnx>=1.0.1"
   ]
  },
  {
   "cell_type": "code",
   "execution_count": 6,
   "id": "be106f93-2afe-4f42-ab23-57f846bc6bee",
   "metadata": {},
   "outputs": [
    {
     "name": "stdout",
     "output_type": "stream",
     "text": [
      "Requirement already satisfied: onnxruntime in c:\\users\\owen\\anaconda3\\lib\\site-packages (1.21.0)\n",
      "Requirement already satisfied: coloredlogs in c:\\users\\owen\\anaconda3\\lib\\site-packages (from onnxruntime) (15.0.1)\n",
      "Requirement already satisfied: flatbuffers in c:\\users\\owen\\anaconda3\\lib\\site-packages (from onnxruntime) (24.3.25)\n",
      "Requirement already satisfied: numpy>=1.21.6 in c:\\users\\owen\\anaconda3\\lib\\site-packages (from onnxruntime) (1.26.4)\n",
      "Requirement already satisfied: packaging in c:\\users\\owen\\anaconda3\\lib\\site-packages (from onnxruntime) (23.2)\n",
      "Requirement already satisfied: protobuf in c:\\users\\owen\\anaconda3\\lib\\site-packages (from onnxruntime) (5.29.3)\n",
      "Requirement already satisfied: sympy in c:\\users\\owen\\anaconda3\\lib\\site-packages (from onnxruntime) (1.13.1)\n",
      "Requirement already satisfied: humanfriendly>=9.1 in c:\\users\\owen\\anaconda3\\lib\\site-packages (from coloredlogs->onnxruntime) (10.0)\n",
      "Requirement already satisfied: mpmath<1.4,>=1.1.0 in c:\\users\\owen\\anaconda3\\lib\\site-packages (from sympy->onnxruntime) (1.3.0)\n",
      "Requirement already satisfied: pyreadline3 in c:\\users\\owen\\anaconda3\\lib\\site-packages (from humanfriendly>=9.1->coloredlogs->onnxruntime) (3.5.4)\n",
      "Note: you may need to restart the kernel to use updated packages.\n"
     ]
    },
    {
     "name": "stderr",
     "output_type": "stream",
     "text": [
      "WARNING: Ignoring invalid distribution ~orch (C:\\Users\\Owen\\anaconda3\\Lib\\site-packages)\n",
      "WARNING: Ignoring invalid distribution ~orch (C:\\Users\\Owen\\anaconda3\\Lib\\site-packages)\n",
      "WARNING: Ignoring invalid distribution ~orch (C:\\Users\\Owen\\anaconda3\\Lib\\site-packages)\n"
     ]
    }
   ],
   "source": [
    "pip install onnxruntime"
   ]
  },
  {
   "cell_type": "code",
   "execution_count": 70,
   "id": "b601b9d0-2cc4-4de9-8e62-9ed787215c3c",
   "metadata": {},
   "outputs": [
    {
     "name": "stdout",
     "output_type": "stream",
     "text": [
      "Note: you may need to restart the kernel to use updated packages.\n"
     ]
    },
    {
     "name": "stderr",
     "output_type": "stream",
     "text": [
      "WARNING: Ignoring invalid distribution ~orch (C:\\Users\\Owen\\anaconda3\\Lib\\site-packages)\n",
      "WARNING: Ignoring invalid distribution ~orch (C:\\Users\\Owen\\anaconda3\\Lib\\site-packages)\n",
      "WARNING: Ignoring invalid distribution ~orch (C:\\Users\\Owen\\anaconda3\\Lib\\site-packages)\n"
     ]
    }
   ],
   "source": [
    "pip install onnxslim>=0.1.31"
   ]
  },
  {
   "cell_type": "code",
   "execution_count": 72,
   "id": "10389e80-5df8-4589-b268-d9a6ba024cc6",
   "metadata": {},
   "outputs": [
    {
     "name": "stdout",
     "output_type": "stream",
     "text": [
      "Note: you may need to restart the kernel to use updated packages.\n"
     ]
    },
    {
     "name": "stderr",
     "output_type": "stream",
     "text": [
      "WARNING: Ignoring invalid distribution ~orch (C:\\Users\\Owen\\anaconda3\\Lib\\site-packages)\n",
      "WARNING: Ignoring invalid distribution ~orch (C:\\Users\\Owen\\anaconda3\\Lib\\site-packages)\n",
      "WARNING: Ignoring invalid distribution ~orch (C:\\Users\\Owen\\anaconda3\\Lib\\site-packages)\n"
     ]
    }
   ],
   "source": [
    "pip install sng4onnx>=1.0.1"
   ]
  },
  {
   "cell_type": "code",
   "execution_count": 68,
   "id": "0e62a91a-82d1-4647-a8ee-dd7356f43412",
   "metadata": {},
   "outputs": [
    {
     "name": "stdout",
     "output_type": "stream",
     "text": [
      "Note: you may need to restart the kernel to use updated packages.\n"
     ]
    },
    {
     "name": "stderr",
     "output_type": "stream",
     "text": [
      "WARNING: Ignoring invalid distribution ~orch (C:\\Users\\Owen\\anaconda3\\Lib\\site-packages)\n",
      "WARNING: Ignoring invalid distribution ~orch (C:\\Users\\Owen\\anaconda3\\Lib\\site-packages)\n",
      "WARNING: Ignoring invalid distribution ~orch (C:\\Users\\Owen\\anaconda3\\Lib\\site-packages)\n"
     ]
    }
   ],
   "source": [
    "pip install onnx_graphsurgeon>=0.3.26"
   ]
  },
  {
   "cell_type": "code",
   "execution_count": 4,
   "id": "d8f12dd4-8442-4e45-a7b6-76f1a7e3294f",
   "metadata": {},
   "outputs": [
    {
     "name": "stdout",
     "output_type": "stream",
     "text": [
      "Requirement already satisfied: tflite_support in c:\\users\\owen\\anaconda3\\lib\\site-packages (0.1.0a1)\n",
      "Requirement already satisfied: pybind11>=2.4 in c:\\users\\owen\\anaconda3\\lib\\site-packages (from tflite_support) (2.13.6)\n",
      "Requirement already satisfied: absl-py>=0.7.0 in c:\\users\\owen\\anaconda3\\lib\\site-packages (from tflite_support) (2.1.0)\n",
      "Requirement already satisfied: numpy in c:\\users\\owen\\anaconda3\\lib\\site-packages (from tflite_support) (1.26.4)\n",
      "Note: you may need to restart the kernel to use updated packages.\n"
     ]
    },
    {
     "name": "stderr",
     "output_type": "stream",
     "text": [
      "WARNING: Ignoring invalid distribution ~orch (C:\\Users\\Owen\\anaconda3\\Lib\\site-packages)\n",
      "WARNING: Ignoring invalid distribution ~orch (C:\\Users\\Owen\\anaconda3\\Lib\\site-packages)\n",
      "WARNING: Ignoring invalid distribution ~orch (C:\\Users\\Owen\\anaconda3\\Lib\\site-packages)\n"
     ]
    }
   ],
   "source": [
    "pip install tflite_support"
   ]
  },
  {
   "cell_type": "code",
   "execution_count": 60,
   "id": "1c221aa3-4a76-44c2-890a-11351fb858d5",
   "metadata": {},
   "outputs": [
    {
     "ename": "ImportError",
     "evalue": "DLL load failed while importing onnx_cpp2py_export: A dynamic link library (DLL) initialization routine failed.",
     "output_type": "error",
     "traceback": [
      "\u001b[1;31m---------------------------------------------------------------------------\u001b[0m",
      "\u001b[1;31mImportError\u001b[0m                               Traceback (most recent call last)",
      "Cell \u001b[1;32mIn[60], line 1\u001b[0m\n\u001b[1;32m----> 1\u001b[0m \u001b[38;5;28;01mimport\u001b[39;00m \u001b[38;5;21;01monnx\u001b[39;00m\n\u001b[0;32m      2\u001b[0m \u001b[38;5;28mprint\u001b[39m(onnx\u001b[38;5;241m.\u001b[39m__version__)\n",
      "File \u001b[1;32m~\\anaconda3\\Lib\\site-packages\\onnx\\__init__.py:77\u001b[0m\n\u001b[0;32m     73\u001b[0m \u001b[38;5;28;01mfrom\u001b[39;00m \u001b[38;5;21;01mtyping\u001b[39;00m \u001b[38;5;28;01mimport\u001b[39;00m IO, Literal, Union\n\u001b[0;32m     76\u001b[0m \u001b[38;5;28;01mfrom\u001b[39;00m \u001b[38;5;21;01monnx\u001b[39;00m \u001b[38;5;28;01mimport\u001b[39;00m serialization\n\u001b[1;32m---> 77\u001b[0m \u001b[38;5;28;01mfrom\u001b[39;00m \u001b[38;5;21;01monnx\u001b[39;00m\u001b[38;5;21;01m.\u001b[39;00m\u001b[38;5;21;01monnx_cpp2py_export\u001b[39;00m \u001b[38;5;28;01mimport\u001b[39;00m ONNX_ML\n\u001b[0;32m     78\u001b[0m \u001b[38;5;28;01mfrom\u001b[39;00m \u001b[38;5;21;01monnx\u001b[39;00m\u001b[38;5;21;01m.\u001b[39;00m\u001b[38;5;21;01mexternal_data_helper\u001b[39;00m \u001b[38;5;28;01mimport\u001b[39;00m (\n\u001b[0;32m     79\u001b[0m     load_external_data_for_model,\n\u001b[0;32m     80\u001b[0m     write_external_data_tensors,\n\u001b[0;32m     81\u001b[0m     convert_model_to_external_data,\n\u001b[0;32m     82\u001b[0m )\n\u001b[0;32m     83\u001b[0m \u001b[38;5;28;01mfrom\u001b[39;00m \u001b[38;5;21;01monnx\u001b[39;00m\u001b[38;5;21;01m.\u001b[39;00m\u001b[38;5;21;01monnx_pb\u001b[39;00m \u001b[38;5;28;01mimport\u001b[39;00m (\n\u001b[0;32m     84\u001b[0m     AttributeProto,\n\u001b[0;32m     85\u001b[0m     EXPERIMENTAL,\n\u001b[1;32m   (...)\u001b[0m\n\u001b[0;32m    111\u001b[0m     Version,\n\u001b[0;32m    112\u001b[0m )\n",
      "\u001b[1;31mImportError\u001b[0m: DLL load failed while importing onnx_cpp2py_export: A dynamic link library (DLL) initialization routine failed."
     ]
    }
   ],
   "source": [
    "import onnx\n",
    "print(onnx.__version__)"
   ]
  },
  {
   "cell_type": "code",
   "execution_count": 21,
   "id": "1fa1e01f-579e-4901-a259-5439cacae8b5",
   "metadata": {},
   "outputs": [
    {
     "name": "stdout",
     "output_type": "stream",
     "text": [
      "Collecting onnx==1.16.0\n",
      "  Downloading onnx-1.16.0-cp312-cp312-win_amd64.whl.metadata (16 kB)\n",
      "Requirement already satisfied: numpy>=1.20 in c:\\users\\owen\\anaconda3\\lib\\site-packages (from onnx==1.16.0) (1.26.4)\n",
      "Requirement already satisfied: protobuf>=3.20.2 in c:\\users\\owen\\anaconda3\\lib\\site-packages (from onnx==1.16.0) (5.29.3)\n",
      "Downloading onnx-1.16.0-cp312-cp312-win_amd64.whl (14.4 MB)\n",
      "   ---------------------------------------- 0.0/14.4 MB ? eta -:--:--\n",
      "   ---- ----------------------------------- 1.6/14.4 MB 10.5 MB/s eta 0:00:02\n",
      "   ---------- ----------------------------- 3.7/14.4 MB 9.9 MB/s eta 0:00:02\n",
      "   --------------- ------------------------ 5.5/14.4 MB 10.2 MB/s eta 0:00:01\n",
      "   ------------------- -------------------- 7.1/14.4 MB 9.1 MB/s eta 0:00:01\n",
      "   ----------------------- ---------------- 8.4/14.4 MB 8.4 MB/s eta 0:00:01\n",
      "   -------------------------- ------------- 9.7/14.4 MB 7.9 MB/s eta 0:00:01\n",
      "   ------------------------------ --------- 11.0/14.4 MB 7.7 MB/s eta 0:00:01\n",
      "   ---------------------------------- ----- 12.3/14.4 MB 7.6 MB/s eta 0:00:01\n",
      "   ------------------------------------- -- 13.6/14.4 MB 7.4 MB/s eta 0:00:01\n",
      "   ---------------------------------------- 14.4/14.4 MB 7.1 MB/s eta 0:00:00\n",
      "Installing collected packages: onnx\n",
      "  Attempting uninstall: onnx\n",
      "    Found existing installation: onnx 1.17.0\n",
      "    Uninstalling onnx-1.17.0:\n",
      "      Successfully uninstalled onnx-1.17.0\n",
      "Successfully installed onnx-1.16.0\n",
      "Note: you may need to restart the kernel to use updated packages.\n"
     ]
    },
    {
     "name": "stderr",
     "output_type": "stream",
     "text": [
      "WARNING: Ignoring invalid distribution ~orch (C:\\Users\\Owen\\anaconda3\\Lib\\site-packages)\n",
      "WARNING: Ignoring invalid distribution ~orch (C:\\Users\\Owen\\anaconda3\\Lib\\site-packages)\n",
      "WARNING: Ignoring invalid distribution ~orch (C:\\Users\\Owen\\anaconda3\\Lib\\site-packages)\n"
     ]
    }
   ],
   "source": [
    "pip install onnx==1.16.0"
   ]
  },
  {
   "cell_type": "code",
   "execution_count": null,
   "id": "90596930-9b05-46cb-9298-64a83fa8e143",
   "metadata": {},
   "outputs": [],
   "source": [
    "import onnx\n",
    "import onnx2tf\n",
    "import sng4onnx\n",
    "import onnx_graphsurgeon\n",
    "import onnxslim\n",
    "import tflite_support\n",
    "import onnxruntime\n",
    "\n",
    "print(\"Semua library berhasil di-import!\")"
   ]
  },
  {
   "cell_type": "code",
   "execution_count": null,
   "id": "ad58258b-795c-48bc-a98c-315004d81e1c",
   "metadata": {},
   "outputs": [],
   "source": [
    "from ultralytics import YOLO\n",
    "\n",
    "# Load a pretrained YOLOv8n model\n",
    "model = YOLO('runs\\\\detect\\\\train3\\\\weights\\\\best_saved_model\\\\best_float32.tflite')\n",
    "\n",
    "# Run inference \n",
    "model.predict('test_images', save=True, imgsz=640, conf=0.2)"
   ]
  },
  {
   "cell_type": "code",
   "execution_count": null,
   "id": "7820af69-c88a-46b8-8425-fef792b992dc",
   "metadata": {},
   "outputs": [],
   "source": []
  }
 ],
 "metadata": {
  "kernelspec": {
   "display_name": "Python 3 (ipykernel)",
   "language": "python",
   "name": "python3"
  },
  "language_info": {
   "codemirror_mode": {
    "name": "ipython",
    "version": 3
   },
   "file_extension": ".py",
   "mimetype": "text/x-python",
   "name": "python",
   "nbconvert_exporter": "python",
   "pygments_lexer": "ipython3",
   "version": "3.12.4"
  }
 },
 "nbformat": 4,
 "nbformat_minor": 5
}
